{
  "nbformat": 4,
  "nbformat_minor": 0,
  "metadata": {
    "colab": {
      "name": "Univariate_linear_regression.ipynb",
      "provenance": [],
      "authorship_tag": "ABX9TyOTt6C6YbvGJ3jiFkNOyLD+",
      "include_colab_link": true
    },
    "kernelspec": {
      "name": "python3",
      "display_name": "Python 3"
    },
    "language_info": {
      "name": "python"
    }
  },
  "cells": [
    {
      "cell_type": "markdown",
      "metadata": {
        "id": "view-in-github",
        "colab_type": "text"
      },
      "source": [
        "<a href=\"https://colab.research.google.com/github/bikash086-ctrl/MLnow_2.0/blob/main/Univariate_linear_regression.ipynb\" target=\"_parent\"><img src=\"https://colab.research.google.com/assets/colab-badge.svg\" alt=\"Open In Colab\"/></a>"
      ]
    },
    {
      "cell_type": "code",
      "metadata": {
        "colab": {
          "base_uri": "https://localhost:8080/"
        },
        "id": "ix-TKTBub32J",
        "outputId": "6ad25b43-c05f-47bb-b0ba-3a9dfb5d3648"
      },
      "source": [
        "from google.colab import drive\n",
        "drive.mount('/content/drive')"
      ],
      "execution_count": 1,
      "outputs": [
        {
          "output_type": "stream",
          "text": [
            "Mounted at /content/drive\n"
          ],
          "name": "stdout"
        }
      ]
    },
    {
      "cell_type": "code",
      "metadata": {
        "id": "i_NGsgUAetbE",
        "colab": {
          "base_uri": "https://localhost:8080/"
        },
        "outputId": "b9fd5e70-0fc3-4b8e-9a6a-df6e598e60e7"
      },
      "source": [
        "cd'/content/drive/MyDrive/student/student'"
      ],
      "execution_count": 2,
      "outputs": [
        {
          "output_type": "stream",
          "text": [
            "/content/drive/MyDrive/student/student\n"
          ],
          "name": "stdout"
        }
      ]
    },
    {
      "cell_type": "code",
      "metadata": {
        "colab": {
          "base_uri": "https://localhost:8080/"
        },
        "id": "t33UWxsMmu1U",
        "outputId": "e43dae60-f853-4133-c722-68d114eb325b"
      },
      "source": [
        "ls"
      ],
      "execution_count": 3,
      "outputs": [
        {
          "output_type": "stream",
          "text": [
            "cleanedMathData.csv  student-mat.csv  student-por.csv     student.txt\n",
            "student.gdoc         student-merge.R  student-por.gsheet\n"
          ],
          "name": "stdout"
        }
      ]
    },
    {
      "cell_type": "code",
      "metadata": {
        "id": "55UvB2Y-m73F"
      },
      "source": [
        "import pandas as pd\n",
        "import numpy as np \n",
        "import tensorflow as tf \n",
        "from tensorflow import keras\n",
        "import os"
      ],
      "execution_count": 4,
      "outputs": []
    },
    {
      "cell_type": "code",
      "metadata": {
        "id": "cfKzaLEWnFUV"
      },
      "source": [
        "MathData = pd.read_csv('student-mat.csv', sep=';') "
      ],
      "execution_count": 6,
      "outputs": []
    },
    {
      "cell_type": "code",
      "metadata": {
        "colab": {
          "base_uri": "https://localhost:8080/",
          "height": 375
        },
        "id": "U1_rA5CgnQ6H",
        "outputId": "8aca5543-cbe4-4304-e11c-9236081c36f4"
      },
      "source": [
        "MathData.head(10)"
      ],
      "execution_count": 7,
      "outputs": [
        {
          "output_type": "execute_result",
          "data": {
            "text/html": [
              "<div>\n",
              "<style scoped>\n",
              "    .dataframe tbody tr th:only-of-type {\n",
              "        vertical-align: middle;\n",
              "    }\n",
              "\n",
              "    .dataframe tbody tr th {\n",
              "        vertical-align: top;\n",
              "    }\n",
              "\n",
              "    .dataframe thead th {\n",
              "        text-align: right;\n",
              "    }\n",
              "</style>\n",
              "<table border=\"1\" class=\"dataframe\">\n",
              "  <thead>\n",
              "    <tr style=\"text-align: right;\">\n",
              "      <th></th>\n",
              "      <th>school</th>\n",
              "      <th>sex</th>\n",
              "      <th>age</th>\n",
              "      <th>address</th>\n",
              "      <th>famsize</th>\n",
              "      <th>Pstatus</th>\n",
              "      <th>Medu</th>\n",
              "      <th>Fedu</th>\n",
              "      <th>Mjob</th>\n",
              "      <th>Fjob</th>\n",
              "      <th>reason</th>\n",
              "      <th>guardian</th>\n",
              "      <th>traveltime</th>\n",
              "      <th>studytime</th>\n",
              "      <th>failures</th>\n",
              "      <th>schoolsup</th>\n",
              "      <th>famsup</th>\n",
              "      <th>paid</th>\n",
              "      <th>activities</th>\n",
              "      <th>nursery</th>\n",
              "      <th>higher</th>\n",
              "      <th>internet</th>\n",
              "      <th>romantic</th>\n",
              "      <th>famrel</th>\n",
              "      <th>freetime</th>\n",
              "      <th>goout</th>\n",
              "      <th>Dalc</th>\n",
              "      <th>Walc</th>\n",
              "      <th>health</th>\n",
              "      <th>absences</th>\n",
              "      <th>G1</th>\n",
              "      <th>G2</th>\n",
              "      <th>G3</th>\n",
              "    </tr>\n",
              "  </thead>\n",
              "  <tbody>\n",
              "    <tr>\n",
              "      <th>0</th>\n",
              "      <td>GP</td>\n",
              "      <td>F</td>\n",
              "      <td>18</td>\n",
              "      <td>U</td>\n",
              "      <td>GT3</td>\n",
              "      <td>A</td>\n",
              "      <td>4</td>\n",
              "      <td>4</td>\n",
              "      <td>at_home</td>\n",
              "      <td>teacher</td>\n",
              "      <td>course</td>\n",
              "      <td>mother</td>\n",
              "      <td>2</td>\n",
              "      <td>2</td>\n",
              "      <td>0</td>\n",
              "      <td>yes</td>\n",
              "      <td>no</td>\n",
              "      <td>no</td>\n",
              "      <td>no</td>\n",
              "      <td>yes</td>\n",
              "      <td>yes</td>\n",
              "      <td>no</td>\n",
              "      <td>no</td>\n",
              "      <td>4</td>\n",
              "      <td>3</td>\n",
              "      <td>4</td>\n",
              "      <td>1</td>\n",
              "      <td>1</td>\n",
              "      <td>3</td>\n",
              "      <td>6</td>\n",
              "      <td>5</td>\n",
              "      <td>6</td>\n",
              "      <td>6</td>\n",
              "    </tr>\n",
              "    <tr>\n",
              "      <th>1</th>\n",
              "      <td>GP</td>\n",
              "      <td>F</td>\n",
              "      <td>17</td>\n",
              "      <td>U</td>\n",
              "      <td>GT3</td>\n",
              "      <td>T</td>\n",
              "      <td>1</td>\n",
              "      <td>1</td>\n",
              "      <td>at_home</td>\n",
              "      <td>other</td>\n",
              "      <td>course</td>\n",
              "      <td>father</td>\n",
              "      <td>1</td>\n",
              "      <td>2</td>\n",
              "      <td>0</td>\n",
              "      <td>no</td>\n",
              "      <td>yes</td>\n",
              "      <td>no</td>\n",
              "      <td>no</td>\n",
              "      <td>no</td>\n",
              "      <td>yes</td>\n",
              "      <td>yes</td>\n",
              "      <td>no</td>\n",
              "      <td>5</td>\n",
              "      <td>3</td>\n",
              "      <td>3</td>\n",
              "      <td>1</td>\n",
              "      <td>1</td>\n",
              "      <td>3</td>\n",
              "      <td>4</td>\n",
              "      <td>5</td>\n",
              "      <td>5</td>\n",
              "      <td>6</td>\n",
              "    </tr>\n",
              "    <tr>\n",
              "      <th>2</th>\n",
              "      <td>GP</td>\n",
              "      <td>F</td>\n",
              "      <td>15</td>\n",
              "      <td>U</td>\n",
              "      <td>LE3</td>\n",
              "      <td>T</td>\n",
              "      <td>1</td>\n",
              "      <td>1</td>\n",
              "      <td>at_home</td>\n",
              "      <td>other</td>\n",
              "      <td>other</td>\n",
              "      <td>mother</td>\n",
              "      <td>1</td>\n",
              "      <td>2</td>\n",
              "      <td>3</td>\n",
              "      <td>yes</td>\n",
              "      <td>no</td>\n",
              "      <td>yes</td>\n",
              "      <td>no</td>\n",
              "      <td>yes</td>\n",
              "      <td>yes</td>\n",
              "      <td>yes</td>\n",
              "      <td>no</td>\n",
              "      <td>4</td>\n",
              "      <td>3</td>\n",
              "      <td>2</td>\n",
              "      <td>2</td>\n",
              "      <td>3</td>\n",
              "      <td>3</td>\n",
              "      <td>10</td>\n",
              "      <td>7</td>\n",
              "      <td>8</td>\n",
              "      <td>10</td>\n",
              "    </tr>\n",
              "    <tr>\n",
              "      <th>3</th>\n",
              "      <td>GP</td>\n",
              "      <td>F</td>\n",
              "      <td>15</td>\n",
              "      <td>U</td>\n",
              "      <td>GT3</td>\n",
              "      <td>T</td>\n",
              "      <td>4</td>\n",
              "      <td>2</td>\n",
              "      <td>health</td>\n",
              "      <td>services</td>\n",
              "      <td>home</td>\n",
              "      <td>mother</td>\n",
              "      <td>1</td>\n",
              "      <td>3</td>\n",
              "      <td>0</td>\n",
              "      <td>no</td>\n",
              "      <td>yes</td>\n",
              "      <td>yes</td>\n",
              "      <td>yes</td>\n",
              "      <td>yes</td>\n",
              "      <td>yes</td>\n",
              "      <td>yes</td>\n",
              "      <td>yes</td>\n",
              "      <td>3</td>\n",
              "      <td>2</td>\n",
              "      <td>2</td>\n",
              "      <td>1</td>\n",
              "      <td>1</td>\n",
              "      <td>5</td>\n",
              "      <td>2</td>\n",
              "      <td>15</td>\n",
              "      <td>14</td>\n",
              "      <td>15</td>\n",
              "    </tr>\n",
              "    <tr>\n",
              "      <th>4</th>\n",
              "      <td>GP</td>\n",
              "      <td>F</td>\n",
              "      <td>16</td>\n",
              "      <td>U</td>\n",
              "      <td>GT3</td>\n",
              "      <td>T</td>\n",
              "      <td>3</td>\n",
              "      <td>3</td>\n",
              "      <td>other</td>\n",
              "      <td>other</td>\n",
              "      <td>home</td>\n",
              "      <td>father</td>\n",
              "      <td>1</td>\n",
              "      <td>2</td>\n",
              "      <td>0</td>\n",
              "      <td>no</td>\n",
              "      <td>yes</td>\n",
              "      <td>yes</td>\n",
              "      <td>no</td>\n",
              "      <td>yes</td>\n",
              "      <td>yes</td>\n",
              "      <td>no</td>\n",
              "      <td>no</td>\n",
              "      <td>4</td>\n",
              "      <td>3</td>\n",
              "      <td>2</td>\n",
              "      <td>1</td>\n",
              "      <td>2</td>\n",
              "      <td>5</td>\n",
              "      <td>4</td>\n",
              "      <td>6</td>\n",
              "      <td>10</td>\n",
              "      <td>10</td>\n",
              "    </tr>\n",
              "    <tr>\n",
              "      <th>5</th>\n",
              "      <td>GP</td>\n",
              "      <td>M</td>\n",
              "      <td>16</td>\n",
              "      <td>U</td>\n",
              "      <td>LE3</td>\n",
              "      <td>T</td>\n",
              "      <td>4</td>\n",
              "      <td>3</td>\n",
              "      <td>services</td>\n",
              "      <td>other</td>\n",
              "      <td>reputation</td>\n",
              "      <td>mother</td>\n",
              "      <td>1</td>\n",
              "      <td>2</td>\n",
              "      <td>0</td>\n",
              "      <td>no</td>\n",
              "      <td>yes</td>\n",
              "      <td>yes</td>\n",
              "      <td>yes</td>\n",
              "      <td>yes</td>\n",
              "      <td>yes</td>\n",
              "      <td>yes</td>\n",
              "      <td>no</td>\n",
              "      <td>5</td>\n",
              "      <td>4</td>\n",
              "      <td>2</td>\n",
              "      <td>1</td>\n",
              "      <td>2</td>\n",
              "      <td>5</td>\n",
              "      <td>10</td>\n",
              "      <td>15</td>\n",
              "      <td>15</td>\n",
              "      <td>15</td>\n",
              "    </tr>\n",
              "    <tr>\n",
              "      <th>6</th>\n",
              "      <td>GP</td>\n",
              "      <td>M</td>\n",
              "      <td>16</td>\n",
              "      <td>U</td>\n",
              "      <td>LE3</td>\n",
              "      <td>T</td>\n",
              "      <td>2</td>\n",
              "      <td>2</td>\n",
              "      <td>other</td>\n",
              "      <td>other</td>\n",
              "      <td>home</td>\n",
              "      <td>mother</td>\n",
              "      <td>1</td>\n",
              "      <td>2</td>\n",
              "      <td>0</td>\n",
              "      <td>no</td>\n",
              "      <td>no</td>\n",
              "      <td>no</td>\n",
              "      <td>no</td>\n",
              "      <td>yes</td>\n",
              "      <td>yes</td>\n",
              "      <td>yes</td>\n",
              "      <td>no</td>\n",
              "      <td>4</td>\n",
              "      <td>4</td>\n",
              "      <td>4</td>\n",
              "      <td>1</td>\n",
              "      <td>1</td>\n",
              "      <td>3</td>\n",
              "      <td>0</td>\n",
              "      <td>12</td>\n",
              "      <td>12</td>\n",
              "      <td>11</td>\n",
              "    </tr>\n",
              "    <tr>\n",
              "      <th>7</th>\n",
              "      <td>GP</td>\n",
              "      <td>F</td>\n",
              "      <td>17</td>\n",
              "      <td>U</td>\n",
              "      <td>GT3</td>\n",
              "      <td>A</td>\n",
              "      <td>4</td>\n",
              "      <td>4</td>\n",
              "      <td>other</td>\n",
              "      <td>teacher</td>\n",
              "      <td>home</td>\n",
              "      <td>mother</td>\n",
              "      <td>2</td>\n",
              "      <td>2</td>\n",
              "      <td>0</td>\n",
              "      <td>yes</td>\n",
              "      <td>yes</td>\n",
              "      <td>no</td>\n",
              "      <td>no</td>\n",
              "      <td>yes</td>\n",
              "      <td>yes</td>\n",
              "      <td>no</td>\n",
              "      <td>no</td>\n",
              "      <td>4</td>\n",
              "      <td>1</td>\n",
              "      <td>4</td>\n",
              "      <td>1</td>\n",
              "      <td>1</td>\n",
              "      <td>1</td>\n",
              "      <td>6</td>\n",
              "      <td>6</td>\n",
              "      <td>5</td>\n",
              "      <td>6</td>\n",
              "    </tr>\n",
              "    <tr>\n",
              "      <th>8</th>\n",
              "      <td>GP</td>\n",
              "      <td>M</td>\n",
              "      <td>15</td>\n",
              "      <td>U</td>\n",
              "      <td>LE3</td>\n",
              "      <td>A</td>\n",
              "      <td>3</td>\n",
              "      <td>2</td>\n",
              "      <td>services</td>\n",
              "      <td>other</td>\n",
              "      <td>home</td>\n",
              "      <td>mother</td>\n",
              "      <td>1</td>\n",
              "      <td>2</td>\n",
              "      <td>0</td>\n",
              "      <td>no</td>\n",
              "      <td>yes</td>\n",
              "      <td>yes</td>\n",
              "      <td>no</td>\n",
              "      <td>yes</td>\n",
              "      <td>yes</td>\n",
              "      <td>yes</td>\n",
              "      <td>no</td>\n",
              "      <td>4</td>\n",
              "      <td>2</td>\n",
              "      <td>2</td>\n",
              "      <td>1</td>\n",
              "      <td>1</td>\n",
              "      <td>1</td>\n",
              "      <td>0</td>\n",
              "      <td>16</td>\n",
              "      <td>18</td>\n",
              "      <td>19</td>\n",
              "    </tr>\n",
              "    <tr>\n",
              "      <th>9</th>\n",
              "      <td>GP</td>\n",
              "      <td>M</td>\n",
              "      <td>15</td>\n",
              "      <td>U</td>\n",
              "      <td>GT3</td>\n",
              "      <td>T</td>\n",
              "      <td>3</td>\n",
              "      <td>4</td>\n",
              "      <td>other</td>\n",
              "      <td>other</td>\n",
              "      <td>home</td>\n",
              "      <td>mother</td>\n",
              "      <td>1</td>\n",
              "      <td>2</td>\n",
              "      <td>0</td>\n",
              "      <td>no</td>\n",
              "      <td>yes</td>\n",
              "      <td>yes</td>\n",
              "      <td>yes</td>\n",
              "      <td>yes</td>\n",
              "      <td>yes</td>\n",
              "      <td>yes</td>\n",
              "      <td>no</td>\n",
              "      <td>5</td>\n",
              "      <td>5</td>\n",
              "      <td>1</td>\n",
              "      <td>1</td>\n",
              "      <td>1</td>\n",
              "      <td>5</td>\n",
              "      <td>0</td>\n",
              "      <td>14</td>\n",
              "      <td>15</td>\n",
              "      <td>15</td>\n",
              "    </tr>\n",
              "  </tbody>\n",
              "</table>\n",
              "</div>"
            ],
            "text/plain": [
              "  school sex  age address famsize Pstatus  ...  Walc  health absences  G1  G2  G3\n",
              "0     GP   F   18       U     GT3       A  ...     1       3        6   5   6   6\n",
              "1     GP   F   17       U     GT3       T  ...     1       3        4   5   5   6\n",
              "2     GP   F   15       U     LE3       T  ...     3       3       10   7   8  10\n",
              "3     GP   F   15       U     GT3       T  ...     1       5        2  15  14  15\n",
              "4     GP   F   16       U     GT3       T  ...     2       5        4   6  10  10\n",
              "5     GP   M   16       U     LE3       T  ...     2       5       10  15  15  15\n",
              "6     GP   M   16       U     LE3       T  ...     1       3        0  12  12  11\n",
              "7     GP   F   17       U     GT3       A  ...     1       1        6   6   5   6\n",
              "8     GP   M   15       U     LE3       A  ...     1       1        0  16  18  19\n",
              "9     GP   M   15       U     GT3       T  ...     1       5        0  14  15  15\n",
              "\n",
              "[10 rows x 33 columns]"
            ]
          },
          "metadata": {
            "tags": []
          },
          "execution_count": 7
        }
      ]
    },
    {
      "cell_type": "code",
      "metadata": {
        "colab": {
          "base_uri": "https://localhost:8080/",
          "height": 202
        },
        "id": "1pHsf2OTnQRY",
        "outputId": "40931457-4481-4537-b77a-7129cfe7e9c2"
      },
      "source": [
        "UniMathData = MathData[['G1', 'G3']]\n",
        "UniMathData.head(5)"
      ],
      "execution_count": 8,
      "outputs": [
        {
          "output_type": "execute_result",
          "data": {
            "text/html": [
              "<div>\n",
              "<style scoped>\n",
              "    .dataframe tbody tr th:only-of-type {\n",
              "        vertical-align: middle;\n",
              "    }\n",
              "\n",
              "    .dataframe tbody tr th {\n",
              "        vertical-align: top;\n",
              "    }\n",
              "\n",
              "    .dataframe thead th {\n",
              "        text-align: right;\n",
              "    }\n",
              "</style>\n",
              "<table border=\"1\" class=\"dataframe\">\n",
              "  <thead>\n",
              "    <tr style=\"text-align: right;\">\n",
              "      <th></th>\n",
              "      <th>G1</th>\n",
              "      <th>G3</th>\n",
              "    </tr>\n",
              "  </thead>\n",
              "  <tbody>\n",
              "    <tr>\n",
              "      <th>0</th>\n",
              "      <td>5</td>\n",
              "      <td>6</td>\n",
              "    </tr>\n",
              "    <tr>\n",
              "      <th>1</th>\n",
              "      <td>5</td>\n",
              "      <td>6</td>\n",
              "    </tr>\n",
              "    <tr>\n",
              "      <th>2</th>\n",
              "      <td>7</td>\n",
              "      <td>10</td>\n",
              "    </tr>\n",
              "    <tr>\n",
              "      <th>3</th>\n",
              "      <td>15</td>\n",
              "      <td>15</td>\n",
              "    </tr>\n",
              "    <tr>\n",
              "      <th>4</th>\n",
              "      <td>6</td>\n",
              "      <td>10</td>\n",
              "    </tr>\n",
              "  </tbody>\n",
              "</table>\n",
              "</div>"
            ],
            "text/plain": [
              "   G1  G3\n",
              "0   5   6\n",
              "1   5   6\n",
              "2   7  10\n",
              "3  15  15\n",
              "4   6  10"
            ]
          },
          "metadata": {
            "tags": []
          },
          "execution_count": 8
        }
      ]
    },
    {
      "cell_type": "code",
      "metadata": {
        "id": "JSt6bpMtnbwg"
      },
      "source": [
        "UniMathData.to_csv('Univariate_MathData_2.csv')"
      ],
      "execution_count": 9,
      "outputs": []
    },
    {
      "cell_type": "code",
      "metadata": {
        "colab": {
          "base_uri": "https://localhost:8080/"
        },
        "id": "3os1TSionrwD",
        "outputId": "bb45116b-cf3f-498e-f899-5f254497aaad"
      },
      "source": [
        "ls"
      ],
      "execution_count": 10,
      "outputs": [
        {
          "output_type": "stream",
          "text": [
            "cleanedMathData.csv  student-merge.R     student.txt\n",
            "student.gdoc         student-por.csv     Univariate_MathData_2.csv\n",
            "student-mat.csv      student-por.gsheet\n"
          ],
          "name": "stdout"
        }
      ]
    },
    {
      "cell_type": "code",
      "metadata": {
        "colab": {
          "base_uri": "https://localhost:8080/",
          "height": 156
        },
        "id": "GxoCg8jtoCh0",
        "outputId": "b58848b4-b496-47f9-bfcd-ee29a9bc27f4"
      },
      "source": [
        "import seaborn as sns \n",
        "sns.palplot(sns.color_palette('PuOr'))\n",
        "pal=sns.color_palette('PuOr')\n",
        "pal.as_hex()\n",
        "\n",
        "import matplotlib.pyplot as plt\n",
        "plt.style.use(['seaborn'])\n",
        "sns_colors=['#c6690c','#664697']\n",
        "sns.set_palette(sns_colors)\n",
        "sns.palplot(sns.color_palette(sns_colors))\n"
      ],
      "execution_count": 11,
      "outputs": [
        {
          "output_type": "display_data",
          "data": {
            "image/png": "[encoded data removed]",
            "text/plain": [
              "<Figure size 432x72 with 1 Axes>"
            ]
          },
          "metadata": {
            "tags": [],
            "needs_background": "light"
          }
        },
        {
          "output_type": "display_data",
          "data": {
            "image/png": "[encoded data removed]",
            "text/plain": [
              "<Figure size 144x72 with 1 Axes>"
            ]
          },
          "metadata": {
            "tags": []
          }
        }
      ]
    },
    {
      "cell_type": "code",
      "metadata": {
        "colab": {
          "base_uri": "https://localhost:8080/"
        },
        "id": "qCDaWIwGoIN6",
        "outputId": "3237e8f5-7a07-4320-c9bf-181f3a770da9"
      },
      "source": [
        "UniMathData.columns"
      ],
      "execution_count": 12,
      "outputs": [
        {
          "output_type": "execute_result",
          "data": {
            "text/plain": [
              "Index(['G1', 'G3'], dtype='object')"
            ]
          },
          "metadata": {
            "tags": []
          },
          "execution_count": 12
        }
      ]
    },
    {
      "cell_type": "code",
      "metadata": {
        "colab": {
          "base_uri": "https://localhost:8080/",
          "height": 392
        },
        "id": "4PNpfbawoXyh",
        "outputId": "080c8cbd-e190-4438-a7d6-b29f3304e2ce"
      },
      "source": [
        "sns.pairplot(UniMathData,\n",
        "             x_vars = ['G1', 'G3'],\n",
        "             y_vars =  ['G1', 'G3'],\n",
        "       diag_kind='kde'\n",
        "             )"
      ],
      "execution_count": 14,
      "outputs": [
        {
          "output_type": "execute_result",
          "data": {
            "text/plain": [
              "<seaborn.axisgrid.PairGrid at 0x7f361916d710>"
            ]
          },
          "metadata": {
            "tags": []
          },
          "execution_count": 14
        },
        {
          "output_type": "display_data",
          "data": {
            "image/png": "[encoded data removed]",
            "text/plain": [
              "<Figure size 360x360 with 6 Axes>"
            ]
          },
          "metadata": {
            "tags": []
          }
        }
      ]
    },
    {
      "cell_type": "code",
      "metadata": {
        "colab": {
          "base_uri": "https://localhost:8080/"
        },
        "id": "1lSiCNTmomdK",
        "outputId": "8b844d7c-4043-4319-e283-e2136cefcb83"
      },
      "source": [
        "TrainDataset = UniMathData.sample(frac=0.8, random_state=0) \n",
        "TestDataset = UniMathData.drop(TrainDataset.index)\n",
        "\n",
        "print(TrainDataset.head())\n",
        "print(TestDataset.head())"
      ],
      "execution_count": 15,
      "outputs": [
        {
          "output_type": "stream",
          "text": [
            "     G1  G3\n",
            "329  14  14\n",
            "318  11  10\n",
            "317   9   9\n",
            "65   16  15\n",
            "59   15  16\n",
            "    G1  G3\n",
            "9   14  15\n",
            "25   6   8\n",
            "28  11  11\n",
            "31  17  17\n",
            "32  17  16\n"
          ],
          "name": "stdout"
        }
      ]
    },
    {
      "cell_type": "code",
      "metadata": {
        "colab": {
          "base_uri": "https://localhost:8080/"
        },
        "id": "pB9XW22ho0A4",
        "outputId": "19217e80-08dd-443c-fd86-304c1a0501a2"
      },
      "source": [
        "print(TrainDataset.shape)\n",
        "print(TestDataset.shape)"
      ],
      "execution_count": 17,
      "outputs": [
        {
          "output_type": "stream",
          "text": [
            "(316, 2)\n",
            "(79, 2)\n"
          ],
          "name": "stdout"
        }
      ]
    },
    {
      "cell_type": "code",
      "metadata": {
        "colab": {
          "base_uri": "https://localhost:8080/"
        },
        "id": "_C0R0cxPpK65",
        "outputId": "a97f9fb1-225c-4b4f-b037-b01628fbc19b"
      },
      "source": [
        "TrainFeatures = TrainDataset.copy()\n",
        "TestFeatures = TestDataset.copy()\n",
        "\n",
        "print(TrainFeatures.head())\n",
        "print(TestFeatures.head())"
      ],
      "execution_count": 18,
      "outputs": [
        {
          "output_type": "stream",
          "text": [
            "     G1  G3\n",
            "329  14  14\n",
            "318  11  10\n",
            "317   9   9\n",
            "65   16  15\n",
            "59   15  16\n",
            "    G1  G3\n",
            "9   14  15\n",
            "25   6   8\n",
            "28  11  11\n",
            "31  17  17\n",
            "32  17  16\n"
          ],
          "name": "stdout"
        }
      ]
    },
    {
      "cell_type": "code",
      "metadata": {
        "colab": {
          "base_uri": "https://localhost:8080/"
        },
        "id": "MDSt4j_Lp3WT",
        "outputId": "cd9aefaf-b3e3-4bdd-cc65-fd36acba482e"
      },
      "source": [
        "TrainLabels = TrainFeatures.pop('G3')\n",
        "TestLabels = TestFeatures.pop('G3')\n",
        "\n",
        "print(TrainLabels.head())\n",
        "print(TestLabels.head())"
      ],
      "execution_count": 19,
      "outputs": [
        {
          "output_type": "stream",
          "text": [
            "329    14\n",
            "318    10\n",
            "317     9\n",
            "65     15\n",
            "59     16\n",
            "Name: G3, dtype: int64\n",
            "9     15\n",
            "25     8\n",
            "28    11\n",
            "31    17\n",
            "32    16\n",
            "Name: G3, dtype: int64\n"
          ],
          "name": "stdout"
        }
      ]
    },
    {
      "cell_type": "code",
      "metadata": {
        "colab": {
          "base_uri": "https://localhost:8080/"
        },
        "id": "LoCo6MEDqOsJ",
        "outputId": "25ed1fd7-508c-475f-f841-f491a147557f"
      },
      "source": [
        "print(TrainFeatures.head())\n",
        "print(TestFeatures.head())"
      ],
      "execution_count": 20,
      "outputs": [
        {
          "output_type": "stream",
          "text": [
            "     G1\n",
            "329  14\n",
            "318  11\n",
            "317   9\n",
            "65   16\n",
            "59   15\n",
            "    G1\n",
            "9   14\n",
            "25   6\n",
            "28  11\n",
            "31  17\n",
            "32  17\n"
          ],
          "name": "stdout"
        }
      ]
    },
    {
      "cell_type": "code",
      "metadata": {
        "id": "mv7kLaMeqccS"
      },
      "source": [
        "model = tf.keras.Sequential([tf.keras.layers.Dense(1)])"
      ],
      "execution_count": 21,
      "outputs": []
    },
    {
      "cell_type": "code",
      "metadata": {
        "id": "g8i7hoWhq0KN"
      },
      "source": [
        "model.compile(\n",
        "    loss = 'mean_absolute_error',\n",
        "    optimizer = tf.keras.optimizers.Adam(0.001), \n",
        "    metrics = ['mae', 'mse']\n",
        ")"
      ],
      "execution_count": 22,
      "outputs": []
    },
    {
      "cell_type": "code",
      "metadata": {
        "colab": {
          "base_uri": "https://localhost:8080/"
        },
        "id": "5i7jWWmXq9sN",
        "outputId": "e44ae910-ef99-4c9a-af94-c10a65ae1d76"
      },
      "source": [
        "numEpochs = 300\n",
        "history = model.fit(x = TrainFeatures, y = TrainLabels, validation_data = (TestFeatures, TestLabels), epochs = numEpochs)"
      ],
      "execution_count": 23,
      "outputs": [
        {
          "output_type": "stream",
          "text": [
            "Epoch 1/300\n",
            "10/10 [==============================] - 1s 18ms/step - loss: 6.6341 - mae: 6.6341 - mse: 49.7758 - val_loss: 6.7638 - val_mae: 6.7638 - val_mse: 51.1832\n",
            "Epoch 2/300\n",
            "10/10 [==============================] - 0s 3ms/step - loss: 6.5332 - mae: 6.5332 - mse: 48.2006 - val_loss: 6.6544 - val_mae: 6.6544 - val_mse: 49.4770\n",
            "Epoch 3/300\n",
            "10/10 [==============================] - 0s 3ms/step - loss: 6.4338 - mae: 6.4338 - mse: 46.6936 - val_loss: 6.5443 - val_mae: 6.5443 - val_mse: 47.7945\n",
            "Epoch 4/300\n",
            "10/10 [==============================] - 0s 4ms/step - loss: 6.3326 - mae: 6.3326 - mse: 45.1790 - val_loss: 6.4347 - val_mae: 6.4347 - val_mse: 46.1542\n",
            "Epoch 5/300\n",
            "10/10 [==============================] - 0s 3ms/step - loss: 6.2330 - mae: 6.2330 - mse: 43.7493 - val_loss: 6.3246 - val_mae: 6.3246 - val_mse: 44.5371\n",
            "Epoch 6/300\n",
            "10/10 [==============================] - 0s 3ms/step - loss: 6.1316 - mae: 6.1316 - mse: 42.2893 - val_loss: 6.2155 - val_mae: 6.2155 - val_mse: 42.9693\n",
            "Epoch 7/300\n",
            "10/10 [==============================] - 0s 3ms/step - loss: 6.0322 - mae: 6.0322 - mse: 40.9005 - val_loss: 6.1053 - val_mae: 6.1053 - val_mse: 41.4187\n",
            "Epoch 8/300\n",
            "10/10 [==============================] - 0s 3ms/step - loss: 5.9318 - mae: 5.9318 - mse: 39.5421 - val_loss: 5.9956 - val_mae: 5.9956 - val_mse: 39.9079\n",
            "Epoch 9/300\n",
            "10/10 [==============================] - 0s 3ms/step - loss: 5.8323 - mae: 5.8323 - mse: 38.2021 - val_loss: 5.8854 - val_mae: 5.8854 - val_mse: 38.4228\n",
            "Epoch 10/300\n",
            "10/10 [==============================] - 0s 3ms/step - loss: 5.7305 - mae: 5.7305 - mse: 36.8677 - val_loss: 5.7767 - val_mae: 5.7767 - val_mse: 36.9913\n",
            "Epoch 11/300\n",
            "10/10 [==============================] - 0s 3ms/step - loss: 5.6319 - mae: 5.6319 - mse: 35.6032 - val_loss: 5.6663 - val_mae: 5.6663 - val_mse: 35.5710\n",
            "Epoch 12/300\n",
            "10/10 [==============================] - 0s 3ms/step - loss: 5.5311 - mae: 5.5311 - mse: 34.3426 - val_loss: 5.5567 - val_mae: 5.5567 - val_mse: 34.1939\n",
            "Epoch 13/300\n",
            "10/10 [==============================] - 0s 3ms/step - loss: 5.4297 - mae: 5.4297 - mse: 33.1018 - val_loss: 5.4483 - val_mae: 5.4483 - val_mse: 32.8649\n",
            "Epoch 14/300\n",
            "10/10 [==============================] - 0s 3ms/step - loss: 5.3319 - mae: 5.3319 - mse: 31.9368 - val_loss: 5.3377 - val_mae: 5.3377 - val_mse: 31.5419\n",
            "Epoch 15/300\n",
            "10/10 [==============================] - 0s 3ms/step - loss: 5.2305 - mae: 5.2305 - mse: 30.7510 - val_loss: 5.2287 - val_mae: 5.2287 - val_mse: 30.2700\n",
            "Epoch 16/300\n",
            "10/10 [==============================] - 0s 3ms/step - loss: 5.1310 - mae: 5.1310 - mse: 29.6386 - val_loss: 5.1191 - val_mae: 5.1191 - val_mse: 29.0257\n",
            "Epoch 17/300\n",
            "10/10 [==============================] - 0s 3ms/step - loss: 5.0304 - mae: 5.0304 - mse: 28.5299 - val_loss: 5.0101 - val_mae: 5.0101 - val_mse: 27.8199\n",
            "Epoch 18/300\n",
            "10/10 [==============================] - 0s 3ms/step - loss: 4.9303 - mae: 4.9303 - mse: 27.4450 - val_loss: 4.9009 - val_mae: 4.9009 - val_mse: 26.6450\n",
            "Epoch 19/300\n",
            "10/10 [==============================] - 0s 3ms/step - loss: 4.8303 - mae: 4.8303 - mse: 26.3883 - val_loss: 4.7916 - val_mae: 4.7916 - val_mse: 25.5013\n",
            "Epoch 20/300\n",
            "10/10 [==============================] - 0s 3ms/step - loss: 4.7310 - mae: 4.7310 - mse: 25.3825 - val_loss: 4.6814 - val_mae: 4.6814 - val_mse: 24.3818\n",
            "Epoch 21/300\n",
            "10/10 [==============================] - 0s 3ms/step - loss: 4.6315 - mae: 4.6315 - mse: 24.4142 - val_loss: 4.5709 - val_mae: 4.5709 - val_mse: 23.2919\n",
            "Epoch 22/300\n",
            "10/10 [==============================] - 0s 3ms/step - loss: 4.5304 - mae: 4.5304 - mse: 23.4517 - val_loss: 4.4639 - val_mae: 4.4639 - val_mse: 22.2477\n",
            "Epoch 23/300\n",
            "10/10 [==============================] - 0s 3ms/step - loss: 4.4297 - mae: 4.4297 - mse: 22.5095 - val_loss: 4.3575 - val_mae: 4.3575 - val_mse: 21.2431\n",
            "Epoch 24/300\n",
            "10/10 [==============================] - 0s 3ms/step - loss: 4.3315 - mae: 4.3315 - mse: 21.6250 - val_loss: 4.2495 - val_mae: 4.2495 - val_mse: 20.2556\n",
            "Epoch 25/300\n",
            "10/10 [==============================] - 0s 4ms/step - loss: 4.2304 - mae: 4.2304 - mse: 20.7303 - val_loss: 4.1437 - val_mae: 4.1437 - val_mse: 19.3210\n",
            "Epoch 26/300\n",
            "10/10 [==============================] - 0s 3ms/step - loss: 4.1314 - mae: 4.1314 - mse: 19.8947 - val_loss: 4.0383 - val_mae: 4.0383 - val_mse: 18.4226\n",
            "Epoch 27/300\n",
            "10/10 [==============================] - 0s 3ms/step - loss: 4.0354 - mae: 4.0354 - mse: 19.1288 - val_loss: 3.9307 - val_mae: 3.9307 - val_mse: 17.5377\n",
            "Epoch 28/300\n",
            "10/10 [==============================] - 0s 3ms/step - loss: 3.9372 - mae: 3.9372 - mse: 18.3406 - val_loss: 3.8238 - val_mae: 3.8238 - val_mse: 16.6906\n",
            "Epoch 29/300\n",
            "10/10 [==============================] - 0s 3ms/step - loss: 3.8382 - mae: 3.8382 - mse: 17.5894 - val_loss: 3.7182 - val_mae: 3.7182 - val_mse: 15.8872\n",
            "Epoch 30/300\n",
            "10/10 [==============================] - 0s 3ms/step - loss: 3.7410 - mae: 3.7410 - mse: 16.8741 - val_loss: 3.6140 - val_mae: 3.6140 - val_mse: 15.1249\n",
            "Epoch 31/300\n",
            "10/10 [==============================] - 0s 3ms/step - loss: 3.6458 - mae: 3.6458 - mse: 16.1768 - val_loss: 3.5091 - val_mae: 3.5091 - val_mse: 14.3894\n",
            "Epoch 32/300\n",
            "10/10 [==============================] - 0s 3ms/step - loss: 3.5500 - mae: 3.5500 - mse: 15.5290 - val_loss: 3.4048 - val_mae: 3.4048 - val_mse: 13.6896\n",
            "Epoch 33/300\n",
            "10/10 [==============================] - 0s 3ms/step - loss: 3.4547 - mae: 3.4547 - mse: 14.9124 - val_loss: 3.3019 - val_mae: 3.3019 - val_mse: 13.0295\n",
            "Epoch 34/300\n",
            "10/10 [==============================] - 0s 3ms/step - loss: 3.3655 - mae: 3.3655 - mse: 14.3381 - val_loss: 3.1963 - val_mae: 3.1963 - val_mse: 12.3833\n",
            "Epoch 35/300\n",
            "10/10 [==============================] - 0s 3ms/step - loss: 3.2713 - mae: 3.2713 - mse: 13.7640 - val_loss: 3.0934 - val_mae: 3.0934 - val_mse: 11.7851\n",
            "Epoch 36/300\n",
            "10/10 [==============================] - 0s 3ms/step - loss: 3.1790 - mae: 3.1790 - mse: 13.2309 - val_loss: 2.9926 - val_mae: 2.9926 - val_mse: 11.2206\n",
            "Epoch 37/300\n",
            "10/10 [==============================] - 0s 3ms/step - loss: 3.0895 - mae: 3.0895 - mse: 12.7459 - val_loss: 2.8924 - val_mae: 2.8924 - val_mse: 10.6792\n",
            "Epoch 38/300\n",
            "10/10 [==============================] - 0s 3ms/step - loss: 2.9973 - mae: 2.9973 - mse: 12.2454 - val_loss: 2.7945 - val_mae: 2.7945 - val_mse: 10.1795\n",
            "Epoch 39/300\n",
            "10/10 [==============================] - 0s 3ms/step - loss: 2.9108 - mae: 2.9108 - mse: 11.8097 - val_loss: 2.6967 - val_mae: 2.6967 - val_mse: 9.7099\n",
            "Epoch 40/300\n",
            "10/10 [==============================] - 0s 3ms/step - loss: 2.8277 - mae: 2.8277 - mse: 11.4097 - val_loss: 2.6001 - val_mae: 2.6001 - val_mse: 9.2736\n",
            "Epoch 41/300\n",
            "10/10 [==============================] - 0s 3ms/step - loss: 2.7456 - mae: 2.7456 - mse: 11.0348 - val_loss: 2.5086 - val_mae: 2.5086 - val_mse: 8.8768\n",
            "Epoch 42/300\n",
            "10/10 [==============================] - 0s 3ms/step - loss: 2.6662 - mae: 2.6662 - mse: 10.6660 - val_loss: 2.4201 - val_mae: 2.4201 - val_mse: 8.5148\n",
            "Epoch 43/300\n",
            "10/10 [==============================] - 0s 3ms/step - loss: 2.5921 - mae: 2.5921 - mse: 10.3604 - val_loss: 2.3332 - val_mae: 2.3332 - val_mse: 8.1755\n",
            "Epoch 44/300\n",
            "10/10 [==============================] - 0s 4ms/step - loss: 2.5152 - mae: 2.5152 - mse: 10.0638 - val_loss: 2.2505 - val_mae: 2.2505 - val_mse: 7.8773\n",
            "Epoch 45/300\n",
            "10/10 [==============================] - 0s 3ms/step - loss: 2.4497 - mae: 2.4497 - mse: 9.8038 - val_loss: 2.1685 - val_mae: 2.1685 - val_mse: 7.6054\n",
            "Epoch 46/300\n",
            "10/10 [==============================] - 0s 3ms/step - loss: 2.3849 - mae: 2.3849 - mse: 9.5626 - val_loss: 2.0912 - val_mae: 2.0912 - val_mse: 7.3706\n",
            "Epoch 47/300\n",
            "10/10 [==============================] - 0s 3ms/step - loss: 2.3248 - mae: 2.3248 - mse: 9.3488 - val_loss: 2.0183 - val_mae: 2.0183 - val_mse: 7.1596\n",
            "Epoch 48/300\n",
            "10/10 [==============================] - 0s 3ms/step - loss: 2.2690 - mae: 2.2690 - mse: 9.1687 - val_loss: 1.9479 - val_mae: 1.9479 - val_mse: 6.9709\n",
            "Epoch 49/300\n",
            "10/10 [==============================] - 0s 4ms/step - loss: 2.2149 - mae: 2.2149 - mse: 9.0184 - val_loss: 1.8811 - val_mae: 1.8811 - val_mse: 6.8079\n",
            "Epoch 50/300\n",
            "10/10 [==============================] - 0s 3ms/step - loss: 2.1684 - mae: 2.1684 - mse: 8.8748 - val_loss: 1.8211 - val_mae: 1.8211 - val_mse: 6.6733\n",
            "Epoch 51/300\n",
            "10/10 [==============================] - 0s 3ms/step - loss: 2.1283 - mae: 2.1283 - mse: 8.7607 - val_loss: 1.7703 - val_mae: 1.7703 - val_mse: 6.5616\n",
            "Epoch 52/300\n",
            "10/10 [==============================] - 0s 3ms/step - loss: 2.0948 - mae: 2.0948 - mse: 8.6662 - val_loss: 1.7270 - val_mae: 1.7270 - val_mse: 6.4713\n",
            "Epoch 53/300\n",
            "10/10 [==============================] - 0s 3ms/step - loss: 2.0648 - mae: 2.0648 - mse: 8.5864 - val_loss: 1.6945 - val_mae: 1.6945 - val_mse: 6.3972\n",
            "Epoch 54/300\n",
            "10/10 [==============================] - 0s 3ms/step - loss: 2.0357 - mae: 2.0357 - mse: 8.5159 - val_loss: 1.6683 - val_mae: 1.6683 - val_mse: 6.3384\n",
            "Epoch 55/300\n",
            "10/10 [==============================] - 0s 3ms/step - loss: 2.0132 - mae: 2.0132 - mse: 8.4633 - val_loss: 1.6442 - val_mae: 1.6442 - val_mse: 6.2874\n",
            "Epoch 56/300\n",
            "10/10 [==============================] - 0s 3ms/step - loss: 1.9909 - mae: 1.9909 - mse: 8.4171 - val_loss: 1.6258 - val_mae: 1.6258 - val_mse: 6.2510\n",
            "Epoch 57/300\n",
            "10/10 [==============================] - 0s 3ms/step - loss: 1.9750 - mae: 1.9750 - mse: 8.3887 - val_loss: 1.6113 - val_mae: 1.6113 - val_mse: 6.2230\n",
            "Epoch 58/300\n",
            "10/10 [==============================] - 0s 3ms/step - loss: 1.9596 - mae: 1.9596 - mse: 8.3602 - val_loss: 1.6030 - val_mae: 1.6030 - val_mse: 6.2047\n",
            "Epoch 59/300\n",
            "10/10 [==============================] - 0s 3ms/step - loss: 1.9480 - mae: 1.9480 - mse: 8.3408 - val_loss: 1.5985 - val_mae: 1.5985 - val_mse: 6.1932\n",
            "Epoch 60/300\n",
            "10/10 [==============================] - 0s 3ms/step - loss: 1.9387 - mae: 1.9387 - mse: 8.3278 - val_loss: 1.5956 - val_mae: 1.5956 - val_mse: 6.1851\n",
            "Epoch 61/300\n",
            "10/10 [==============================] - 0s 3ms/step - loss: 1.9304 - mae: 1.9304 - mse: 8.3228 - val_loss: 1.5932 - val_mae: 1.5932 - val_mse: 6.1805\n",
            "Epoch 62/300\n",
            "10/10 [==============================] - 0s 3ms/step - loss: 1.9223 - mae: 1.9223 - mse: 8.3149 - val_loss: 1.5912 - val_mae: 1.5912 - val_mse: 6.1792\n",
            "Epoch 63/300\n",
            "10/10 [==============================] - 0s 3ms/step - loss: 1.9148 - mae: 1.9148 - mse: 8.3195 - val_loss: 1.5903 - val_mae: 1.5903 - val_mse: 6.1817\n",
            "Epoch 64/300\n",
            "10/10 [==============================] - 0s 3ms/step - loss: 1.9062 - mae: 1.9062 - mse: 8.3221 - val_loss: 1.5901 - val_mae: 1.5901 - val_mse: 6.1873\n",
            "Epoch 65/300\n",
            "10/10 [==============================] - 0s 3ms/step - loss: 1.8988 - mae: 1.8988 - mse: 8.3229 - val_loss: 1.5900 - val_mae: 1.5900 - val_mse: 6.1958\n",
            "Epoch 66/300\n",
            "10/10 [==============================] - 0s 3ms/step - loss: 1.8907 - mae: 1.8907 - mse: 8.3213 - val_loss: 1.5899 - val_mae: 1.5899 - val_mse: 6.2060\n",
            "Epoch 67/300\n",
            "10/10 [==============================] - 0s 3ms/step - loss: 1.8844 - mae: 1.8844 - mse: 8.3361 - val_loss: 1.5909 - val_mae: 1.5909 - val_mse: 6.2195\n",
            "Epoch 68/300\n",
            "10/10 [==============================] - 0s 4ms/step - loss: 1.8799 - mae: 1.8799 - mse: 8.3497 - val_loss: 1.5922 - val_mae: 1.5922 - val_mse: 6.2363\n",
            "Epoch 69/300\n",
            "10/10 [==============================] - 0s 3ms/step - loss: 1.8733 - mae: 1.8733 - mse: 8.3573 - val_loss: 1.5933 - val_mae: 1.5933 - val_mse: 6.2501\n",
            "Epoch 70/300\n",
            "10/10 [==============================] - 0s 3ms/step - loss: 1.8700 - mae: 1.8700 - mse: 8.3709 - val_loss: 1.5948 - val_mae: 1.5948 - val_mse: 6.2657\n",
            "Epoch 71/300\n",
            "10/10 [==============================] - 0s 3ms/step - loss: 1.8664 - mae: 1.8664 - mse: 8.3808 - val_loss: 1.5961 - val_mae: 1.5961 - val_mse: 6.2821\n",
            "Epoch 72/300\n",
            "10/10 [==============================] - 0s 3ms/step - loss: 1.8638 - mae: 1.8638 - mse: 8.3979 - val_loss: 1.5989 - val_mae: 1.5989 - val_mse: 6.2992\n",
            "Epoch 73/300\n",
            "10/10 [==============================] - 0s 3ms/step - loss: 1.8616 - mae: 1.8616 - mse: 8.4045 - val_loss: 1.6010 - val_mae: 1.6010 - val_mse: 6.3114\n",
            "Epoch 74/300\n",
            "10/10 [==============================] - 0s 3ms/step - loss: 1.8602 - mae: 1.8602 - mse: 8.4172 - val_loss: 1.6030 - val_mae: 1.6030 - val_mse: 6.3242\n",
            "Epoch 75/300\n",
            "10/10 [==============================] - 0s 3ms/step - loss: 1.8596 - mae: 1.8596 - mse: 8.4258 - val_loss: 1.6059 - val_mae: 1.6059 - val_mse: 6.3366\n",
            "Epoch 76/300\n",
            "10/10 [==============================] - 0s 3ms/step - loss: 1.8592 - mae: 1.8592 - mse: 8.4353 - val_loss: 1.6073 - val_mae: 1.6073 - val_mse: 6.3426\n",
            "Epoch 77/300\n",
            "10/10 [==============================] - 0s 3ms/step - loss: 1.8588 - mae: 1.8588 - mse: 8.4384 - val_loss: 1.6084 - val_mae: 1.6084 - val_mse: 6.3469\n",
            "Epoch 78/300\n",
            "10/10 [==============================] - 0s 4ms/step - loss: 1.8587 - mae: 1.8587 - mse: 8.4420 - val_loss: 1.6091 - val_mae: 1.6091 - val_mse: 6.3500\n",
            "Epoch 79/300\n",
            "10/10 [==============================] - 0s 3ms/step - loss: 1.8585 - mae: 1.8585 - mse: 8.4446 - val_loss: 1.6100 - val_mae: 1.6100 - val_mse: 6.3540\n",
            "Epoch 80/300\n",
            "10/10 [==============================] - 0s 3ms/step - loss: 1.8585 - mae: 1.8585 - mse: 8.4506 - val_loss: 1.6118 - val_mae: 1.6118 - val_mse: 6.3617\n",
            "Epoch 81/300\n",
            "10/10 [==============================] - 0s 3ms/step - loss: 1.8582 - mae: 1.8582 - mse: 8.4531 - val_loss: 1.6121 - val_mae: 1.6121 - val_mse: 6.3629\n",
            "Epoch 82/300\n",
            "10/10 [==============================] - 0s 3ms/step - loss: 1.8583 - mae: 1.8583 - mse: 8.4570 - val_loss: 1.6133 - val_mae: 1.6133 - val_mse: 6.3677\n",
            "Epoch 83/300\n",
            "10/10 [==============================] - 0s 3ms/step - loss: 1.8582 - mae: 1.8582 - mse: 8.4570 - val_loss: 1.6124 - val_mae: 1.6124 - val_mse: 6.3638\n",
            "Epoch 84/300\n",
            "10/10 [==============================] - 0s 3ms/step - loss: 1.8582 - mae: 1.8582 - mse: 8.4528 - val_loss: 1.6115 - val_mae: 1.6115 - val_mse: 6.3596\n",
            "Epoch 85/300\n",
            "10/10 [==============================] - 0s 3ms/step - loss: 1.8581 - mae: 1.8581 - mse: 8.4537 - val_loss: 1.6127 - val_mae: 1.6127 - val_mse: 6.3646\n",
            "Epoch 86/300\n",
            "10/10 [==============================] - 0s 3ms/step - loss: 1.8581 - mae: 1.8581 - mse: 8.4554 - val_loss: 1.6117 - val_mae: 1.6117 - val_mse: 6.3600\n",
            "Epoch 87/300\n",
            "10/10 [==============================] - 0s 4ms/step - loss: 1.8579 - mae: 1.8579 - mse: 8.4516 - val_loss: 1.6118 - val_mae: 1.6118 - val_mse: 6.3602\n",
            "Epoch 88/300\n",
            "10/10 [==============================] - 0s 3ms/step - loss: 1.8580 - mae: 1.8580 - mse: 8.4535 - val_loss: 1.6123 - val_mae: 1.6123 - val_mse: 6.3622\n",
            "Epoch 89/300\n",
            "10/10 [==============================] - 0s 3ms/step - loss: 1.8580 - mae: 1.8580 - mse: 8.4499 - val_loss: 1.6110 - val_mae: 1.6110 - val_mse: 6.3561\n",
            "Epoch 90/300\n",
            "10/10 [==============================] - 0s 3ms/step - loss: 1.8579 - mae: 1.8579 - mse: 8.4487 - val_loss: 1.6113 - val_mae: 1.6113 - val_mse: 6.3572\n",
            "Epoch 91/300\n",
            "10/10 [==============================] - 0s 3ms/step - loss: 1.8578 - mae: 1.8578 - mse: 8.4529 - val_loss: 1.6125 - val_mae: 1.6125 - val_mse: 6.3622\n",
            "Epoch 92/300\n",
            "10/10 [==============================] - 0s 3ms/step - loss: 1.8579 - mae: 1.8579 - mse: 8.4545 - val_loss: 1.6128 - val_mae: 1.6128 - val_mse: 6.3634\n",
            "Epoch 93/300\n",
            "10/10 [==============================] - 0s 3ms/step - loss: 1.8577 - mae: 1.8577 - mse: 8.4527 - val_loss: 1.6115 - val_mae: 1.6115 - val_mse: 6.3575\n",
            "Epoch 94/300\n",
            "10/10 [==============================] - 0s 3ms/step - loss: 1.8577 - mae: 1.8577 - mse: 8.4500 - val_loss: 1.6118 - val_mae: 1.6118 - val_mse: 6.3585\n",
            "Epoch 95/300\n",
            "10/10 [==============================] - 0s 3ms/step - loss: 1.8576 - mae: 1.8576 - mse: 8.4506 - val_loss: 1.6118 - val_mae: 1.6118 - val_mse: 6.3584\n",
            "Epoch 96/300\n",
            "10/10 [==============================] - 0s 3ms/step - loss: 1.8576 - mae: 1.8576 - mse: 8.4498 - val_loss: 1.6116 - val_mae: 1.6116 - val_mse: 6.3571\n",
            "Epoch 97/300\n",
            "10/10 [==============================] - 0s 4ms/step - loss: 1.8576 - mae: 1.8576 - mse: 8.4498 - val_loss: 1.6122 - val_mae: 1.6122 - val_mse: 6.3594\n",
            "Epoch 98/300\n",
            "10/10 [==============================] - 0s 3ms/step - loss: 1.8575 - mae: 1.8575 - mse: 8.4507 - val_loss: 1.6118 - val_mae: 1.6118 - val_mse: 6.3576\n",
            "Epoch 99/300\n",
            "10/10 [==============================] - 0s 3ms/step - loss: 1.8575 - mae: 1.8575 - mse: 8.4485 - val_loss: 1.6109 - val_mae: 1.6109 - val_mse: 6.3530\n",
            "Epoch 100/300\n",
            "10/10 [==============================] - 0s 3ms/step - loss: 1.8575 - mae: 1.8575 - mse: 8.4481 - val_loss: 1.6117 - val_mae: 1.6117 - val_mse: 6.3564\n",
            "Epoch 101/300\n",
            "10/10 [==============================] - 0s 3ms/step - loss: 1.8574 - mae: 1.8574 - mse: 8.4479 - val_loss: 1.6116 - val_mae: 1.6116 - val_mse: 6.3558\n",
            "Epoch 102/300\n",
            "10/10 [==============================] - 0s 3ms/step - loss: 1.8575 - mae: 1.8575 - mse: 8.4507 - val_loss: 1.6125 - val_mae: 1.6125 - val_mse: 6.3592\n",
            "Epoch 103/300\n",
            "10/10 [==============================] - 0s 3ms/step - loss: 1.8574 - mae: 1.8574 - mse: 8.4518 - val_loss: 1.6123 - val_mae: 1.6123 - val_mse: 6.3584\n",
            "Epoch 104/300\n",
            "10/10 [==============================] - 0s 3ms/step - loss: 1.8572 - mae: 1.8572 - mse: 8.4478 - val_loss: 1.6109 - val_mae: 1.6109 - val_mse: 6.3518\n",
            "Epoch 105/300\n",
            "10/10 [==============================] - 0s 3ms/step - loss: 1.8573 - mae: 1.8573 - mse: 8.4431 - val_loss: 1.6104 - val_mae: 1.6104 - val_mse: 6.3492\n",
            "Epoch 106/300\n",
            "10/10 [==============================] - 0s 3ms/step - loss: 1.8573 - mae: 1.8573 - mse: 8.4449 - val_loss: 1.6115 - val_mae: 1.6115 - val_mse: 6.3541\n",
            "Epoch 107/300\n",
            "10/10 [==============================] - 0s 3ms/step - loss: 1.8572 - mae: 1.8572 - mse: 8.4463 - val_loss: 1.6120 - val_mae: 1.6120 - val_mse: 6.3560\n",
            "Epoch 108/300\n",
            "10/10 [==============================] - 0s 3ms/step - loss: 1.8572 - mae: 1.8572 - mse: 8.4493 - val_loss: 1.6121 - val_mae: 1.6121 - val_mse: 6.3560\n",
            "Epoch 109/300\n",
            "10/10 [==============================] - 0s 3ms/step - loss: 1.8571 - mae: 1.8571 - mse: 8.4486 - val_loss: 1.6120 - val_mae: 1.6120 - val_mse: 6.3553\n",
            "Epoch 110/300\n",
            "10/10 [==============================] - 0s 4ms/step - loss: 1.8571 - mae: 1.8571 - mse: 8.4447 - val_loss: 1.6106 - val_mae: 1.6106 - val_mse: 6.3492\n",
            "Epoch 111/300\n",
            "10/10 [==============================] - 0s 3ms/step - loss: 1.8570 - mae: 1.8570 - mse: 8.4433 - val_loss: 1.6111 - val_mae: 1.6111 - val_mse: 6.3512\n",
            "Epoch 112/300\n",
            "10/10 [==============================] - 0s 3ms/step - loss: 1.8569 - mae: 1.8569 - mse: 8.4457 - val_loss: 1.6112 - val_mae: 1.6112 - val_mse: 6.3512\n",
            "Epoch 113/300\n",
            "10/10 [==============================] - 0s 3ms/step - loss: 1.8569 - mae: 1.8569 - mse: 8.4443 - val_loss: 1.6115 - val_mae: 1.6115 - val_mse: 6.3522\n",
            "Epoch 114/300\n",
            "10/10 [==============================] - 0s 4ms/step - loss: 1.8569 - mae: 1.8569 - mse: 8.4439 - val_loss: 1.6109 - val_mae: 1.6109 - val_mse: 6.3493\n",
            "Epoch 115/300\n",
            "10/10 [==============================] - 0s 3ms/step - loss: 1.8569 - mae: 1.8569 - mse: 8.4440 - val_loss: 1.6119 - val_mae: 1.6119 - val_mse: 6.3532\n",
            "Epoch 116/300\n",
            "10/10 [==============================] - 0s 3ms/step - loss: 1.8568 - mae: 1.8568 - mse: 8.4441 - val_loss: 1.6107 - val_mae: 1.6107 - val_mse: 6.3476\n",
            "Epoch 117/300\n",
            "10/10 [==============================] - 0s 3ms/step - loss: 1.8567 - mae: 1.8567 - mse: 8.4419 - val_loss: 1.6111 - val_mae: 1.6111 - val_mse: 6.3492\n",
            "Epoch 118/300\n",
            "10/10 [==============================] - 0s 3ms/step - loss: 1.8568 - mae: 1.8568 - mse: 8.4457 - val_loss: 1.6123 - val_mae: 1.6123 - val_mse: 6.3540\n",
            "Epoch 119/300\n",
            "10/10 [==============================] - 0s 3ms/step - loss: 1.8566 - mae: 1.8566 - mse: 8.4438 - val_loss: 1.6110 - val_mae: 1.6110 - val_mse: 6.3484\n",
            "Epoch 120/300\n",
            "10/10 [==============================] - 0s 3ms/step - loss: 1.8569 - mae: 1.8569 - mse: 8.4403 - val_loss: 1.6100 - val_mae: 1.6100 - val_mse: 6.3436\n",
            "Epoch 121/300\n",
            "10/10 [==============================] - 0s 3ms/step - loss: 1.8564 - mae: 1.8564 - mse: 8.4396 - val_loss: 1.6115 - val_mae: 1.6115 - val_mse: 6.3499\n",
            "Epoch 122/300\n",
            "10/10 [==============================] - 0s 3ms/step - loss: 1.8567 - mae: 1.8567 - mse: 8.4462 - val_loss: 1.6124 - val_mae: 1.6124 - val_mse: 6.3531\n",
            "Epoch 123/300\n",
            "10/10 [==============================] - 0s 3ms/step - loss: 1.8569 - mae: 1.8569 - mse: 8.4416 - val_loss: 1.6104 - val_mae: 1.6104 - val_mse: 6.3446\n",
            "Epoch 124/300\n",
            "10/10 [==============================] - 0s 3ms/step - loss: 1.8564 - mae: 1.8564 - mse: 8.4388 - val_loss: 1.6109 - val_mae: 1.6109 - val_mse: 6.3464\n",
            "Epoch 125/300\n",
            "10/10 [==============================] - 0s 3ms/step - loss: 1.8565 - mae: 1.8565 - mse: 8.4440 - val_loss: 1.6124 - val_mae: 1.6124 - val_mse: 6.3523\n",
            "Epoch 126/300\n",
            "10/10 [==============================] - 0s 3ms/step - loss: 1.8566 - mae: 1.8566 - mse: 8.4411 - val_loss: 1.6104 - val_mae: 1.6104 - val_mse: 6.3436\n",
            "Epoch 127/300\n",
            "10/10 [==============================] - 0s 4ms/step - loss: 1.8564 - mae: 1.8564 - mse: 8.4408 - val_loss: 1.6107 - val_mae: 1.6107 - val_mse: 6.3445\n",
            "Epoch 128/300\n",
            "10/10 [==============================] - 0s 3ms/step - loss: 1.8561 - mae: 1.8561 - mse: 8.4389 - val_loss: 1.6110 - val_mae: 1.6110 - val_mse: 6.3457\n",
            "Epoch 129/300\n",
            "10/10 [==============================] - 0s 3ms/step - loss: 1.8562 - mae: 1.8562 - mse: 8.4392 - val_loss: 1.6106 - val_mae: 1.6106 - val_mse: 6.3438\n",
            "Epoch 130/300\n",
            "10/10 [==============================] - 0s 3ms/step - loss: 1.8560 - mae: 1.8560 - mse: 8.4387 - val_loss: 1.6108 - val_mae: 1.6108 - val_mse: 6.3444\n",
            "Epoch 131/300\n",
            "10/10 [==============================] - 0s 3ms/step - loss: 1.8562 - mae: 1.8562 - mse: 8.4372 - val_loss: 1.6108 - val_mae: 1.6108 - val_mse: 6.3437\n",
            "Epoch 132/300\n",
            "10/10 [==============================] - 0s 3ms/step - loss: 1.8560 - mae: 1.8560 - mse: 8.4391 - val_loss: 1.6117 - val_mae: 1.6117 - val_mse: 6.3475\n",
            "Epoch 133/300\n",
            "10/10 [==============================] - 0s 3ms/step - loss: 1.8559 - mae: 1.8559 - mse: 8.4392 - val_loss: 1.6103 - val_mae: 1.6103 - val_mse: 6.3410\n",
            "Epoch 134/300\n",
            "10/10 [==============================] - 0s 4ms/step - loss: 1.8562 - mae: 1.8562 - mse: 8.4341 - val_loss: 1.6094 - val_mae: 1.6094 - val_mse: 6.3367\n",
            "Epoch 135/300\n",
            "10/10 [==============================] - 0s 3ms/step - loss: 1.8560 - mae: 1.8560 - mse: 8.4351 - val_loss: 1.6111 - val_mae: 1.6111 - val_mse: 6.3440\n",
            "Epoch 136/300\n",
            "10/10 [==============================] - 0s 3ms/step - loss: 1.8558 - mae: 1.8558 - mse: 8.4373 - val_loss: 1.6104 - val_mae: 1.6104 - val_mse: 6.3405\n",
            "Epoch 137/300\n",
            "10/10 [==============================] - 0s 3ms/step - loss: 1.8559 - mae: 1.8559 - mse: 8.4373 - val_loss: 1.6106 - val_mae: 1.6106 - val_mse: 6.3411\n",
            "Epoch 138/300\n",
            "10/10 [==============================] - 0s 3ms/step - loss: 1.8558 - mae: 1.8558 - mse: 8.4338 - val_loss: 1.6094 - val_mae: 1.6094 - val_mse: 6.3353\n",
            "Epoch 139/300\n",
            "10/10 [==============================] - 0s 3ms/step - loss: 1.8560 - mae: 1.8560 - mse: 8.4358 - val_loss: 1.6115 - val_mae: 1.6115 - val_mse: 6.3444\n",
            "Epoch 140/300\n",
            "10/10 [==============================] - 0s 3ms/step - loss: 1.8556 - mae: 1.8556 - mse: 8.4360 - val_loss: 1.6100 - val_mae: 1.6100 - val_mse: 6.3373\n",
            "Epoch 141/300\n",
            "10/10 [==============================] - 0s 3ms/step - loss: 1.8556 - mae: 1.8556 - mse: 8.4319 - val_loss: 1.6098 - val_mae: 1.6098 - val_mse: 6.3362\n",
            "Epoch 142/300\n",
            "10/10 [==============================] - 0s 4ms/step - loss: 1.8555 - mae: 1.8555 - mse: 8.4341 - val_loss: 1.6103 - val_mae: 1.6103 - val_mse: 6.3382\n",
            "Epoch 143/300\n",
            "10/10 [==============================] - 0s 4ms/step - loss: 1.8554 - mae: 1.8554 - mse: 8.4355 - val_loss: 1.6111 - val_mae: 1.6111 - val_mse: 6.3412\n",
            "Epoch 144/300\n",
            "10/10 [==============================] - 0s 3ms/step - loss: 1.8554 - mae: 1.8554 - mse: 8.4361 - val_loss: 1.6104 - val_mae: 1.6104 - val_mse: 6.3382\n",
            "Epoch 145/300\n",
            "10/10 [==============================] - 0s 5ms/step - loss: 1.8553 - mae: 1.8553 - mse: 8.4316 - val_loss: 1.6097 - val_mae: 1.6097 - val_mse: 6.3344\n",
            "Epoch 146/300\n",
            "10/10 [==============================] - 0s 3ms/step - loss: 1.8552 - mae: 1.8552 - mse: 8.4313 - val_loss: 1.6104 - val_mae: 1.6104 - val_mse: 6.3375\n",
            "Epoch 147/300\n",
            "10/10 [==============================] - 0s 3ms/step - loss: 1.8553 - mae: 1.8553 - mse: 8.4341 - val_loss: 1.6103 - val_mae: 1.6103 - val_mse: 6.3366\n",
            "Epoch 148/300\n",
            "10/10 [==============================] - 0s 3ms/step - loss: 1.8554 - mae: 1.8554 - mse: 8.4297 - val_loss: 1.6098 - val_mae: 1.6098 - val_mse: 6.3340\n",
            "Epoch 149/300\n",
            "10/10 [==============================] - 0s 3ms/step - loss: 1.8553 - mae: 1.8553 - mse: 8.4332 - val_loss: 1.6114 - val_mae: 1.6114 - val_mse: 6.3404\n",
            "Epoch 150/300\n",
            "10/10 [==============================] - 0s 3ms/step - loss: 1.8554 - mae: 1.8554 - mse: 8.4299 - val_loss: 1.6091 - val_mae: 1.6091 - val_mse: 6.3303\n",
            "Epoch 151/300\n",
            "10/10 [==============================] - 0s 3ms/step - loss: 1.8550 - mae: 1.8550 - mse: 8.4273 - val_loss: 1.6094 - val_mae: 1.6094 - val_mse: 6.3313\n",
            "Epoch 152/300\n",
            "10/10 [==============================] - 0s 3ms/step - loss: 1.8552 - mae: 1.8552 - mse: 8.4327 - val_loss: 1.6114 - val_mae: 1.6114 - val_mse: 6.3396\n",
            "Epoch 153/300\n",
            "10/10 [==============================] - 0s 3ms/step - loss: 1.8551 - mae: 1.8551 - mse: 8.4318 - val_loss: 1.6097 - val_mae: 1.6097 - val_mse: 6.3319\n",
            "Epoch 154/300\n",
            "10/10 [==============================] - 0s 6ms/step - loss: 1.8547 - mae: 1.8547 - mse: 8.4283 - val_loss: 1.6104 - val_mae: 1.6104 - val_mse: 6.3346\n",
            "Epoch 155/300\n",
            "10/10 [==============================] - 0s 3ms/step - loss: 1.8548 - mae: 1.8548 - mse: 8.4309 - val_loss: 1.6105 - val_mae: 1.6105 - val_mse: 6.3347\n",
            "Epoch 156/300\n",
            "10/10 [==============================] - 0s 3ms/step - loss: 1.8546 - mae: 1.8546 - mse: 8.4278 - val_loss: 1.6092 - val_mae: 1.6092 - val_mse: 6.3287\n",
            "Epoch 157/300\n",
            "10/10 [==============================] - 0s 3ms/step - loss: 1.8547 - mae: 1.8547 - mse: 8.4244 - val_loss: 1.6087 - val_mae: 1.6087 - val_mse: 6.3262\n",
            "Epoch 158/300\n",
            "10/10 [==============================] - 0s 3ms/step - loss: 1.8549 - mae: 1.8549 - mse: 8.4278 - val_loss: 1.6105 - val_mae: 1.6105 - val_mse: 6.3335\n",
            "Epoch 159/300\n",
            "10/10 [==============================] - 0s 3ms/step - loss: 1.8550 - mae: 1.8550 - mse: 8.4255 - val_loss: 1.6084 - val_mae: 1.6084 - val_mse: 6.3241\n",
            "Epoch 160/300\n",
            "10/10 [==============================] - 0s 3ms/step - loss: 1.8545 - mae: 1.8545 - mse: 8.4260 - val_loss: 1.6101 - val_mae: 1.6101 - val_mse: 6.3314\n",
            "Epoch 161/300\n",
            "10/10 [==============================] - 0s 3ms/step - loss: 1.8546 - mae: 1.8546 - mse: 8.4292 - val_loss: 1.6100 - val_mae: 1.6100 - val_mse: 6.3307\n",
            "Epoch 162/300\n",
            "10/10 [==============================] - 0s 4ms/step - loss: 1.8543 - mae: 1.8543 - mse: 8.4256 - val_loss: 1.6090 - val_mae: 1.6090 - val_mse: 6.3259\n",
            "Epoch 163/300\n",
            "10/10 [==============================] - 0s 3ms/step - loss: 1.8545 - mae: 1.8545 - mse: 8.4232 - val_loss: 1.6094 - val_mae: 1.6094 - val_mse: 6.3273\n",
            "Epoch 164/300\n",
            "10/10 [==============================] - 0s 3ms/step - loss: 1.8543 - mae: 1.8543 - mse: 8.4249 - val_loss: 1.6091 - val_mae: 1.6091 - val_mse: 6.3253\n",
            "Epoch 165/300\n",
            "10/10 [==============================] - 0s 4ms/step - loss: 1.8547 - mae: 1.8547 - mse: 8.4283 - val_loss: 1.6102 - val_mae: 1.6102 - val_mse: 6.3301\n",
            "Epoch 166/300\n",
            "10/10 [==============================] - 0s 3ms/step - loss: 1.8545 - mae: 1.8545 - mse: 8.4212 - val_loss: 1.6077 - val_mae: 1.6077 - val_mse: 6.3184\n",
            "Epoch 167/300\n",
            "10/10 [==============================] - 0s 3ms/step - loss: 1.8543 - mae: 1.8543 - mse: 8.4170 - val_loss: 1.6077 - val_mae: 1.6077 - val_mse: 6.3179\n",
            "Epoch 168/300\n",
            "10/10 [==============================] - 0s 3ms/step - loss: 1.8540 - mae: 1.8540 - mse: 8.4176 - val_loss: 1.6088 - val_mae: 1.6088 - val_mse: 6.3227\n",
            "Epoch 169/300\n",
            "10/10 [==============================] - 0s 3ms/step - loss: 1.8541 - mae: 1.8541 - mse: 8.4245 - val_loss: 1.6102 - val_mae: 1.6102 - val_mse: 6.3286\n",
            "Epoch 170/300\n",
            "10/10 [==============================] - 0s 3ms/step - loss: 1.8540 - mae: 1.8540 - mse: 8.4257 - val_loss: 1.6098 - val_mae: 1.6098 - val_mse: 6.3264\n",
            "Epoch 171/300\n",
            "10/10 [==============================] - 0s 3ms/step - loss: 1.8537 - mae: 1.8537 - mse: 8.4205 - val_loss: 1.6082 - val_mae: 1.6082 - val_mse: 6.3191\n",
            "Epoch 172/300\n",
            "10/10 [==============================] - 0s 4ms/step - loss: 1.8538 - mae: 1.8538 - mse: 8.4179 - val_loss: 1.6085 - val_mae: 1.6085 - val_mse: 6.3201\n",
            "Epoch 173/300\n",
            "10/10 [==============================] - 0s 3ms/step - loss: 1.8537 - mae: 1.8537 - mse: 8.4191 - val_loss: 1.6093 - val_mae: 1.6093 - val_mse: 6.3231\n",
            "Epoch 174/300\n",
            "10/10 [==============================] - 0s 3ms/step - loss: 1.8538 - mae: 1.8538 - mse: 8.4237 - val_loss: 1.6101 - val_mae: 1.6101 - val_mse: 6.3261\n",
            "Epoch 175/300\n",
            "10/10 [==============================] - 0s 3ms/step - loss: 1.8536 - mae: 1.8536 - mse: 8.4210 - val_loss: 1.6084 - val_mae: 1.6084 - val_mse: 6.3183\n",
            "Epoch 176/300\n",
            "10/10 [==============================] - 0s 3ms/step - loss: 1.8536 - mae: 1.8536 - mse: 8.4150 - val_loss: 1.6079 - val_mae: 1.6079 - val_mse: 6.3159\n",
            "Epoch 177/300\n",
            "10/10 [==============================] - 0s 3ms/step - loss: 1.8537 - mae: 1.8537 - mse: 8.4151 - val_loss: 1.6084 - val_mae: 1.6084 - val_mse: 6.3178\n",
            "Epoch 178/300\n",
            "10/10 [==============================] - 0s 4ms/step - loss: 1.8533 - mae: 1.8533 - mse: 8.4179 - val_loss: 1.6095 - val_mae: 1.6095 - val_mse: 6.3223\n",
            "Epoch 179/300\n",
            "10/10 [==============================] - 0s 3ms/step - loss: 1.8536 - mae: 1.8536 - mse: 8.4242 - val_loss: 1.6108 - val_mae: 1.6108 - val_mse: 6.3271\n",
            "Epoch 180/300\n",
            "10/10 [==============================] - 0s 3ms/step - loss: 1.8533 - mae: 1.8533 - mse: 8.4219 - val_loss: 1.6087 - val_mae: 1.6087 - val_mse: 6.3181\n",
            "Epoch 181/300\n",
            "10/10 [==============================] - 0s 3ms/step - loss: 1.8532 - mae: 1.8532 - mse: 8.4155 - val_loss: 1.6083 - val_mae: 1.6083 - val_mse: 6.3159\n",
            "Epoch 182/300\n",
            "10/10 [==============================] - 0s 3ms/step - loss: 1.8532 - mae: 1.8532 - mse: 8.4144 - val_loss: 1.6089 - val_mae: 1.6089 - val_mse: 6.3180\n",
            "Epoch 183/300\n",
            "10/10 [==============================] - 0s 3ms/step - loss: 1.8531 - mae: 1.8531 - mse: 8.4174 - val_loss: 1.6087 - val_mae: 1.6087 - val_mse: 6.3168\n",
            "Epoch 184/300\n",
            "10/10 [==============================] - 0s 3ms/step - loss: 1.8531 - mae: 1.8531 - mse: 8.4141 - val_loss: 1.6085 - val_mae: 1.6085 - val_mse: 6.3159\n",
            "Epoch 185/300\n",
            "10/10 [==============================] - 0s 3ms/step - loss: 1.8532 - mae: 1.8532 - mse: 8.4188 - val_loss: 1.6097 - val_mae: 1.6097 - val_mse: 6.3205\n",
            "Epoch 186/300\n",
            "10/10 [==============================] - 0s 3ms/step - loss: 1.8529 - mae: 1.8529 - mse: 8.4158 - val_loss: 1.6082 - val_mae: 1.6082 - val_mse: 6.3136\n",
            "Epoch 187/300\n",
            "10/10 [==============================] - 0s 3ms/step - loss: 1.8528 - mae: 1.8528 - mse: 8.4136 - val_loss: 1.6087 - val_mae: 1.6087 - val_mse: 6.3155\n",
            "Epoch 188/300\n",
            "10/10 [==============================] - 0s 3ms/step - loss: 1.8527 - mae: 1.8527 - mse: 8.4141 - val_loss: 1.6086 - val_mae: 1.6086 - val_mse: 6.3145\n",
            "Epoch 189/300\n",
            "10/10 [==============================] - 0s 3ms/step - loss: 1.8528 - mae: 1.8528 - mse: 8.4129 - val_loss: 1.6091 - val_mae: 1.6091 - val_mse: 6.3165\n",
            "Epoch 190/300\n",
            "10/10 [==============================] - 0s 3ms/step - loss: 1.8529 - mae: 1.8529 - mse: 8.4138 - val_loss: 1.6075 - val_mae: 1.6075 - val_mse: 6.3088\n",
            "Epoch 191/300\n",
            "10/10 [==============================] - 0s 3ms/step - loss: 1.8526 - mae: 1.8526 - mse: 8.4109 - val_loss: 1.6086 - val_mae: 1.6086 - val_mse: 6.3133\n",
            "Epoch 192/300\n",
            "10/10 [==============================] - 0s 3ms/step - loss: 1.8524 - mae: 1.8524 - mse: 8.4121 - val_loss: 1.6083 - val_mae: 1.6083 - val_mse: 6.3116\n",
            "Epoch 193/300\n",
            "10/10 [==============================] - 0s 3ms/step - loss: 1.8524 - mae: 1.8524 - mse: 8.4109 - val_loss: 1.6084 - val_mae: 1.6084 - val_mse: 6.3118\n",
            "Epoch 194/300\n",
            "10/10 [==============================] - 0s 3ms/step - loss: 1.8523 - mae: 1.8523 - mse: 8.4116 - val_loss: 1.6080 - val_mae: 1.6080 - val_mse: 6.3098\n",
            "Epoch 195/300\n",
            "10/10 [==============================] - 0s 3ms/step - loss: 1.8523 - mae: 1.8523 - mse: 8.4084 - val_loss: 1.6078 - val_mae: 1.6078 - val_mse: 6.3083\n",
            "Epoch 196/300\n",
            "10/10 [==============================] - 0s 4ms/step - loss: 1.8523 - mae: 1.8523 - mse: 8.4111 - val_loss: 1.6082 - val_mae: 1.6082 - val_mse: 6.3099\n",
            "Epoch 197/300\n",
            "10/10 [==============================] - 0s 3ms/step - loss: 1.8522 - mae: 1.8522 - mse: 8.4075 - val_loss: 1.6075 - val_mae: 1.6075 - val_mse: 6.3060\n",
            "Epoch 198/300\n",
            "10/10 [==============================] - 0s 3ms/step - loss: 1.8522 - mae: 1.8522 - mse: 8.4088 - val_loss: 1.6082 - val_mae: 1.6082 - val_mse: 6.3089\n",
            "Epoch 199/300\n",
            "10/10 [==============================] - 0s 3ms/step - loss: 1.8521 - mae: 1.8521 - mse: 8.4110 - val_loss: 1.6086 - val_mae: 1.6086 - val_mse: 6.3103\n",
            "Epoch 200/300\n",
            "10/10 [==============================] - 0s 3ms/step - loss: 1.8518 - mae: 1.8518 - mse: 8.4080 - val_loss: 1.6075 - val_mae: 1.6075 - val_mse: 6.3052\n",
            "Epoch 201/300\n",
            "10/10 [==============================] - 0s 3ms/step - loss: 1.8519 - mae: 1.8519 - mse: 8.4064 - val_loss: 1.6080 - val_mae: 1.6080 - val_mse: 6.3068\n",
            "Epoch 202/300\n",
            "10/10 [==============================] - 0s 3ms/step - loss: 1.8519 - mae: 1.8519 - mse: 8.4075 - val_loss: 1.6088 - val_mae: 1.6088 - val_mse: 6.3100\n",
            "Epoch 203/300\n",
            "10/10 [==============================] - 0s 5ms/step - loss: 1.8519 - mae: 1.8519 - mse: 8.4107 - val_loss: 1.6083 - val_mae: 1.6083 - val_mse: 6.3075\n",
            "Epoch 204/300\n",
            "10/10 [==============================] - 0s 3ms/step - loss: 1.8522 - mae: 1.8522 - mse: 8.4023 - val_loss: 1.6057 - val_mae: 1.6057 - val_mse: 6.2953\n",
            "Epoch 205/300\n",
            "10/10 [==============================] - 0s 3ms/step - loss: 1.8519 - mae: 1.8519 - mse: 8.3987 - val_loss: 1.6061 - val_mae: 1.6061 - val_mse: 6.2965\n",
            "Epoch 206/300\n",
            "10/10 [==============================] - 0s 3ms/step - loss: 1.8520 - mae: 1.8520 - mse: 8.4064 - val_loss: 1.6089 - val_mae: 1.6089 - val_mse: 6.3086\n",
            "Epoch 207/300\n",
            "10/10 [==============================] - 0s 4ms/step - loss: 1.8515 - mae: 1.8515 - mse: 8.4069 - val_loss: 1.6074 - val_mae: 1.6074 - val_mse: 6.3017\n",
            "Epoch 208/300\n",
            "10/10 [==============================] - 0s 3ms/step - loss: 1.8515 - mae: 1.8515 - mse: 8.4041 - val_loss: 1.6078 - val_mae: 1.6078 - val_mse: 6.3033\n",
            "Epoch 209/300\n",
            "10/10 [==============================] - 0s 4ms/step - loss: 1.8514 - mae: 1.8514 - mse: 8.4018 - val_loss: 1.6066 - val_mae: 1.6066 - val_mse: 6.2973\n",
            "Epoch 210/300\n",
            "10/10 [==============================] - 0s 4ms/step - loss: 1.8513 - mae: 1.8513 - mse: 8.4020 - val_loss: 1.6077 - val_mae: 1.6077 - val_mse: 6.3021\n",
            "Epoch 211/300\n",
            "10/10 [==============================] - 0s 4ms/step - loss: 1.8512 - mae: 1.8512 - mse: 8.4020 - val_loss: 1.6076 - val_mae: 1.6076 - val_mse: 6.3011\n",
            "Epoch 212/300\n",
            "10/10 [==============================] - 0s 4ms/step - loss: 1.8512 - mae: 1.8512 - mse: 8.4046 - val_loss: 1.6079 - val_mae: 1.6079 - val_mse: 6.3019\n",
            "Epoch 213/300\n",
            "10/10 [==============================] - 0s 3ms/step - loss: 1.8514 - mae: 1.8514 - mse: 8.3996 - val_loss: 1.6061 - val_mae: 1.6061 - val_mse: 6.2934\n",
            "Epoch 214/300\n",
            "10/10 [==============================] - 0s 3ms/step - loss: 1.8511 - mae: 1.8511 - mse: 8.3974 - val_loss: 1.6073 - val_mae: 1.6073 - val_mse: 6.2985\n",
            "Epoch 215/300\n",
            "10/10 [==============================] - 0s 3ms/step - loss: 1.8516 - mae: 1.8516 - mse: 8.4080 - val_loss: 1.6109 - val_mae: 1.6109 - val_mse: 6.3133\n",
            "Epoch 216/300\n",
            "10/10 [==============================] - 0s 3ms/step - loss: 1.8516 - mae: 1.8516 - mse: 8.4051 - val_loss: 1.6068 - val_mae: 1.6068 - val_mse: 6.2953\n",
            "Epoch 217/300\n",
            "10/10 [==============================] - 0s 4ms/step - loss: 1.8508 - mae: 1.8508 - mse: 8.3990 - val_loss: 1.6072 - val_mae: 1.6072 - val_mse: 6.2970\n",
            "Epoch 218/300\n",
            "10/10 [==============================] - 0s 3ms/step - loss: 1.8507 - mae: 1.8507 - mse: 8.3982 - val_loss: 1.6070 - val_mae: 1.6070 - val_mse: 6.2958\n",
            "Epoch 219/300\n",
            "10/10 [==============================] - 0s 3ms/step - loss: 1.8505 - mae: 1.8505 - mse: 8.3982 - val_loss: 1.6072 - val_mae: 1.6072 - val_mse: 6.2959\n",
            "Epoch 220/300\n",
            "10/10 [==============================] - 0s 3ms/step - loss: 1.8505 - mae: 1.8505 - mse: 8.3994 - val_loss: 1.6069 - val_mae: 1.6069 - val_mse: 6.2945\n",
            "Epoch 221/300\n",
            "10/10 [==============================] - 0s 4ms/step - loss: 1.8505 - mae: 1.8505 - mse: 8.3979 - val_loss: 1.6074 - val_mae: 1.6074 - val_mse: 6.2959\n",
            "Epoch 222/300\n",
            "10/10 [==============================] - 0s 4ms/step - loss: 1.8506 - mae: 1.8506 - mse: 8.3965 - val_loss: 1.6071 - val_mae: 1.6071 - val_mse: 6.2943\n",
            "Epoch 223/300\n",
            "10/10 [==============================] - 0s 3ms/step - loss: 1.8505 - mae: 1.8505 - mse: 8.3994 - val_loss: 1.6073 - val_mae: 1.6073 - val_mse: 6.2947\n",
            "Epoch 224/300\n",
            "10/10 [==============================] - 0s 4ms/step - loss: 1.8501 - mae: 1.8501 - mse: 8.3945 - val_loss: 1.6063 - val_mae: 1.6063 - val_mse: 6.2898\n",
            "Epoch 225/300\n",
            "10/10 [==============================] - 0s 3ms/step - loss: 1.8502 - mae: 1.8502 - mse: 8.3922 - val_loss: 1.6058 - val_mae: 1.6058 - val_mse: 6.2872\n",
            "Epoch 226/300\n",
            "10/10 [==============================] - 0s 3ms/step - loss: 1.8502 - mae: 1.8502 - mse: 8.3944 - val_loss: 1.6065 - val_mae: 1.6065 - val_mse: 6.2898\n",
            "Epoch 227/300\n",
            "10/10 [==============================] - 0s 3ms/step - loss: 1.8502 - mae: 1.8502 - mse: 8.3966 - val_loss: 1.6076 - val_mae: 1.6076 - val_mse: 6.2944\n",
            "Epoch 228/300\n",
            "10/10 [==============================] - 0s 3ms/step - loss: 1.8502 - mae: 1.8502 - mse: 8.3919 - val_loss: 1.6058 - val_mae: 1.6058 - val_mse: 6.2859\n",
            "Epoch 229/300\n",
            "10/10 [==============================] - 0s 3ms/step - loss: 1.8500 - mae: 1.8500 - mse: 8.3921 - val_loss: 1.6073 - val_mae: 1.6073 - val_mse: 6.2921\n",
            "Epoch 230/300\n",
            "10/10 [==============================] - 0s 3ms/step - loss: 1.8503 - mae: 1.8503 - mse: 8.3992 - val_loss: 1.6075 - val_mae: 1.6075 - val_mse: 6.2926\n",
            "Epoch 231/300\n",
            "10/10 [==============================] - 0s 3ms/step - loss: 1.8499 - mae: 1.8499 - mse: 8.3898 - val_loss: 1.6054 - val_mae: 1.6054 - val_mse: 6.2827\n",
            "Epoch 232/300\n",
            "10/10 [==============================] - 0s 4ms/step - loss: 1.8498 - mae: 1.8498 - mse: 8.3860 - val_loss: 1.6052 - val_mae: 1.6052 - val_mse: 6.2815\n",
            "Epoch 233/300\n",
            "10/10 [==============================] - 0s 3ms/step - loss: 1.8498 - mae: 1.8498 - mse: 8.3929 - val_loss: 1.6074 - val_mae: 1.6074 - val_mse: 6.2909\n",
            "Epoch 234/300\n",
            "10/10 [==============================] - 0s 4ms/step - loss: 1.8494 - mae: 1.8494 - mse: 8.3925 - val_loss: 1.6059 - val_mae: 1.6059 - val_mse: 6.2838\n",
            "Epoch 235/300\n",
            "10/10 [==============================] - 0s 3ms/step - loss: 1.8495 - mae: 1.8495 - mse: 8.3858 - val_loss: 1.6049 - val_mae: 1.6049 - val_mse: 6.2788\n",
            "Epoch 236/300\n",
            "10/10 [==============================] - 0s 4ms/step - loss: 1.8496 - mae: 1.8496 - mse: 8.3883 - val_loss: 1.6069 - val_mae: 1.6069 - val_mse: 6.2876\n",
            "Epoch 237/300\n",
            "10/10 [==============================] - 0s 3ms/step - loss: 1.8493 - mae: 1.8493 - mse: 8.3882 - val_loss: 1.6056 - val_mae: 1.6056 - val_mse: 6.2814\n",
            "Epoch 238/300\n",
            "10/10 [==============================] - 0s 4ms/step - loss: 1.8495 - mae: 1.8495 - mse: 8.3919 - val_loss: 1.6063 - val_mae: 1.6063 - val_mse: 6.2841\n",
            "Epoch 239/300\n",
            "10/10 [==============================] - 0s 3ms/step - loss: 1.8492 - mae: 1.8492 - mse: 8.3850 - val_loss: 1.6050 - val_mae: 1.6050 - val_mse: 6.2775\n",
            "Epoch 240/300\n",
            "10/10 [==============================] - 0s 3ms/step - loss: 1.8490 - mae: 1.8490 - mse: 8.3863 - val_loss: 1.6067 - val_mae: 1.6067 - val_mse: 6.2849\n",
            "Epoch 241/300\n",
            "10/10 [==============================] - 0s 4ms/step - loss: 1.8490 - mae: 1.8490 - mse: 8.3880 - val_loss: 1.6052 - val_mae: 1.6052 - val_mse: 6.2775\n",
            "Epoch 242/300\n",
            "10/10 [==============================] - 0s 3ms/step - loss: 1.8491 - mae: 1.8491 - mse: 8.3807 - val_loss: 1.6040 - val_mae: 1.6040 - val_mse: 6.2715\n",
            "Epoch 243/300\n",
            "10/10 [==============================] - 0s 3ms/step - loss: 1.8492 - mae: 1.8492 - mse: 8.3839 - val_loss: 1.6074 - val_mae: 1.6074 - val_mse: 6.2863\n",
            "Epoch 244/300\n",
            "10/10 [==============================] - 0s 4ms/step - loss: 1.8487 - mae: 1.8487 - mse: 8.3871 - val_loss: 1.6057 - val_mae: 1.6057 - val_mse: 6.2786\n",
            "Epoch 245/300\n",
            "10/10 [==============================] - 0s 3ms/step - loss: 1.8486 - mae: 1.8486 - mse: 8.3830 - val_loss: 1.6055 - val_mae: 1.6055 - val_mse: 6.2773\n",
            "Epoch 246/300\n",
            "10/10 [==============================] - 0s 3ms/step - loss: 1.8485 - mae: 1.8485 - mse: 8.3833 - val_loss: 1.6060 - val_mae: 1.6060 - val_mse: 6.2790\n",
            "Epoch 247/300\n",
            "10/10 [==============================] - 0s 3ms/step - loss: 1.8494 - mae: 1.8494 - mse: 8.3924 - val_loss: 1.6083 - val_mae: 1.6083 - val_mse: 6.2885\n",
            "Epoch 248/300\n",
            "10/10 [==============================] - 0s 4ms/step - loss: 1.8487 - mae: 1.8487 - mse: 8.3868 - val_loss: 1.6048 - val_mae: 1.6048 - val_mse: 6.2730\n",
            "Epoch 249/300\n",
            "10/10 [==============================] - 0s 3ms/step - loss: 1.8483 - mae: 1.8483 - mse: 8.3797 - val_loss: 1.6055 - val_mae: 1.6055 - val_mse: 6.2758\n",
            "Epoch 250/300\n",
            "10/10 [==============================] - 0s 3ms/step - loss: 1.8483 - mae: 1.8483 - mse: 8.3830 - val_loss: 1.6067 - val_mae: 1.6067 - val_mse: 6.2804\n",
            "Epoch 251/300\n",
            "10/10 [==============================] - 0s 3ms/step - loss: 1.8483 - mae: 1.8483 - mse: 8.3852 - val_loss: 1.6063 - val_mae: 1.6063 - val_mse: 6.2780\n",
            "Epoch 252/300\n",
            "10/10 [==============================] - 0s 3ms/step - loss: 1.8481 - mae: 1.8481 - mse: 8.3819 - val_loss: 1.6041 - val_mae: 1.6041 - val_mse: 6.2681\n",
            "Epoch 253/300\n",
            "10/10 [==============================] - 0s 3ms/step - loss: 1.8481 - mae: 1.8481 - mse: 8.3743 - val_loss: 1.6033 - val_mae: 1.6033 - val_mse: 6.2639\n",
            "Epoch 254/300\n",
            "10/10 [==============================] - 0s 3ms/step - loss: 1.8480 - mae: 1.8480 - mse: 8.3764 - val_loss: 1.6055 - val_mae: 1.6055 - val_mse: 6.2733\n",
            "Epoch 255/300\n",
            "10/10 [==============================] - 0s 3ms/step - loss: 1.8478 - mae: 1.8478 - mse: 8.3797 - val_loss: 1.6052 - val_mae: 1.6052 - val_mse: 6.2716\n",
            "Epoch 256/300\n",
            "10/10 [==============================] - 0s 3ms/step - loss: 1.8477 - mae: 1.8477 - mse: 8.3793 - val_loss: 1.6047 - val_mae: 1.6047 - val_mse: 6.2688\n",
            "Epoch 257/300\n",
            "10/10 [==============================] - 0s 4ms/step - loss: 1.8477 - mae: 1.8477 - mse: 8.3725 - val_loss: 1.6037 - val_mae: 1.6037 - val_mse: 6.2638\n",
            "Epoch 258/300\n",
            "10/10 [==============================] - 0s 4ms/step - loss: 1.8481 - mae: 1.8481 - mse: 8.3694 - val_loss: 1.6026 - val_mae: 1.6026 - val_mse: 6.2584\n",
            "Epoch 259/300\n",
            "10/10 [==============================] - 0s 3ms/step - loss: 1.8479 - mae: 1.8479 - mse: 8.3747 - val_loss: 1.6063 - val_mae: 1.6063 - val_mse: 6.2745\n",
            "Epoch 260/300\n",
            "10/10 [==============================] - 0s 3ms/step - loss: 1.8476 - mae: 1.8476 - mse: 8.3782 - val_loss: 1.6047 - val_mae: 1.6047 - val_mse: 6.2674\n",
            "Epoch 261/300\n",
            "10/10 [==============================] - 0s 4ms/step - loss: 1.8475 - mae: 1.8475 - mse: 8.3724 - val_loss: 1.6042 - val_mae: 1.6042 - val_mse: 6.2642\n",
            "Epoch 262/300\n",
            "10/10 [==============================] - 0s 4ms/step - loss: 1.8472 - mae: 1.8472 - mse: 8.3730 - val_loss: 1.6059 - val_mae: 1.6059 - val_mse: 6.2713\n",
            "Epoch 263/300\n",
            "10/10 [==============================] - 0s 3ms/step - loss: 1.8473 - mae: 1.8473 - mse: 8.3775 - val_loss: 1.6051 - val_mae: 1.6051 - val_mse: 6.2674\n",
            "Epoch 264/300\n",
            "10/10 [==============================] - 0s 3ms/step - loss: 1.8473 - mae: 1.8473 - mse: 8.3774 - val_loss: 1.6056 - val_mae: 1.6056 - val_mse: 6.2691\n",
            "Epoch 265/300\n",
            "10/10 [==============================] - 0s 4ms/step - loss: 1.8475 - mae: 1.8475 - mse: 8.3705 - val_loss: 1.6026 - val_mae: 1.6026 - val_mse: 6.2550\n",
            "Epoch 266/300\n",
            "10/10 [==============================] - 0s 4ms/step - loss: 1.8471 - mae: 1.8471 - mse: 8.3644 - val_loss: 1.6030 - val_mae: 1.6030 - val_mse: 6.2566\n",
            "Epoch 267/300\n",
            "10/10 [==============================] - 0s 4ms/step - loss: 1.8468 - mae: 1.8468 - mse: 8.3706 - val_loss: 1.6056 - val_mae: 1.6056 - val_mse: 6.2680\n",
            "Epoch 268/300\n",
            "10/10 [==============================] - 0s 3ms/step - loss: 1.8469 - mae: 1.8469 - mse: 8.3737 - val_loss: 1.6050 - val_mae: 1.6050 - val_mse: 6.2647\n",
            "Epoch 269/300\n",
            "10/10 [==============================] - 0s 4ms/step - loss: 1.8468 - mae: 1.8468 - mse: 8.3722 - val_loss: 1.6033 - val_mae: 1.6033 - val_mse: 6.2569\n",
            "Epoch 270/300\n",
            "10/10 [==============================] - 0s 4ms/step - loss: 1.8471 - mae: 1.8471 - mse: 8.3725 - val_loss: 1.6054 - val_mae: 1.6054 - val_mse: 6.2657\n",
            "Epoch 271/300\n",
            "10/10 [==============================] - 0s 4ms/step - loss: 1.8465 - mae: 1.8465 - mse: 8.3705 - val_loss: 1.6044 - val_mae: 1.6044 - val_mse: 6.2608\n",
            "Epoch 272/300\n",
            "10/10 [==============================] - 0s 3ms/step - loss: 1.8467 - mae: 1.8467 - mse: 8.3734 - val_loss: 1.6046 - val_mae: 1.6046 - val_mse: 6.2615\n",
            "Epoch 273/300\n",
            "10/10 [==============================] - 0s 4ms/step - loss: 1.8464 - mae: 1.8464 - mse: 8.3647 - val_loss: 1.6025 - val_mae: 1.6025 - val_mse: 6.2512\n",
            "Epoch 274/300\n",
            "10/10 [==============================] - 0s 4ms/step - loss: 1.8466 - mae: 1.8466 - mse: 8.3612 - val_loss: 1.6031 - val_mae: 1.6031 - val_mse: 6.2536\n",
            "Epoch 275/300\n",
            "10/10 [==============================] - 0s 4ms/step - loss: 1.8461 - mae: 1.8461 - mse: 8.3673 - val_loss: 1.6053 - val_mae: 1.6053 - val_mse: 6.2627\n",
            "Epoch 276/300\n",
            "10/10 [==============================] - 0s 4ms/step - loss: 1.8467 - mae: 1.8467 - mse: 8.3667 - val_loss: 1.6036 - val_mae: 1.6036 - val_mse: 6.2552\n",
            "Epoch 277/300\n",
            "10/10 [==============================] - 0s 3ms/step - loss: 1.8461 - mae: 1.8461 - mse: 8.3693 - val_loss: 1.6058 - val_mae: 1.6058 - val_mse: 6.2638\n",
            "Epoch 278/300\n",
            "10/10 [==============================] - 0s 3ms/step - loss: 1.8460 - mae: 1.8460 - mse: 8.3678 - val_loss: 1.6039 - val_mae: 1.6039 - val_mse: 6.2553\n",
            "Epoch 279/300\n",
            "10/10 [==============================] - 0s 3ms/step - loss: 1.8458 - mae: 1.8458 - mse: 8.3654 - val_loss: 1.6042 - val_mae: 1.6042 - val_mse: 6.2564\n",
            "Epoch 280/300\n",
            "10/10 [==============================] - 0s 3ms/step - loss: 1.8457 - mae: 1.8457 - mse: 8.3641 - val_loss: 1.6030 - val_mae: 1.6030 - val_mse: 6.2506\n",
            "Epoch 281/300\n",
            "10/10 [==============================] - 0s 3ms/step - loss: 1.8457 - mae: 1.8457 - mse: 8.3613 - val_loss: 1.6038 - val_mae: 1.6038 - val_mse: 6.2537\n",
            "Epoch 282/300\n",
            "10/10 [==============================] - 0s 3ms/step - loss: 1.8456 - mae: 1.8456 - mse: 8.3643 - val_loss: 1.6027 - val_mae: 1.6027 - val_mse: 6.2482\n",
            "Epoch 283/300\n",
            "10/10 [==============================] - 0s 3ms/step - loss: 1.8454 - mae: 1.8454 - mse: 8.3604 - val_loss: 1.6034 - val_mae: 1.6034 - val_mse: 6.2510\n",
            "Epoch 284/300\n",
            "10/10 [==============================] - 0s 3ms/step - loss: 1.8454 - mae: 1.8454 - mse: 8.3612 - val_loss: 1.6039 - val_mae: 1.6039 - val_mse: 6.2527\n",
            "Epoch 285/300\n",
            "10/10 [==============================] - 0s 4ms/step - loss: 1.8455 - mae: 1.8455 - mse: 8.3646 - val_loss: 1.6037 - val_mae: 1.6037 - val_mse: 6.2513\n",
            "Epoch 286/300\n",
            "10/10 [==============================] - 0s 4ms/step - loss: 1.8453 - mae: 1.8453 - mse: 8.3592 - val_loss: 1.6031 - val_mae: 1.6031 - val_mse: 6.2483\n",
            "Epoch 287/300\n",
            "10/10 [==============================] - 0s 3ms/step - loss: 1.8451 - mae: 1.8451 - mse: 8.3610 - val_loss: 1.6035 - val_mae: 1.6035 - val_mse: 6.2497\n",
            "Epoch 288/300\n",
            "10/10 [==============================] - 0s 3ms/step - loss: 1.8456 - mae: 1.8456 - mse: 8.3647 - val_loss: 1.6035 - val_mae: 1.6035 - val_mse: 6.2490\n",
            "Epoch 289/300\n",
            "10/10 [==============================] - 0s 3ms/step - loss: 1.8450 - mae: 1.8450 - mse: 8.3573 - val_loss: 1.6030 - val_mae: 1.6030 - val_mse: 6.2465\n",
            "Epoch 290/300\n",
            "10/10 [==============================] - 0s 3ms/step - loss: 1.8449 - mae: 1.8449 - mse: 8.3575 - val_loss: 1.6026 - val_mae: 1.6026 - val_mse: 6.2443\n",
            "Epoch 291/300\n",
            "10/10 [==============================] - 0s 5ms/step - loss: 1.8448 - mae: 1.8448 - mse: 8.3578 - val_loss: 1.6036 - val_mae: 1.6036 - val_mse: 6.2480\n",
            "Epoch 292/300\n",
            "10/10 [==============================] - 0s 3ms/step - loss: 1.8447 - mae: 1.8447 - mse: 8.3566 - val_loss: 1.6021 - val_mae: 1.6021 - val_mse: 6.2410\n",
            "Epoch 293/300\n",
            "10/10 [==============================] - 0s 3ms/step - loss: 1.8448 - mae: 1.8448 - mse: 8.3577 - val_loss: 1.6036 - val_mae: 1.6036 - val_mse: 6.2472\n",
            "Epoch 294/300\n",
            "10/10 [==============================] - 0s 3ms/step - loss: 1.8448 - mae: 1.8448 - mse: 8.3559 - val_loss: 1.6020 - val_mae: 1.6020 - val_mse: 6.2393\n",
            "Epoch 295/300\n",
            "10/10 [==============================] - 0s 4ms/step - loss: 1.8445 - mae: 1.8445 - mse: 8.3554 - val_loss: 1.6043 - val_mae: 1.6043 - val_mse: 6.2490\n",
            "Epoch 296/300\n",
            "10/10 [==============================] - 0s 3ms/step - loss: 1.8446 - mae: 1.8446 - mse: 8.3616 - val_loss: 1.6039 - val_mae: 1.6039 - val_mse: 6.2471\n",
            "Epoch 297/300\n",
            "10/10 [==============================] - 0s 3ms/step - loss: 1.8445 - mae: 1.8445 - mse: 8.3534 - val_loss: 1.6009 - val_mae: 1.6009 - val_mse: 6.2332\n",
            "Epoch 298/300\n",
            "10/10 [==============================] - 0s 4ms/step - loss: 1.8446 - mae: 1.8446 - mse: 8.3501 - val_loss: 1.6032 - val_mae: 1.6032 - val_mse: 6.2431\n",
            "Epoch 299/300\n",
            "10/10 [==============================] - 0s 3ms/step - loss: 1.8441 - mae: 1.8441 - mse: 8.3517 - val_loss: 1.6015 - val_mae: 1.6015 - val_mse: 6.2350\n",
            "Epoch 300/300\n",
            "10/10 [==============================] - 0s 3ms/step - loss: 1.8440 - mae: 1.8440 - mse: 8.3512 - val_loss: 1.6024 - val_mae: 1.6024 - val_mse: 6.2386\n"
          ],
          "name": "stdout"
        }
      ]
    },
    {
      "cell_type": "code",
      "metadata": {
        "colab": {
          "base_uri": "https://localhost:8080/"
        },
        "id": "xqE741_rrsRp",
        "outputId": "6006ad02-ddc6-4f5d-c2b0-9f182691df87"
      },
      "source": [
        "print(history)"
      ],
      "execution_count": 24,
      "outputs": [
        {
          "output_type": "stream",
          "text": [
            "<tensorflow.python.keras.callbacks.History object at 0x7f360bb6a310>\n"
          ],
          "name": "stdout"
        }
      ]
    },
    {
      "cell_type": "code",
      "metadata": {
        "colab": {
          "base_uri": "https://localhost:8080/"
        },
        "id": "U07GtxBgr8_I",
        "outputId": "b1d9264f-0081-46fd-9d66-8f00aabd1ac6"
      },
      "source": [
        "model.summary()"
      ],
      "execution_count": 25,
      "outputs": [
        {
          "output_type": "stream",
          "text": [
            "Model: \"sequential\"\n",
            "_________________________________________________________________\n",
            "Layer (type)                 Output Shape              Param #   \n",
            "=================================================================\n",
            "dense (Dense)                (None, 1)                 2         \n",
            "=================================================================\n",
            "Total params: 2\n",
            "Trainable params: 2\n",
            "Non-trainable params: 0\n",
            "_________________________________________________________________\n"
          ],
          "name": "stdout"
        }
      ]
    },
    {
      "cell_type": "code",
      "metadata": {
        "colab": {
          "base_uri": "https://localhost:8080/",
          "height": 1000
        },
        "id": "wKlMJzQfsYtd",
        "outputId": "ff76bd08-90b1-498d-8eaf-c9cdf51eb8b9"
      },
      "source": [
        "def CurvePlots(tempString):\n",
        "  plt.plot(history.history[tempString])\n",
        "  plt.plot(history.history[f'val_{tempString}'])\n",
        "  plt.xlabel('NumEpochs')\n",
        "  plt.ylabel(tempString)\n",
        "  plt.legend([tempString, f'val_{tempString}'])\n",
        "  plt.show()\n",
        "\n",
        "\n",
        "CurvePlots('mse')\n",
        "CurvePlots('mae')\n",
        "CurvePlots('loss')"
      ],
      "execution_count": 26,
      "outputs": [
        {
          "output_type": "display_data",
          "data": {
            "image/png": "[encoded data removed]",
            "text/plain": [
              "<Figure size 576x396 with 1 Axes>"
            ]
          },
          "metadata": {
            "tags": []
          }
        },
        {
          "output_type": "display_data",
          "data": {
            "image/png": "[encoded data removed]",
            "text/plain": [
              "<Figure size 576x396 with 1 Axes>"
            ]
          },
          "metadata": {
            "tags": []
          }
        },
        {
          "output_type": "display_data",
          "data": {
            "image/png": "[encoded data removed]",
            "text/plain": [
              "<Figure size 576x396 with 1 Axes>"
            ]
          },
          "metadata": {
            "tags": []
          }
        }
      ]
    },
    {
      "cell_type": "code",
      "metadata": {
        "colab": {
          "base_uri": "https://localhost:8080/"
        },
        "id": "HF2dcIRxtUtS",
        "outputId": "9f8de43b-11e7-40eb-b918-1fa050681334"
      },
      "source": [
        "model.predict([1])"
      ],
      "execution_count": 29,
      "outputs": [
        {
          "output_type": "execute_result",
          "data": {
            "text/plain": [
              "array([[1.2221009]], dtype=float32)"
            ]
          },
          "metadata": {
            "tags": []
          },
          "execution_count": 29
        }
      ]
    },
    {
      "cell_type": "code",
      "metadata": {
        "colab": {
          "base_uri": "https://localhost:8080/"
        },
        "id": "kq_MPxNjtj_W",
        "outputId": "4ee25a60-0b11-4614-993f-39b4d94f77d9"
      },
      "source": [
        "print(f'Prediction for input value 1: {model.predict([1])}')\n",
        "\n",
        "TempListforPreds = [1,2,3,4,5]\n",
        "print(f'''input List = {TempListforPreds}\n",
        "\n",
        "\n",
        "List of Predictions:\n",
        "{model.predict(TempListforPreds)}\n",
        "\n",
        "List of Predictions (flattened out):\n",
        "{model.predict(TempListforPreds).flatten()}\n",
        "''')"
      ],
      "execution_count": 30,
      "outputs": [
        {
          "output_type": "stream",
          "text": [
            "Prediction for input value 1: [[1.2221009]]\n",
            "input List = [1, 2, 3, 4, 5]\n",
            "\n",
            "\n",
            "List of Predictions:\n",
            "[[1.2221009]\n",
            " [2.2017996]\n",
            " [3.1814985]\n",
            " [4.161197 ]\n",
            " [5.1408963]]\n",
            "\n",
            "List of Predictions (flattened out):\n",
            "[1.2221009 2.2017996 3.1814985 4.161197  5.1408963]\n",
            "\n"
          ],
          "name": "stdout"
        }
      ]
    },
    {
      "cell_type": "code",
      "metadata": {
        "colab": {
          "base_uri": "https://localhost:8080/"
        },
        "id": "S_6Dp6-SuIHF",
        "outputId": "61b6b54a-d650-4961-cca0-5abe35c04dd9"
      },
      "source": [
        "print(TestFeatures)"
      ],
      "execution_count": 31,
      "outputs": [
        {
          "output_type": "stream",
          "text": [
            "     G1\n",
            "9    14\n",
            "25    6\n",
            "28   11\n",
            "31   17\n",
            "32   17\n",
            "..   ..\n",
            "365  10\n",
            "367   7\n",
            "379  10\n",
            "381   7\n",
            "393  11\n",
            "\n",
            "[79 rows x 1 columns]\n"
          ],
          "name": "stdout"
        }
      ]
    },
    {
      "cell_type": "code",
      "metadata": {
        "id": "9kP6pjYVuORD"
      },
      "source": [
        "TestPreds = model.predict(TestFeatures).flatten()"
      ],
      "execution_count": 33,
      "outputs": []
    },
    {
      "cell_type": "code",
      "metadata": {
        "colab": {
          "base_uri": "https://localhost:8080/"
        },
        "id": "YDeeOOZJuY2P",
        "outputId": "50540595-fe56-41b4-8809-71df7c731d70"
      },
      "source": [
        "print(len(TestPreds))\n",
        "print(TestPreds)"
      ],
      "execution_count": 34,
      "outputs": [
        {
          "output_type": "stream",
          "text": [
            "79\n",
            "[13.958186  6.120595 11.01909  16.897282 16.897282 11.998788 13.958186\n",
            " 18.85668  18.85668   8.079992 13.958186 12.978487  8.079992  7.100294\n",
            "  9.059691 12.978487 11.01909  15.917583  7.100294 10.039391 14.937884\n",
            " 12.978487 13.958186 15.917583  7.100294  7.100294  8.079992 10.039391\n",
            " 11.998788 10.039391 11.998788 12.978487 10.039391  6.120595  9.059691\n",
            " 11.998788  7.100294  8.079992 13.958186  9.059691  9.059691  7.100294\n",
            " 11.998788  6.120595 12.978487  7.100294  7.100294 11.01909  12.978487\n",
            " 16.897282 11.998788 14.937884  9.059691 11.998788 14.937884 11.998788\n",
            " 14.937884 11.998788 14.937884 11.01909  11.998788  8.079992 15.917583\n",
            "  7.100294 15.917583 11.01909  15.917583 12.978487  8.079992  8.079992\n",
            " 11.998788 17.87698  12.978487 15.917583 10.039391  7.100294 10.039391\n",
            "  7.100294 11.01909 ]\n"
          ],
          "name": "stdout"
        }
      ]
    },
    {
      "cell_type": "code",
      "metadata": {
        "colab": {
          "base_uri": "https://localhost:8080/",
          "height": 361
        },
        "id": "3rDAzUQxumPW",
        "outputId": "f1227303-65bd-4678-f6b1-ba5326f5e0dd"
      },
      "source": [
        "def predPlot(labels, predictions):\n",
        "  plt.scatter(labels, predictions)\n",
        "  plt.ylabel('Predictions')\n",
        "  plt.xlabel('True Value or Labels')\n",
        "  plt.axis('equal')\n",
        "  plt.axis('square')\n",
        "  plt.xlim([0, plt.xlim()[1]])\n",
        "  plt.ylim([0, plt.ylim()[1]])\n",
        "  plt.show()\n",
        "\n",
        "predPlot(TestLabels, TestPreds)"
      ],
      "execution_count": 35,
      "outputs": [
        {
          "output_type": "display_data",
          "data": {
            "image/png": "[encoded data removed]",
            "text/plain": [
              "<Figure size 576x396 with 1 Axes>"
            ]
          },
          "metadata": {
            "tags": []
          }
        }
      ]
    },
    {
      "cell_type": "code",
      "metadata": {
        "colab": {
          "base_uri": "https://localhost:8080/",
          "height": 361
        },
        "id": "vK0euYVIu2ML",
        "outputId": "ef606783-73f4-4a21-e03f-bc7bbea7ebf6"
      },
      "source": [
        "def errorPlot(preds, labels, counts):\n",
        "  errors = preds - labels\n",
        "  plt.hist(errors, counts)\n",
        "  plt.xlabel('Error')\n",
        "  plt.ylabel('Counts')\n",
        "  plt.show()\n",
        "\n",
        "errorPlot(TestPreds, TestLabels, numEpochs)\n"
      ],
      "execution_count": 36,
      "outputs": [
        {
          "output_type": "display_data",
          "data": {
            "image/png": "[encoded data removed]",
            "text/plain": [
              "<Figure size 576x396 with 1 Axes>"
            ]
          },
          "metadata": {
            "tags": []
          }
        }
      ]
    }
  ]
}