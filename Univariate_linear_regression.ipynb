{
  "nbformat": 4,
  "nbformat_minor": 0,
  "metadata": {
    "colab": {
      "name": "Univariate_linear_regression.ipynb",
      "provenance": [],
      "authorship_tag": "ABX9TyOTt6C6YbvGJ3jiFkNOyLD+",
      "include_colab_link": true
    },
    "kernelspec": {
      "name": "python3",
      "display_name": "Python 3"
    },
    "language_info": {
      "name": "python"
    }
  },
  "cells": [
    {
      "cell_type": "markdown",
      "metadata": {
        "id": "view-in-github",
        "colab_type": "text"
      },
      "source": [
        "<a href=\"https://colab.research.google.com/github/bikash086-ctrl/MLnow_2.0/blob/main/Univariate_linear_regression.ipynb\" target=\"_parent\"><img src=\"https://colab.research.google.com/assets/colab-badge.svg\" alt=\"Open In Colab\"/></a>"
      ]
    },
    {
      "cell_type": "code",
      "metadata": {
        "colab": {
          "base_uri": "https://localhost:8080/"
        },
        "id": "ix-TKTBub32J",
        "outputId": "113ff25d-e857-408d-a6ef-21d7a68d815f"
      },
      "source": [
        "from google.colab import drive\n",
        "drive.mount('/content/drive')"
      ],
      "execution_count": 94,
      "outputs": [
        {
          "output_type": "stream",
          "text": [
            "Drive already mounted at /content/drive; to attempt to forcibly remount, call drive.mount(\"/content/drive\", force_remount=True).\n"
          ],
          "name": "stdout"
        }
      ]
    },
    {
      "cell_type": "code",
      "metadata": {
        "id": "i_NGsgUAetbE",
        "colab": {
          "base_uri": "https://localhost:8080/"
        },
        "outputId": "105df91a-2e66-4f9a-cef8-a9edb2941529"
      },
      "source": [
        "cd'/content/drive/MyDrive/student/student'"
      ],
      "execution_count": 95,
      "outputs": [
        {
          "output_type": "stream",
          "text": [
            "/content/drive/MyDrive/student/student\n"
          ],
          "name": "stdout"
        }
      ]
    },
    {
      "cell_type": "code",
      "metadata": {
        "colab": {
          "base_uri": "https://localhost:8080/"
        },
        "id": "t33UWxsMmu1U",
        "outputId": "133a807d-9dea-448f-bced-1efde4c2f45b"
      },
      "source": [
        "ls"
      ],
      "execution_count": 96,
      "outputs": [
        {
          "output_type": "stream",
          "text": [
            "cleanedMathData.csv  student-merge.R     student.txt\n",
            "student.gdoc         student-por.csv     Univariate_MathData_2.csv\n",
            "student-mat.csv      student-por.gsheet\n"
          ],
          "name": "stdout"
        }
      ]
    },
    {
      "cell_type": "code",
      "metadata": {
        "id": "55UvB2Y-m73F"
      },
      "source": [
        "import pandas as pd\n",
        "import numpy as np \n",
        "import tensorflow as tf \n",
        "from tensorflow import keras\n",
        "import os"
      ],
      "execution_count": 97,
      "outputs": []
    },
    {
      "cell_type": "code",
      "metadata": {
        "id": "cfKzaLEWnFUV"
      },
      "source": [
        "MathData = pd.read_csv('student-mat.csv', sep=';') "
      ],
      "execution_count": 98,
      "outputs": []
    },
    {
      "cell_type": "code",
      "metadata": {
        "colab": {
          "base_uri": "https://localhost:8080/",
          "height": 375
        },
        "id": "U1_rA5CgnQ6H",
        "outputId": "e2f6b034-e02c-4c6a-983d-3d9b74c73a8f"
      },
      "source": [
        "MathData.head(10)"
      ],
      "execution_count": 99,
      "outputs": [
        {
          "output_type": "execute_result",
          "data": {
            "text/html": [
              "<div>\n",
              "<style scoped>\n",
              "    .dataframe tbody tr th:only-of-type {\n",
              "        vertical-align: middle;\n",
              "    }\n",
              "\n",
              "    .dataframe tbody tr th {\n",
              "        vertical-align: top;\n",
              "    }\n",
              "\n",
              "    .dataframe thead th {\n",
              "        text-align: right;\n",
              "    }\n",
              "</style>\n",
              "<table border=\"1\" class=\"dataframe\">\n",
              "  <thead>\n",
              "    <tr style=\"text-align: right;\">\n",
              "      <th></th>\n",
              "      <th>school</th>\n",
              "      <th>sex</th>\n",
              "      <th>age</th>\n",
              "      <th>address</th>\n",
              "      <th>famsize</th>\n",
              "      <th>Pstatus</th>\n",
              "      <th>Medu</th>\n",
              "      <th>Fedu</th>\n",
              "      <th>Mjob</th>\n",
              "      <th>Fjob</th>\n",
              "      <th>reason</th>\n",
              "      <th>guardian</th>\n",
              "      <th>traveltime</th>\n",
              "      <th>studytime</th>\n",
              "      <th>failures</th>\n",
              "      <th>schoolsup</th>\n",
              "      <th>famsup</th>\n",
              "      <th>paid</th>\n",
              "      <th>activities</th>\n",
              "      <th>nursery</th>\n",
              "      <th>higher</th>\n",
              "      <th>internet</th>\n",
              "      <th>romantic</th>\n",
              "      <th>famrel</th>\n",
              "      <th>freetime</th>\n",
              "      <th>goout</th>\n",
              "      <th>Dalc</th>\n",
              "      <th>Walc</th>\n",
              "      <th>health</th>\n",
              "      <th>absences</th>\n",
              "      <th>G1</th>\n",
              "      <th>G2</th>\n",
              "      <th>G3</th>\n",
              "    </tr>\n",
              "  </thead>\n",
              "  <tbody>\n",
              "    <tr>\n",
              "      <th>0</th>\n",
              "      <td>GP</td>\n",
              "      <td>F</td>\n",
              "      <td>18</td>\n",
              "      <td>U</td>\n",
              "      <td>GT3</td>\n",
              "      <td>A</td>\n",
              "      <td>4</td>\n",
              "      <td>4</td>\n",
              "      <td>at_home</td>\n",
              "      <td>teacher</td>\n",
              "      <td>course</td>\n",
              "      <td>mother</td>\n",
              "      <td>2</td>\n",
              "      <td>2</td>\n",
              "      <td>0</td>\n",
              "      <td>yes</td>\n",
              "      <td>no</td>\n",
              "      <td>no</td>\n",
              "      <td>no</td>\n",
              "      <td>yes</td>\n",
              "      <td>yes</td>\n",
              "      <td>no</td>\n",
              "      <td>no</td>\n",
              "      <td>4</td>\n",
              "      <td>3</td>\n",
              "      <td>4</td>\n",
              "      <td>1</td>\n",
              "      <td>1</td>\n",
              "      <td>3</td>\n",
              "      <td>6</td>\n",
              "      <td>5</td>\n",
              "      <td>6</td>\n",
              "      <td>6</td>\n",
              "    </tr>\n",
              "    <tr>\n",
              "      <th>1</th>\n",
              "      <td>GP</td>\n",
              "      <td>F</td>\n",
              "      <td>17</td>\n",
              "      <td>U</td>\n",
              "      <td>GT3</td>\n",
              "      <td>T</td>\n",
              "      <td>1</td>\n",
              "      <td>1</td>\n",
              "      <td>at_home</td>\n",
              "      <td>other</td>\n",
              "      <td>course</td>\n",
              "      <td>father</td>\n",
              "      <td>1</td>\n",
              "      <td>2</td>\n",
              "      <td>0</td>\n",
              "      <td>no</td>\n",
              "      <td>yes</td>\n",
              "      <td>no</td>\n",
              "      <td>no</td>\n",
              "      <td>no</td>\n",
              "      <td>yes</td>\n",
              "      <td>yes</td>\n",
              "      <td>no</td>\n",
              "      <td>5</td>\n",
              "      <td>3</td>\n",
              "      <td>3</td>\n",
              "      <td>1</td>\n",
              "      <td>1</td>\n",
              "      <td>3</td>\n",
              "      <td>4</td>\n",
              "      <td>5</td>\n",
              "      <td>5</td>\n",
              "      <td>6</td>\n",
              "    </tr>\n",
              "    <tr>\n",
              "      <th>2</th>\n",
              "      <td>GP</td>\n",
              "      <td>F</td>\n",
              "      <td>15</td>\n",
              "      <td>U</td>\n",
              "      <td>LE3</td>\n",
              "      <td>T</td>\n",
              "      <td>1</td>\n",
              "      <td>1</td>\n",
              "      <td>at_home</td>\n",
              "      <td>other</td>\n",
              "      <td>other</td>\n",
              "      <td>mother</td>\n",
              "      <td>1</td>\n",
              "      <td>2</td>\n",
              "      <td>3</td>\n",
              "      <td>yes</td>\n",
              "      <td>no</td>\n",
              "      <td>yes</td>\n",
              "      <td>no</td>\n",
              "      <td>yes</td>\n",
              "      <td>yes</td>\n",
              "      <td>yes</td>\n",
              "      <td>no</td>\n",
              "      <td>4</td>\n",
              "      <td>3</td>\n",
              "      <td>2</td>\n",
              "      <td>2</td>\n",
              "      <td>3</td>\n",
              "      <td>3</td>\n",
              "      <td>10</td>\n",
              "      <td>7</td>\n",
              "      <td>8</td>\n",
              "      <td>10</td>\n",
              "    </tr>\n",
              "    <tr>\n",
              "      <th>3</th>\n",
              "      <td>GP</td>\n",
              "      <td>F</td>\n",
              "      <td>15</td>\n",
              "      <td>U</td>\n",
              "      <td>GT3</td>\n",
              "      <td>T</td>\n",
              "      <td>4</td>\n",
              "      <td>2</td>\n",
              "      <td>health</td>\n",
              "      <td>services</td>\n",
              "      <td>home</td>\n",
              "      <td>mother</td>\n",
              "      <td>1</td>\n",
              "      <td>3</td>\n",
              "      <td>0</td>\n",
              "      <td>no</td>\n",
              "      <td>yes</td>\n",
              "      <td>yes</td>\n",
              "      <td>yes</td>\n",
              "      <td>yes</td>\n",
              "      <td>yes</td>\n",
              "      <td>yes</td>\n",
              "      <td>yes</td>\n",
              "      <td>3</td>\n",
              "      <td>2</td>\n",
              "      <td>2</td>\n",
              "      <td>1</td>\n",
              "      <td>1</td>\n",
              "      <td>5</td>\n",
              "      <td>2</td>\n",
              "      <td>15</td>\n",
              "      <td>14</td>\n",
              "      <td>15</td>\n",
              "    </tr>\n",
              "    <tr>\n",
              "      <th>4</th>\n",
              "      <td>GP</td>\n",
              "      <td>F</td>\n",
              "      <td>16</td>\n",
              "      <td>U</td>\n",
              "      <td>GT3</td>\n",
              "      <td>T</td>\n",
              "      <td>3</td>\n",
              "      <td>3</td>\n",
              "      <td>other</td>\n",
              "      <td>other</td>\n",
              "      <td>home</td>\n",
              "      <td>father</td>\n",
              "      <td>1</td>\n",
              "      <td>2</td>\n",
              "      <td>0</td>\n",
              "      <td>no</td>\n",
              "      <td>yes</td>\n",
              "      <td>yes</td>\n",
              "      <td>no</td>\n",
              "      <td>yes</td>\n",
              "      <td>yes</td>\n",
              "      <td>no</td>\n",
              "      <td>no</td>\n",
              "      <td>4</td>\n",
              "      <td>3</td>\n",
              "      <td>2</td>\n",
              "      <td>1</td>\n",
              "      <td>2</td>\n",
              "      <td>5</td>\n",
              "      <td>4</td>\n",
              "      <td>6</td>\n",
              "      <td>10</td>\n",
              "      <td>10</td>\n",
              "    </tr>\n",
              "    <tr>\n",
              "      <th>5</th>\n",
              "      <td>GP</td>\n",
              "      <td>M</td>\n",
              "      <td>16</td>\n",
              "      <td>U</td>\n",
              "      <td>LE3</td>\n",
              "      <td>T</td>\n",
              "      <td>4</td>\n",
              "      <td>3</td>\n",
              "      <td>services</td>\n",
              "      <td>other</td>\n",
              "      <td>reputation</td>\n",
              "      <td>mother</td>\n",
              "      <td>1</td>\n",
              "      <td>2</td>\n",
              "      <td>0</td>\n",
              "      <td>no</td>\n",
              "      <td>yes</td>\n",
              "      <td>yes</td>\n",
              "      <td>yes</td>\n",
              "      <td>yes</td>\n",
              "      <td>yes</td>\n",
              "      <td>yes</td>\n",
              "      <td>no</td>\n",
              "      <td>5</td>\n",
              "      <td>4</td>\n",
              "      <td>2</td>\n",
              "      <td>1</td>\n",
              "      <td>2</td>\n",
              "      <td>5</td>\n",
              "      <td>10</td>\n",
              "      <td>15</td>\n",
              "      <td>15</td>\n",
              "      <td>15</td>\n",
              "    </tr>\n",
              "    <tr>\n",
              "      <th>6</th>\n",
              "      <td>GP</td>\n",
              "      <td>M</td>\n",
              "      <td>16</td>\n",
              "      <td>U</td>\n",
              "      <td>LE3</td>\n",
              "      <td>T</td>\n",
              "      <td>2</td>\n",
              "      <td>2</td>\n",
              "      <td>other</td>\n",
              "      <td>other</td>\n",
              "      <td>home</td>\n",
              "      <td>mother</td>\n",
              "      <td>1</td>\n",
              "      <td>2</td>\n",
              "      <td>0</td>\n",
              "      <td>no</td>\n",
              "      <td>no</td>\n",
              "      <td>no</td>\n",
              "      <td>no</td>\n",
              "      <td>yes</td>\n",
              "      <td>yes</td>\n",
              "      <td>yes</td>\n",
              "      <td>no</td>\n",
              "      <td>4</td>\n",
              "      <td>4</td>\n",
              "      <td>4</td>\n",
              "      <td>1</td>\n",
              "      <td>1</td>\n",
              "      <td>3</td>\n",
              "      <td>0</td>\n",
              "      <td>12</td>\n",
              "      <td>12</td>\n",
              "      <td>11</td>\n",
              "    </tr>\n",
              "    <tr>\n",
              "      <th>7</th>\n",
              "      <td>GP</td>\n",
              "      <td>F</td>\n",
              "      <td>17</td>\n",
              "      <td>U</td>\n",
              "      <td>GT3</td>\n",
              "      <td>A</td>\n",
              "      <td>4</td>\n",
              "      <td>4</td>\n",
              "      <td>other</td>\n",
              "      <td>teacher</td>\n",
              "      <td>home</td>\n",
              "      <td>mother</td>\n",
              "      <td>2</td>\n",
              "      <td>2</td>\n",
              "      <td>0</td>\n",
              "      <td>yes</td>\n",
              "      <td>yes</td>\n",
              "      <td>no</td>\n",
              "      <td>no</td>\n",
              "      <td>yes</td>\n",
              "      <td>yes</td>\n",
              "      <td>no</td>\n",
              "      <td>no</td>\n",
              "      <td>4</td>\n",
              "      <td>1</td>\n",
              "      <td>4</td>\n",
              "      <td>1</td>\n",
              "      <td>1</td>\n",
              "      <td>1</td>\n",
              "      <td>6</td>\n",
              "      <td>6</td>\n",
              "      <td>5</td>\n",
              "      <td>6</td>\n",
              "    </tr>\n",
              "    <tr>\n",
              "      <th>8</th>\n",
              "      <td>GP</td>\n",
              "      <td>M</td>\n",
              "      <td>15</td>\n",
              "      <td>U</td>\n",
              "      <td>LE3</td>\n",
              "      <td>A</td>\n",
              "      <td>3</td>\n",
              "      <td>2</td>\n",
              "      <td>services</td>\n",
              "      <td>other</td>\n",
              "      <td>home</td>\n",
              "      <td>mother</td>\n",
              "      <td>1</td>\n",
              "      <td>2</td>\n",
              "      <td>0</td>\n",
              "      <td>no</td>\n",
              "      <td>yes</td>\n",
              "      <td>yes</td>\n",
              "      <td>no</td>\n",
              "      <td>yes</td>\n",
              "      <td>yes</td>\n",
              "      <td>yes</td>\n",
              "      <td>no</td>\n",
              "      <td>4</td>\n",
              "      <td>2</td>\n",
              "      <td>2</td>\n",
              "      <td>1</td>\n",
              "      <td>1</td>\n",
              "      <td>1</td>\n",
              "      <td>0</td>\n",
              "      <td>16</td>\n",
              "      <td>18</td>\n",
              "      <td>19</td>\n",
              "    </tr>\n",
              "    <tr>\n",
              "      <th>9</th>\n",
              "      <td>GP</td>\n",
              "      <td>M</td>\n",
              "      <td>15</td>\n",
              "      <td>U</td>\n",
              "      <td>GT3</td>\n",
              "      <td>T</td>\n",
              "      <td>3</td>\n",
              "      <td>4</td>\n",
              "      <td>other</td>\n",
              "      <td>other</td>\n",
              "      <td>home</td>\n",
              "      <td>mother</td>\n",
              "      <td>1</td>\n",
              "      <td>2</td>\n",
              "      <td>0</td>\n",
              "      <td>no</td>\n",
              "      <td>yes</td>\n",
              "      <td>yes</td>\n",
              "      <td>yes</td>\n",
              "      <td>yes</td>\n",
              "      <td>yes</td>\n",
              "      <td>yes</td>\n",
              "      <td>no</td>\n",
              "      <td>5</td>\n",
              "      <td>5</td>\n",
              "      <td>1</td>\n",
              "      <td>1</td>\n",
              "      <td>1</td>\n",
              "      <td>5</td>\n",
              "      <td>0</td>\n",
              "      <td>14</td>\n",
              "      <td>15</td>\n",
              "      <td>15</td>\n",
              "    </tr>\n",
              "  </tbody>\n",
              "</table>\n",
              "</div>"
            ],
            "text/plain": [
              "  school sex  age address famsize Pstatus  ...  Walc  health absences  G1  G2  G3\n",
              "0     GP   F   18       U     GT3       A  ...     1       3        6   5   6   6\n",
              "1     GP   F   17       U     GT3       T  ...     1       3        4   5   5   6\n",
              "2     GP   F   15       U     LE3       T  ...     3       3       10   7   8  10\n",
              "3     GP   F   15       U     GT3       T  ...     1       5        2  15  14  15\n",
              "4     GP   F   16       U     GT3       T  ...     2       5        4   6  10  10\n",
              "5     GP   M   16       U     LE3       T  ...     2       5       10  15  15  15\n",
              "6     GP   M   16       U     LE3       T  ...     1       3        0  12  12  11\n",
              "7     GP   F   17       U     GT3       A  ...     1       1        6   6   5   6\n",
              "8     GP   M   15       U     LE3       A  ...     1       1        0  16  18  19\n",
              "9     GP   M   15       U     GT3       T  ...     1       5        0  14  15  15\n",
              "\n",
              "[10 rows x 33 columns]"
            ]
          },
          "metadata": {
            "tags": []
          },
          "execution_count": 99
        }
      ]
    },
    {
      "cell_type": "code",
      "metadata": {
        "colab": {
          "base_uri": "https://localhost:8080/",
          "height": 202
        },
        "id": "1pHsf2OTnQRY",
        "outputId": "573eee2e-b84c-4a08-a22e-91f12890902a"
      },
      "source": [
        "UniMathData = MathData[['G1', 'G3']]\n",
        "UniMathData.head(5)"
      ],
      "execution_count": 100,
      "outputs": [
        {
          "output_type": "execute_result",
          "data": {
            "text/html": [
              "<div>\n",
              "<style scoped>\n",
              "    .dataframe tbody tr th:only-of-type {\n",
              "        vertical-align: middle;\n",
              "    }\n",
              "\n",
              "    .dataframe tbody tr th {\n",
              "        vertical-align: top;\n",
              "    }\n",
              "\n",
              "    .dataframe thead th {\n",
              "        text-align: right;\n",
              "    }\n",
              "</style>\n",
              "<table border=\"1\" class=\"dataframe\">\n",
              "  <thead>\n",
              "    <tr style=\"text-align: right;\">\n",
              "      <th></th>\n",
              "      <th>G1</th>\n",
              "      <th>G3</th>\n",
              "    </tr>\n",
              "  </thead>\n",
              "  <tbody>\n",
              "    <tr>\n",
              "      <th>0</th>\n",
              "      <td>5</td>\n",
              "      <td>6</td>\n",
              "    </tr>\n",
              "    <tr>\n",
              "      <th>1</th>\n",
              "      <td>5</td>\n",
              "      <td>6</td>\n",
              "    </tr>\n",
              "    <tr>\n",
              "      <th>2</th>\n",
              "      <td>7</td>\n",
              "      <td>10</td>\n",
              "    </tr>\n",
              "    <tr>\n",
              "      <th>3</th>\n",
              "      <td>15</td>\n",
              "      <td>15</td>\n",
              "    </tr>\n",
              "    <tr>\n",
              "      <th>4</th>\n",
              "      <td>6</td>\n",
              "      <td>10</td>\n",
              "    </tr>\n",
              "  </tbody>\n",
              "</table>\n",
              "</div>"
            ],
            "text/plain": [
              "   G1  G3\n",
              "0   5   6\n",
              "1   5   6\n",
              "2   7  10\n",
              "3  15  15\n",
              "4   6  10"
            ]
          },
          "metadata": {
            "tags": []
          },
          "execution_count": 100
        }
      ]
    },
    {
      "cell_type": "code",
      "metadata": {
        "id": "JSt6bpMtnbwg"
      },
      "source": [
        "UniMathData.to_csv('Univariate_MathData_2.csv')"
      ],
      "execution_count": 101,
      "outputs": []
    },
    {
      "cell_type": "code",
      "metadata": {
        "colab": {
          "base_uri": "https://localhost:8080/"
        },
        "id": "3os1TSionrwD",
        "outputId": "209b72d6-f645-459c-c1ad-4e0fcb751cf5"
      },
      "source": [
        "ls"
      ],
      "execution_count": 102,
      "outputs": [
        {
          "output_type": "stream",
          "text": [
            "cleanedMathData.csv  student-merge.R     student.txt\n",
            "student.gdoc         student-por.csv     Univariate_MathData_2.csv\n",
            "student-mat.csv      student-por.gsheet\n"
          ],
          "name": "stdout"
        }
      ]
    },
    {
      "cell_type": "code",
      "metadata": {
        "colab": {
          "base_uri": "https://localhost:8080/",
          "height": 153
        },
        "id": "GxoCg8jtoCh0",
        "outputId": "bffa5cab-943c-4b2c-acc2-642090ab771c"
      },
      "source": [
        "import seaborn as sns \n",
        "sns.palplot(sns.color_palette('PuOr'))\n",
        "pal=sns.color_palette('PuOr')\n",
        "pal.as_hex()\n",
        "\n",
        "import matplotlib.pyplot as plt\n",
        "plt.style.use(['seaborn'])\n",
        "sns_colors=['#c6690c','#664697']\n",
        "sns.set_palette(sns_colors)\n",
        "sns.palplot(sns.color_palette(sns_colors))\n"
      ],
      "execution_count": 103,
      "outputs": [
        {
          "output_type": "display_data",
          "data": {
            "image/png": "[encoded data removed]",
            "text/plain": [
              "<Figure size 432x72 with 1 Axes>"
            ]
          },
          "metadata": {
            "tags": []
          }
        },
        {
          "output_type": "display_data",
          "data": {
            "image/png": "[encoded data removed]",
            "text/plain": [
              "<Figure size 144x72 with 1 Axes>"
            ]
          },
          "metadata": {
            "tags": []
          }
        }
      ]
    },
    {
      "cell_type": "code",
      "metadata": {
        "colab": {
          "base_uri": "https://localhost:8080/"
        },
        "id": "qCDaWIwGoIN6",
        "outputId": "676158dd-58c7-4bcd-c623-ee7afa63dfaa"
      },
      "source": [
        "UniMathData.columns"
      ],
      "execution_count": 104,
      "outputs": [
        {
          "output_type": "execute_result",
          "data": {
            "text/plain": [
              "Index(['G1', 'G3'], dtype='object')"
            ]
          },
          "metadata": {
            "tags": []
          },
          "execution_count": 104
        }
      ]
    },
    {
      "cell_type": "code",
      "metadata": {
        "colab": {
          "base_uri": "https://localhost:8080/",
          "height": 392
        },
        "id": "4PNpfbawoXyh",
        "outputId": "4e418ff4-7d90-4dc6-ece7-55915623f08e"
      },
      "source": [
        "sns.pairplot(UniMathData,\n",
        "             x_vars = ['G1', 'G3'],\n",
        "             y_vars =  ['G1', 'G3'],\n",
        "       diag_kind='kde'\n",
        "             )"
      ],
      "execution_count": 105,
      "outputs": [
        {
          "output_type": "execute_result",
          "data": {
            "text/plain": [
              "<seaborn.axisgrid.PairGrid at 0x7f146350a590>"
            ]
          },
          "metadata": {
            "tags": []
          },
          "execution_count": 105
        },
        {
          "output_type": "display_data",
          "data": {
            "image/png": "[encoded data removed]",
            "text/plain": [
              "<Figure size 360x360 with 6 Axes>"
            ]
          },
          "metadata": {
            "tags": []
          }
        }
      ]
    },
    {
      "cell_type": "code",
      "metadata": {
        "colab": {
          "base_uri": "https://localhost:8080/"
        },
        "id": "1lSiCNTmomdK",
        "outputId": "28af6ab4-4799-46e9-cbf9-6136d57d8a06"
      },
      "source": [
        "TrainDataset = UniMathData.sample(frac=0.8, random_state=0) \n",
        "TestDataset = UniMathData.drop(TrainDataset.index)\n",
        "\n",
        "print(TrainDataset.head())\n",
        "print(TestDataset.head())"
      ],
      "execution_count": 106,
      "outputs": [
        {
          "output_type": "stream",
          "text": [
            "     G1  G3\n",
            "329  14  14\n",
            "318  11  10\n",
            "317   9   9\n",
            "65   16  15\n",
            "59   15  16\n",
            "    G1  G3\n",
            "9   14  15\n",
            "25   6   8\n",
            "28  11  11\n",
            "31  17  17\n",
            "32  17  16\n"
          ],
          "name": "stdout"
        }
      ]
    },
    {
      "cell_type": "code",
      "metadata": {
        "colab": {
          "base_uri": "https://localhost:8080/"
        },
        "id": "pB9XW22ho0A4",
        "outputId": "a01c7e22-02b8-4f9f-8ed3-d02078cd21ee"
      },
      "source": [
        "print(TrainDataset.shape)\n",
        "print(TestDataset.shape)"
      ],
      "execution_count": 107,
      "outputs": [
        {
          "output_type": "stream",
          "text": [
            "(316, 2)\n",
            "(79, 2)\n"
          ],
          "name": "stdout"
        }
      ]
    },
    {
      "cell_type": "code",
      "metadata": {
        "colab": {
          "base_uri": "https://localhost:8080/"
        },
        "id": "_C0R0cxPpK65",
        "outputId": "4ccbb641-2dd1-4889-a860-ed2008303c04"
      },
      "source": [
        "TrainFeatures = TrainDataset.copy()\n",
        "TestFeatures = TestDataset.copy()\n",
        "\n",
        "print(TrainFeatures.head())\n",
        "print(TestFeatures.head())"
      ],
      "execution_count": 108,
      "outputs": [
        {
          "output_type": "stream",
          "text": [
            "     G1  G3\n",
            "329  14  14\n",
            "318  11  10\n",
            "317   9   9\n",
            "65   16  15\n",
            "59   15  16\n",
            "    G1  G3\n",
            "9   14  15\n",
            "25   6   8\n",
            "28  11  11\n",
            "31  17  17\n",
            "32  17  16\n"
          ],
          "name": "stdout"
        }
      ]
    },
    {
      "cell_type": "code",
      "metadata": {
        "colab": {
          "base_uri": "https://localhost:8080/"
        },
        "id": "MDSt4j_Lp3WT",
        "outputId": "e1e30211-c711-43c6-f0a6-5309cdd4d721"
      },
      "source": [
        "TrainLabels = TrainFeatures.pop('G3')\n",
        "TestLabels = TestFeatures.pop('G3')\n",
        "\n",
        "print(TrainLabels.head())\n",
        "print(TestLabels.head())"
      ],
      "execution_count": 109,
      "outputs": [
        {
          "output_type": "stream",
          "text": [
            "329    14\n",
            "318    10\n",
            "317     9\n",
            "65     15\n",
            "59     16\n",
            "Name: G3, dtype: int64\n",
            "9     15\n",
            "25     8\n",
            "28    11\n",
            "31    17\n",
            "32    16\n",
            "Name: G3, dtype: int64\n"
          ],
          "name": "stdout"
        }
      ]
    },
    {
      "cell_type": "code",
      "metadata": {
        "colab": {
          "base_uri": "https://localhost:8080/"
        },
        "id": "LoCo6MEDqOsJ",
        "outputId": "1a2dc08f-cb6a-49ef-dfb7-996be416be98"
      },
      "source": [
        "print(TrainFeatures.head())\n",
        "print(TestFeatures.head())"
      ],
      "execution_count": 110,
      "outputs": [
        {
          "output_type": "stream",
          "text": [
            "     G1\n",
            "329  14\n",
            "318  11\n",
            "317   9\n",
            "65   16\n",
            "59   15\n",
            "    G1\n",
            "9   14\n",
            "25   6\n",
            "28  11\n",
            "31  17\n",
            "32  17\n"
          ],
          "name": "stdout"
        }
      ]
    },
    {
      "cell_type": "code",
      "metadata": {
        "id": "mv7kLaMeqccS"
      },
      "source": [
        "model = tf.keras.Sequential([tf.keras.layers.Dense(1)])"
      ],
      "execution_count": 111,
      "outputs": []
    },
    {
      "cell_type": "code",
      "metadata": {
        "id": "g8i7hoWhq0KN"
      },
      "source": [
        "model.compile(\n",
        "    loss = 'mean_absolute_error',\n",
        "    optimizer = tf.keras.optimizers.Adam(0.001), \n",
        "    metrics = ['mae', 'mse']\n",
        ")"
      ],
      "execution_count": 112,
      "outputs": []
    },
    {
      "cell_type": "code",
      "metadata": {
        "colab": {
          "base_uri": "https://localhost:8080/"
        },
        "id": "5i7jWWmXq9sN",
        "outputId": "70c822c7-b38d-4f06-b06b-4bf72f5e3ce2"
      },
      "source": [
        "numEpochs = 300\n",
        "history = model.fit(x = TrainFeatures, y = TrainLabels, validation_data = (TestFeatures, TestLabels), epochs = numEpochs)"
      ],
      "execution_count": 113,
      "outputs": [
        {
          "output_type": "stream",
          "text": [
            "Epoch 1/300\n",
            "10/10 [==============================] - 0s 17ms/step - loss: 16.8445 - mae: 16.8445 - mse: 322.8765 - val_loss: 17.7570 - val_mae: 17.7570 - val_mse: 356.7102\n",
            "Epoch 2/300\n",
            "10/10 [==============================] - 0s 4ms/step - loss: 16.7271 - mae: 16.7271 - mse: 318.5729 - val_loss: 17.6326 - val_mae: 17.6326 - val_mse: 351.8968\n",
            "Epoch 3/300\n",
            "10/10 [==============================] - 0s 3ms/step - loss: 16.6090 - mae: 16.6090 - mse: 314.2509 - val_loss: 17.5083 - val_mae: 17.5083 - val_mse: 347.1253\n",
            "Epoch 4/300\n",
            "10/10 [==============================] - 0s 3ms/step - loss: 16.4926 - mae: 16.4926 - mse: 310.0892 - val_loss: 17.3834 - val_mae: 17.3834 - val_mse: 342.3616\n",
            "Epoch 5/300\n",
            "10/10 [==============================] - 0s 3ms/step - loss: 16.3740 - mae: 16.3740 - mse: 305.7926 - val_loss: 17.2593 - val_mae: 17.2593 - val_mse: 337.6616\n",
            "Epoch 6/300\n",
            "10/10 [==============================] - 0s 4ms/step - loss: 16.2567 - mae: 16.2567 - mse: 301.5741 - val_loss: 17.1348 - val_mae: 17.1348 - val_mse: 332.9822\n",
            "Epoch 7/300\n",
            "10/10 [==============================] - 0s 3ms/step - loss: 16.1390 - mae: 16.1390 - mse: 297.4272 - val_loss: 17.0104 - val_mae: 17.0104 - val_mse: 328.3371\n",
            "Epoch 8/300\n",
            "10/10 [==============================] - 0s 3ms/step - loss: 16.0214 - mae: 16.0214 - mse: 293.2925 - val_loss: 16.8859 - val_mae: 16.8859 - val_mse: 323.7256\n",
            "Epoch 9/300\n",
            "10/10 [==============================] - 0s 3ms/step - loss: 15.9042 - mae: 15.9042 - mse: 289.1997 - val_loss: 16.7610 - val_mae: 16.7610 - val_mse: 319.1291\n",
            "Epoch 10/300\n",
            "10/10 [==============================] - 0s 4ms/step - loss: 15.7859 - mae: 15.7859 - mse: 285.0813 - val_loss: 16.6368 - val_mae: 16.6368 - val_mse: 314.5914\n",
            "Epoch 11/300\n",
            "10/10 [==============================] - 0s 3ms/step - loss: 15.6693 - mae: 15.6693 - mse: 281.1170 - val_loss: 16.5116 - val_mae: 16.5116 - val_mse: 310.0529\n",
            "Epoch 12/300\n",
            "10/10 [==============================] - 0s 4ms/step - loss: 15.5514 - mae: 15.5514 - mse: 277.1130 - val_loss: 16.3869 - val_mae: 16.3869 - val_mse: 305.5627\n",
            "Epoch 13/300\n",
            "10/10 [==============================] - 0s 4ms/step - loss: 15.4331 - mae: 15.4331 - mse: 273.0370 - val_loss: 16.2627 - val_mae: 16.2627 - val_mse: 301.1279\n",
            "Epoch 14/300\n",
            "10/10 [==============================] - 0s 4ms/step - loss: 15.3157 - mae: 15.3157 - mse: 269.1018 - val_loss: 16.1383 - val_mae: 16.1383 - val_mse: 296.7187\n",
            "Epoch 15/300\n",
            "10/10 [==============================] - 0s 3ms/step - loss: 15.1983 - mae: 15.1983 - mse: 265.1710 - val_loss: 16.0137 - val_mae: 16.0137 - val_mse: 292.3345\n",
            "Epoch 16/300\n",
            "10/10 [==============================] - 0s 3ms/step - loss: 15.0809 - mae: 15.0809 - mse: 261.3326 - val_loss: 15.8888 - val_mae: 15.8888 - val_mse: 287.9720\n",
            "Epoch 17/300\n",
            "10/10 [==============================] - 0s 4ms/step - loss: 14.9640 - mae: 14.9640 - mse: 257.5256 - val_loss: 15.7633 - val_mae: 15.7633 - val_mse: 283.6237\n",
            "Epoch 18/300\n",
            "10/10 [==============================] - 0s 4ms/step - loss: 14.8449 - mae: 14.8449 - mse: 253.5989 - val_loss: 15.6395 - val_mae: 15.6395 - val_mse: 279.3652\n",
            "Epoch 19/300\n",
            "10/10 [==============================] - 0s 3ms/step - loss: 14.7283 - mae: 14.7283 - mse: 249.8553 - val_loss: 15.5146 - val_mae: 15.5146 - val_mse: 275.1063\n",
            "Epoch 20/300\n",
            "10/10 [==============================] - 0s 3ms/step - loss: 14.6103 - mae: 14.6103 - mse: 246.0588 - val_loss: 15.3903 - val_mae: 15.3903 - val_mse: 270.8993\n",
            "Epoch 21/300\n",
            "10/10 [==============================] - 0s 3ms/step - loss: 14.4931 - mae: 14.4931 - mse: 242.3133 - val_loss: 15.2657 - val_mae: 15.2657 - val_mse: 266.7154\n",
            "Epoch 22/300\n",
            "10/10 [==============================] - 0s 3ms/step - loss: 14.3757 - mae: 14.3757 - mse: 238.6022 - val_loss: 15.1411 - val_mae: 15.1411 - val_mse: 262.5648\n",
            "Epoch 23/300\n",
            "10/10 [==============================] - 0s 4ms/step - loss: 14.2575 - mae: 14.2575 - mse: 234.8796 - val_loss: 15.0173 - val_mae: 15.0173 - val_mse: 258.4724\n",
            "Epoch 24/300\n",
            "10/10 [==============================] - 0s 5ms/step - loss: 14.1402 - mae: 14.1402 - mse: 231.1989 - val_loss: 14.8931 - val_mae: 14.8931 - val_mse: 254.4023\n",
            "Epoch 25/300\n",
            "10/10 [==============================] - 0s 3ms/step - loss: 14.0228 - mae: 14.0228 - mse: 227.5905 - val_loss: 14.7687 - val_mae: 14.7687 - val_mse: 250.3594\n",
            "Epoch 26/300\n",
            "10/10 [==============================] - 0s 3ms/step - loss: 13.9061 - mae: 13.9061 - mse: 224.0664 - val_loss: 14.6435 - val_mae: 14.6435 - val_mse: 246.3213\n",
            "Epoch 27/300\n",
            "10/10 [==============================] - 0s 3ms/step - loss: 13.7874 - mae: 13.7874 - mse: 220.4196 - val_loss: 14.5193 - val_mae: 14.5193 - val_mse: 242.3519\n",
            "Epoch 28/300\n",
            "10/10 [==============================] - 0s 3ms/step - loss: 13.6702 - mae: 13.6702 - mse: 216.9066 - val_loss: 14.3949 - val_mae: 14.3949 - val_mse: 238.4068\n",
            "Epoch 29/300\n",
            "10/10 [==============================] - 0s 3ms/step - loss: 13.5534 - mae: 13.5534 - mse: 213.4627 - val_loss: 14.2697 - val_mae: 14.2697 - val_mse: 234.4719\n",
            "Epoch 30/300\n",
            "10/10 [==============================] - 0s 3ms/step - loss: 13.4348 - mae: 13.4348 - mse: 209.9029 - val_loss: 14.1457 - val_mae: 14.1457 - val_mse: 230.6061\n",
            "Epoch 31/300\n",
            "10/10 [==============================] - 0s 3ms/step - loss: 13.3173 - mae: 13.3173 - mse: 206.4395 - val_loss: 14.0214 - val_mae: 14.0214 - val_mse: 226.7661\n",
            "Epoch 32/300\n",
            "10/10 [==============================] - 0s 4ms/step - loss: 13.2008 - mae: 13.2008 - mse: 203.1430 - val_loss: 13.8959 - val_mae: 13.8959 - val_mse: 222.9213\n",
            "Epoch 33/300\n",
            "10/10 [==============================] - 0s 3ms/step - loss: 13.0825 - mae: 13.0825 - mse: 199.6850 - val_loss: 13.7713 - val_mae: 13.7713 - val_mse: 219.1375\n",
            "Epoch 34/300\n",
            "10/10 [==============================] - 0s 4ms/step - loss: 12.9651 - mae: 12.9651 - mse: 196.3509 - val_loss: 13.6466 - val_mae: 13.6466 - val_mse: 215.3853\n",
            "Epoch 35/300\n",
            "10/10 [==============================] - 0s 4ms/step - loss: 12.8468 - mae: 12.8468 - mse: 192.9620 - val_loss: 13.5228 - val_mae: 13.5228 - val_mse: 211.6930\n",
            "Epoch 36/300\n",
            "10/10 [==============================] - 0s 3ms/step - loss: 12.7298 - mae: 12.7298 - mse: 189.6950 - val_loss: 13.3983 - val_mae: 13.3983 - val_mse: 208.0116\n",
            "Epoch 37/300\n",
            "10/10 [==============================] - 0s 4ms/step - loss: 12.6119 - mae: 12.6119 - mse: 186.4091 - val_loss: 13.2740 - val_mae: 13.2740 - val_mse: 204.3697\n",
            "Epoch 38/300\n",
            "10/10 [==============================] - 0s 3ms/step - loss: 12.4949 - mae: 12.4949 - mse: 183.2207 - val_loss: 13.1491 - val_mae: 13.1491 - val_mse: 200.7452\n",
            "Epoch 39/300\n",
            "10/10 [==============================] - 0s 3ms/step - loss: 12.3771 - mae: 12.3771 - mse: 179.9837 - val_loss: 13.0244 - val_mae: 13.0244 - val_mse: 197.1602\n",
            "Epoch 40/300\n",
            "10/10 [==============================] - 0s 5ms/step - loss: 12.2598 - mae: 12.2598 - mse: 176.8320 - val_loss: 12.8995 - val_mae: 12.8995 - val_mse: 193.6015\n",
            "Epoch 41/300\n",
            "10/10 [==============================] - 0s 4ms/step - loss: 12.1419 - mae: 12.1419 - mse: 173.6542 - val_loss: 12.7751 - val_mae: 12.7751 - val_mse: 190.0901\n",
            "Epoch 42/300\n",
            "10/10 [==============================] - 0s 3ms/step - loss: 12.0242 - mae: 12.0242 - mse: 170.5401 - val_loss: 12.6509 - val_mae: 12.6509 - val_mse: 186.6176\n",
            "Epoch 43/300\n",
            "10/10 [==============================] - 0s 3ms/step - loss: 11.9068 - mae: 11.9068 - mse: 167.4256 - val_loss: 12.5265 - val_mae: 12.5265 - val_mse: 183.1745\n",
            "Epoch 44/300\n",
            "10/10 [==============================] - 0s 3ms/step - loss: 11.7895 - mae: 11.7895 - mse: 164.4134 - val_loss: 12.4018 - val_mae: 12.4018 - val_mse: 179.7550\n",
            "Epoch 45/300\n",
            "10/10 [==============================] - 0s 4ms/step - loss: 11.6719 - mae: 11.6719 - mse: 161.3716 - val_loss: 12.2772 - val_mae: 12.2772 - val_mse: 176.3714\n",
            "Epoch 46/300\n",
            "10/10 [==============================] - 0s 4ms/step - loss: 11.5539 - mae: 11.5539 - mse: 158.3395 - val_loss: 12.1530 - val_mae: 12.1530 - val_mse: 173.0319\n",
            "Epoch 47/300\n",
            "10/10 [==============================] - 0s 4ms/step - loss: 11.4366 - mae: 11.4366 - mse: 155.3718 - val_loss: 12.0284 - val_mae: 12.0284 - val_mse: 169.7165\n",
            "Epoch 48/300\n",
            "10/10 [==============================] - 0s 3ms/step - loss: 11.3193 - mae: 11.3193 - mse: 152.4706 - val_loss: 11.9034 - val_mae: 11.9034 - val_mse: 166.4235\n",
            "Epoch 49/300\n",
            "10/10 [==============================] - 0s 3ms/step - loss: 11.2008 - mae: 11.2008 - mse: 149.5105 - val_loss: 11.7794 - val_mae: 11.7794 - val_mse: 163.1902\n",
            "Epoch 50/300\n",
            "10/10 [==============================] - 0s 4ms/step - loss: 11.0843 - mae: 11.0843 - mse: 146.6743 - val_loss: 11.6546 - val_mae: 11.6546 - val_mse: 159.9673\n",
            "Epoch 51/300\n",
            "10/10 [==============================] - 0s 4ms/step - loss: 10.9670 - mae: 10.9670 - mse: 143.8195 - val_loss: 11.5301 - val_mae: 11.5301 - val_mse: 156.7878\n",
            "Epoch 52/300\n",
            "10/10 [==============================] - 0s 3ms/step - loss: 10.8502 - mae: 10.8502 - mse: 141.0182 - val_loss: 11.4061 - val_mae: 11.4061 - val_mse: 153.6533\n",
            "Epoch 53/300\n",
            "10/10 [==============================] - 0s 4ms/step - loss: 10.7346 - mae: 10.7346 - mse: 138.2144 - val_loss: 11.2841 - val_mae: 11.2841 - val_mse: 150.5813\n",
            "Epoch 54/300\n",
            "10/10 [==============================] - 0s 4ms/step - loss: 10.6236 - mae: 10.6236 - mse: 135.4994 - val_loss: 11.1679 - val_mae: 11.1679 - val_mse: 147.5972\n",
            "Epoch 55/300\n",
            "10/10 [==============================] - 0s 4ms/step - loss: 10.5195 - mae: 10.5195 - mse: 132.9328 - val_loss: 11.0598 - val_mae: 11.0598 - val_mse: 144.6700\n",
            "Epoch 56/300\n",
            "10/10 [==============================] - 0s 3ms/step - loss: 10.4157 - mae: 10.4157 - mse: 130.3092 - val_loss: 10.9582 - val_mae: 10.9582 - val_mse: 141.8844\n",
            "Epoch 57/300\n",
            "10/10 [==============================] - 0s 6ms/step - loss: 10.3209 - mae: 10.3209 - mse: 127.8868 - val_loss: 10.8590 - val_mae: 10.8590 - val_mse: 139.1937\n",
            "Epoch 58/300\n",
            "10/10 [==============================] - 0s 3ms/step - loss: 10.2313 - mae: 10.2313 - mse: 125.5400 - val_loss: 10.7621 - val_mae: 10.7621 - val_mse: 136.5893\n",
            "Epoch 59/300\n",
            "10/10 [==============================] - 0s 4ms/step - loss: 10.1440 - mae: 10.1440 - mse: 123.2474 - val_loss: 10.6650 - val_mae: 10.6650 - val_mse: 134.0078\n",
            "Epoch 60/300\n",
            "10/10 [==============================] - 0s 3ms/step - loss: 10.0552 - mae: 10.0552 - mse: 120.9775 - val_loss: 10.5694 - val_mae: 10.5694 - val_mse: 131.4895\n",
            "Epoch 61/300\n",
            "10/10 [==============================] - 0s 4ms/step - loss: 9.9666 - mae: 9.9666 - mse: 118.6760 - val_loss: 10.4746 - val_mae: 10.4746 - val_mse: 129.0179\n",
            "Epoch 62/300\n",
            "10/10 [==============================] - 0s 3ms/step - loss: 9.8811 - mae: 9.8811 - mse: 116.5325 - val_loss: 10.3768 - val_mae: 10.3768 - val_mse: 126.4931\n",
            "Epoch 63/300\n",
            "10/10 [==============================] - 0s 3ms/step - loss: 9.7904 - mae: 9.7904 - mse: 114.2915 - val_loss: 10.2817 - val_mae: 10.2817 - val_mse: 124.0643\n",
            "Epoch 64/300\n",
            "10/10 [==============================] - 0s 3ms/step - loss: 9.7045 - mae: 9.7045 - mse: 112.1095 - val_loss: 10.1839 - val_mae: 10.1839 - val_mse: 121.5918\n",
            "Epoch 65/300\n",
            "10/10 [==============================] - 0s 4ms/step - loss: 9.6150 - mae: 9.6150 - mse: 109.9385 - val_loss: 10.0870 - val_mae: 10.0870 - val_mse: 119.1674\n",
            "Epoch 66/300\n",
            "10/10 [==============================] - 0s 4ms/step - loss: 9.5260 - mae: 9.5260 - mse: 107.7682 - val_loss: 9.9902 - val_mae: 9.9902 - val_mse: 116.7722\n",
            "Epoch 67/300\n",
            "10/10 [==============================] - 0s 3ms/step - loss: 9.4374 - mae: 9.4374 - mse: 105.6594 - val_loss: 9.8929 - val_mae: 9.8929 - val_mse: 114.3907\n",
            "Epoch 68/300\n",
            "10/10 [==============================] - 0s 3ms/step - loss: 9.3475 - mae: 9.3475 - mse: 103.5279 - val_loss: 9.7963 - val_mae: 9.7963 - val_mse: 112.0521\n",
            "Epoch 69/300\n",
            "10/10 [==============================] - 0s 3ms/step - loss: 9.2590 - mae: 9.2590 - mse: 101.4475 - val_loss: 9.6986 - val_mae: 9.6986 - val_mse: 109.7110\n",
            "Epoch 70/300\n",
            "10/10 [==============================] - 0s 4ms/step - loss: 9.1701 - mae: 9.1701 - mse: 99.3934 - val_loss: 9.5999 - val_mae: 9.5999 - val_mse: 107.3755\n",
            "Epoch 71/300\n",
            "10/10 [==============================] - 0s 3ms/step - loss: 9.0795 - mae: 9.0795 - mse: 97.3171 - val_loss: 9.5019 - val_mae: 9.5019 - val_mse: 105.0809\n",
            "Epoch 72/300\n",
            "10/10 [==============================] - 0s 4ms/step - loss: 8.9899 - mae: 8.9899 - mse: 95.2828 - val_loss: 9.4032 - val_mae: 9.4032 - val_mse: 102.7974\n",
            "Epoch 73/300\n",
            "10/10 [==============================] - 0s 4ms/step - loss: 8.8996 - mae: 8.8996 - mse: 93.2486 - val_loss: 9.3045 - val_mae: 9.3045 - val_mse: 100.5418\n",
            "Epoch 74/300\n",
            "10/10 [==============================] - 0s 3ms/step - loss: 8.8099 - mae: 8.8099 - mse: 91.2876 - val_loss: 9.2053 - val_mae: 9.2053 - val_mse: 98.3009\n",
            "Epoch 75/300\n",
            "10/10 [==============================] - 0s 3ms/step - loss: 8.7196 - mae: 8.7196 - mse: 89.2929 - val_loss: 9.1061 - val_mae: 9.1061 - val_mse: 96.0874\n",
            "Epoch 76/300\n",
            "10/10 [==============================] - 0s 4ms/step - loss: 8.6296 - mae: 8.6296 - mse: 87.3109 - val_loss: 9.0063 - val_mae: 9.0063 - val_mse: 93.8874\n",
            "Epoch 77/300\n",
            "10/10 [==============================] - 0s 4ms/step - loss: 8.5382 - mae: 8.5382 - mse: 85.3875 - val_loss: 8.9072 - val_mae: 8.9072 - val_mse: 91.7301\n",
            "Epoch 78/300\n",
            "10/10 [==============================] - 0s 4ms/step - loss: 8.4470 - mae: 8.4470 - mse: 83.4593 - val_loss: 8.8083 - val_mae: 8.8083 - val_mse: 89.6043\n",
            "Epoch 79/300\n",
            "10/10 [==============================] - 0s 3ms/step - loss: 8.3564 - mae: 8.3564 - mse: 81.5608 - val_loss: 8.7089 - val_mae: 8.7089 - val_mse: 87.4930\n",
            "Epoch 80/300\n",
            "10/10 [==============================] - 0s 3ms/step - loss: 8.2652 - mae: 8.2652 - mse: 79.6999 - val_loss: 8.6094 - val_mae: 8.6094 - val_mse: 85.4085\n",
            "Epoch 81/300\n",
            "10/10 [==============================] - 0s 3ms/step - loss: 8.1743 - mae: 8.1743 - mse: 77.8567 - val_loss: 8.5095 - val_mae: 8.5095 - val_mse: 83.3441\n",
            "Epoch 82/300\n",
            "10/10 [==============================] - 0s 4ms/step - loss: 8.0825 - mae: 8.0825 - mse: 76.0077 - val_loss: 8.4100 - val_mae: 8.4100 - val_mse: 81.3139\n",
            "Epoch 83/300\n",
            "10/10 [==============================] - 0s 4ms/step - loss: 7.9922 - mae: 7.9922 - mse: 74.2343 - val_loss: 8.3092 - val_mae: 8.3092 - val_mse: 79.2841\n",
            "Epoch 84/300\n",
            "10/10 [==============================] - 0s 3ms/step - loss: 7.8998 - mae: 7.8998 - mse: 72.4271 - val_loss: 8.2090 - val_mae: 8.2090 - val_mse: 77.2963\n",
            "Epoch 85/300\n",
            "10/10 [==============================] - 0s 4ms/step - loss: 7.8075 - mae: 7.8075 - mse: 70.6614 - val_loss: 8.1094 - val_mae: 8.1094 - val_mse: 75.3461\n",
            "Epoch 86/300\n",
            "10/10 [==============================] - 0s 3ms/step - loss: 7.7169 - mae: 7.7169 - mse: 68.9350 - val_loss: 8.0083 - val_mae: 8.0083 - val_mse: 73.3947\n",
            "Epoch 87/300\n",
            "10/10 [==============================] - 0s 4ms/step - loss: 7.6250 - mae: 7.6250 - mse: 67.2102 - val_loss: 7.9070 - val_mae: 7.9070 - val_mse: 71.4685\n",
            "Epoch 88/300\n",
            "10/10 [==============================] - 0s 4ms/step - loss: 7.5316 - mae: 7.5316 - mse: 65.4936 - val_loss: 7.8071 - val_mae: 7.8071 - val_mse: 69.5963\n",
            "Epoch 89/300\n",
            "10/10 [==============================] - 0s 4ms/step - loss: 7.4414 - mae: 7.4414 - mse: 63.8649 - val_loss: 7.7050 - val_mae: 7.7050 - val_mse: 67.7105\n",
            "Epoch 90/300\n",
            "10/10 [==============================] - 0s 3ms/step - loss: 7.3475 - mae: 7.3475 - mse: 62.1676 - val_loss: 7.6045 - val_mae: 7.6045 - val_mse: 65.8826\n",
            "Epoch 91/300\n",
            "10/10 [==============================] - 0s 4ms/step - loss: 7.2557 - mae: 7.2557 - mse: 60.5810 - val_loss: 7.5032 - val_mae: 7.5032 - val_mse: 64.0682\n",
            "Epoch 92/300\n",
            "10/10 [==============================] - 0s 4ms/step - loss: 7.1638 - mae: 7.1638 - mse: 58.9691 - val_loss: 7.4011 - val_mae: 7.4011 - val_mse: 62.2687\n",
            "Epoch 93/300\n",
            "10/10 [==============================] - 0s 4ms/step - loss: 7.0696 - mae: 7.0696 - mse: 57.3626 - val_loss: 7.3009 - val_mae: 7.3009 - val_mse: 60.5299\n",
            "Epoch 94/300\n",
            "10/10 [==============================] - 0s 3ms/step - loss: 6.9786 - mae: 6.9786 - mse: 55.8543 - val_loss: 7.1986 - val_mae: 7.1986 - val_mse: 58.7833\n",
            "Epoch 95/300\n",
            "10/10 [==============================] - 0s 4ms/step - loss: 6.8850 - mae: 6.8850 - mse: 54.3101 - val_loss: 7.0971 - val_mae: 7.0971 - val_mse: 57.0778\n",
            "Epoch 96/300\n",
            "10/10 [==============================] - 0s 4ms/step - loss: 6.7923 - mae: 6.7923 - mse: 52.8082 - val_loss: 6.9952 - val_mae: 6.9952 - val_mse: 55.3951\n",
            "Epoch 97/300\n",
            "10/10 [==============================] - 0s 4ms/step - loss: 6.6982 - mae: 6.6982 - mse: 51.3018 - val_loss: 6.8943 - val_mae: 6.8943 - val_mse: 53.7578\n",
            "Epoch 98/300\n",
            "10/10 [==============================] - 0s 3ms/step - loss: 6.6054 - mae: 6.6054 - mse: 49.8350 - val_loss: 6.7929 - val_mae: 6.7929 - val_mse: 52.1399\n",
            "Epoch 99/300\n",
            "10/10 [==============================] - 0s 3ms/step - loss: 6.5122 - mae: 6.5122 - mse: 48.4171 - val_loss: 6.6912 - val_mae: 6.6912 - val_mse: 50.5453\n",
            "Epoch 100/300\n",
            "10/10 [==============================] - 0s 4ms/step - loss: 6.4197 - mae: 6.4197 - mse: 46.9977 - val_loss: 6.5884 - val_mae: 6.5884 - val_mse: 48.9625\n",
            "Epoch 101/300\n",
            "10/10 [==============================] - 0s 4ms/step - loss: 6.3259 - mae: 6.3259 - mse: 45.6176 - val_loss: 6.4860 - val_mae: 6.4860 - val_mse: 47.4153\n",
            "Epoch 102/300\n",
            "10/10 [==============================] - 0s 3ms/step - loss: 6.2320 - mae: 6.2320 - mse: 44.2324 - val_loss: 6.3840 - val_mae: 6.3840 - val_mse: 45.9020\n",
            "Epoch 103/300\n",
            "10/10 [==============================] - 0s 4ms/step - loss: 6.1390 - mae: 6.1390 - mse: 42.9178 - val_loss: 6.2811 - val_mae: 6.2811 - val_mse: 44.4047\n",
            "Epoch 104/300\n",
            "10/10 [==============================] - 0s 3ms/step - loss: 6.0454 - mae: 6.0454 - mse: 41.5975 - val_loss: 6.1779 - val_mae: 6.1779 - val_mse: 42.9325\n",
            "Epoch 105/300\n",
            "10/10 [==============================] - 0s 4ms/step - loss: 5.9515 - mae: 5.9515 - mse: 40.3036 - val_loss: 6.0747 - val_mae: 6.0747 - val_mse: 41.4888\n",
            "Epoch 106/300\n",
            "10/10 [==============================] - 0s 4ms/step - loss: 5.8572 - mae: 5.8572 - mse: 39.0394 - val_loss: 5.9719 - val_mae: 5.9719 - val_mse: 40.0802\n",
            "Epoch 107/300\n",
            "10/10 [==============================] - 0s 4ms/step - loss: 5.7622 - mae: 5.7622 - mse: 37.7708 - val_loss: 5.8699 - val_mae: 5.8699 - val_mse: 38.7122\n",
            "Epoch 108/300\n",
            "10/10 [==============================] - 0s 3ms/step - loss: 5.6700 - mae: 5.6700 - mse: 36.5875 - val_loss: 5.7659 - val_mae: 5.7659 - val_mse: 37.3463\n",
            "Epoch 109/300\n",
            "10/10 [==============================] - 0s 4ms/step - loss: 5.5749 - mae: 5.5749 - mse: 35.3862 - val_loss: 5.6630 - val_mae: 5.6630 - val_mse: 36.0235\n",
            "Epoch 110/300\n",
            "10/10 [==============================] - 0s 3ms/step - loss: 5.4801 - mae: 5.4801 - mse: 34.2183 - val_loss: 5.5606 - val_mae: 5.5606 - val_mse: 34.7364\n",
            "Epoch 111/300\n",
            "10/10 [==============================] - 0s 4ms/step - loss: 5.3868 - mae: 5.3868 - mse: 33.0773 - val_loss: 5.4570 - val_mae: 5.4570 - val_mse: 33.4642\n",
            "Epoch 112/300\n",
            "10/10 [==============================] - 0s 3ms/step - loss: 5.2918 - mae: 5.2918 - mse: 31.9538 - val_loss: 5.3540 - val_mae: 5.3540 - val_mse: 32.2278\n",
            "Epoch 113/300\n",
            "10/10 [==============================] - 0s 3ms/step - loss: 5.1979 - mae: 5.1979 - mse: 30.8715 - val_loss: 5.2501 - val_mae: 5.2501 - val_mse: 31.0108\n",
            "Epoch 114/300\n",
            "10/10 [==============================] - 0s 4ms/step - loss: 5.1039 - mae: 5.1039 - mse: 29.8071 - val_loss: 5.1457 - val_mae: 5.1457 - val_mse: 29.8170\n",
            "Epoch 115/300\n",
            "10/10 [==============================] - 0s 3ms/step - loss: 5.0070 - mae: 5.0070 - mse: 28.7422 - val_loss: 5.0438 - val_mae: 5.0438 - val_mse: 28.6810\n",
            "Epoch 116/300\n",
            "10/10 [==============================] - 0s 4ms/step - loss: 4.9132 - mae: 4.9132 - mse: 27.7413 - val_loss: 4.9413 - val_mae: 4.9413 - val_mse: 27.5606\n",
            "Epoch 117/300\n",
            "10/10 [==============================] - 0s 3ms/step - loss: 4.8190 - mae: 4.8190 - mse: 26.7447 - val_loss: 4.8401 - val_mae: 4.8401 - val_mse: 26.4674\n",
            "Epoch 118/300\n",
            "10/10 [==============================] - 0s 4ms/step - loss: 4.7263 - mae: 4.7263 - mse: 25.8076 - val_loss: 4.7373 - val_mae: 4.7373 - val_mse: 25.3868\n",
            "Epoch 119/300\n",
            "10/10 [==============================] - 0s 3ms/step - loss: 4.6312 - mae: 4.6312 - mse: 24.8725 - val_loss: 4.6355 - val_mae: 4.6355 - val_mse: 24.3469\n",
            "Epoch 120/300\n",
            "10/10 [==============================] - 0s 4ms/step - loss: 4.5361 - mae: 4.5361 - mse: 23.9432 - val_loss: 4.5346 - val_mae: 4.5346 - val_mse: 23.3454\n",
            "Epoch 121/300\n",
            "10/10 [==============================] - 0s 4ms/step - loss: 4.4413 - mae: 4.4413 - mse: 23.0529 - val_loss: 4.4342 - val_mae: 4.4342 - val_mse: 22.3775\n",
            "Epoch 122/300\n",
            "10/10 [==============================] - 0s 4ms/step - loss: 4.3478 - mae: 4.3478 - mse: 22.1997 - val_loss: 4.3331 - val_mae: 4.3331 - val_mse: 21.4323\n",
            "Epoch 123/300\n",
            "10/10 [==============================] - 0s 3ms/step - loss: 4.2549 - mae: 4.2549 - mse: 21.3767 - val_loss: 4.2314 - val_mae: 4.2314 - val_mse: 20.5119\n",
            "Epoch 124/300\n",
            "10/10 [==============================] - 0s 4ms/step - loss: 4.1629 - mae: 4.1629 - mse: 20.5827 - val_loss: 4.1292 - val_mae: 4.1292 - val_mse: 19.6153\n",
            "Epoch 125/300\n",
            "10/10 [==============================] - 0s 4ms/step - loss: 4.0679 - mae: 4.0679 - mse: 19.7851 - val_loss: 4.0295 - val_mae: 4.0295 - val_mse: 18.7701\n",
            "Epoch 126/300\n",
            "10/10 [==============================] - 0s 4ms/step - loss: 3.9763 - mae: 3.9763 - mse: 19.0466 - val_loss: 3.9285 - val_mae: 3.9285 - val_mse: 17.9434\n",
            "Epoch 127/300\n",
            "10/10 [==============================] - 0s 3ms/step - loss: 3.8848 - mae: 3.8848 - mse: 18.3172 - val_loss: 3.8270 - val_mae: 3.8270 - val_mse: 17.1418\n",
            "Epoch 128/300\n",
            "10/10 [==============================] - 0s 4ms/step - loss: 3.7924 - mae: 3.7924 - mse: 17.6240 - val_loss: 3.7267 - val_mae: 3.7267 - val_mse: 16.3785\n",
            "Epoch 129/300\n",
            "10/10 [==============================] - 0s 4ms/step - loss: 3.7036 - mae: 3.7036 - mse: 16.9838 - val_loss: 3.6261 - val_mae: 3.6261 - val_mse: 15.6425\n",
            "Epoch 130/300\n",
            "10/10 [==============================] - 0s 4ms/step - loss: 3.6129 - mae: 3.6129 - mse: 16.3279 - val_loss: 3.5284 - val_mae: 3.5284 - val_mse: 14.9550\n",
            "Epoch 131/300\n",
            "10/10 [==============================] - 0s 6ms/step - loss: 3.5263 - mae: 3.5263 - mse: 15.7377 - val_loss: 3.4303 - val_mae: 3.4303 - val_mse: 14.2919\n",
            "Epoch 132/300\n",
            "10/10 [==============================] - 0s 4ms/step - loss: 3.4396 - mae: 3.4396 - mse: 15.1574 - val_loss: 3.3336 - val_mae: 3.3336 - val_mse: 13.6659\n",
            "Epoch 133/300\n",
            "10/10 [==============================] - 0s 6ms/step - loss: 3.3551 - mae: 3.3551 - mse: 14.6084 - val_loss: 3.2371 - val_mae: 3.2371 - val_mse: 13.0672\n",
            "Epoch 134/300\n",
            "10/10 [==============================] - 0s 4ms/step - loss: 3.2711 - mae: 3.2711 - mse: 14.1014 - val_loss: 3.1403 - val_mae: 3.1403 - val_mse: 12.4941\n",
            "Epoch 135/300\n",
            "10/10 [==============================] - 0s 4ms/step - loss: 3.1878 - mae: 3.1878 - mse: 13.6036 - val_loss: 3.0427 - val_mae: 3.0427 - val_mse: 11.9433\n",
            "Epoch 136/300\n",
            "10/10 [==============================] - 0s 4ms/step - loss: 3.1036 - mae: 3.1036 - mse: 13.1362 - val_loss: 2.9478 - val_mae: 2.9478 - val_mse: 11.4205\n",
            "Epoch 137/300\n",
            "10/10 [==============================] - 0s 4ms/step - loss: 3.0198 - mae: 3.0198 - mse: 12.6726 - val_loss: 2.8600 - val_mae: 2.8600 - val_mse: 10.9399\n",
            "Epoch 138/300\n",
            "10/10 [==============================] - 0s 4ms/step - loss: 2.9409 - mae: 2.9409 - mse: 12.2665 - val_loss: 2.7721 - val_mae: 2.7721 - val_mse: 10.4844\n",
            "Epoch 139/300\n",
            "10/10 [==============================] - 0s 4ms/step - loss: 2.8624 - mae: 2.8624 - mse: 11.8755 - val_loss: 2.6877 - val_mae: 2.6877 - val_mse: 10.0668\n",
            "Epoch 140/300\n",
            "10/10 [==============================] - 0s 4ms/step - loss: 2.7864 - mae: 2.7864 - mse: 11.5081 - val_loss: 2.6053 - val_mae: 2.6053 - val_mse: 9.6750\n",
            "Epoch 141/300\n",
            "10/10 [==============================] - 0s 3ms/step - loss: 2.7144 - mae: 2.7144 - mse: 11.1831 - val_loss: 2.5209 - val_mae: 2.5209 - val_mse: 9.2984\n",
            "Epoch 142/300\n",
            "10/10 [==============================] - 0s 3ms/step - loss: 2.6381 - mae: 2.6381 - mse: 10.8501 - val_loss: 2.4408 - val_mae: 2.4408 - val_mse: 8.9641\n",
            "Epoch 143/300\n",
            "10/10 [==============================] - 0s 4ms/step - loss: 2.5670 - mae: 2.5670 - mse: 10.5693 - val_loss: 2.3606 - val_mae: 2.3606 - val_mse: 8.6522\n",
            "Epoch 144/300\n",
            "10/10 [==============================] - 0s 3ms/step - loss: 2.4981 - mae: 2.4981 - mse: 10.3160 - val_loss: 2.2820 - val_mae: 2.2820 - val_mse: 8.3644\n",
            "Epoch 145/300\n",
            "10/10 [==============================] - 0s 4ms/step - loss: 2.4358 - mae: 2.4358 - mse: 10.0623 - val_loss: 2.2092 - val_mae: 2.2092 - val_mse: 8.1150\n",
            "Epoch 146/300\n",
            "10/10 [==============================] - 0s 4ms/step - loss: 2.3780 - mae: 2.3780 - mse: 9.8589 - val_loss: 2.1384 - val_mae: 2.1384 - val_mse: 7.8914\n",
            "Epoch 147/300\n",
            "10/10 [==============================] - 0s 3ms/step - loss: 2.3230 - mae: 2.3230 - mse: 9.6615 - val_loss: 2.0712 - val_mae: 2.0712 - val_mse: 7.6940\n",
            "Epoch 148/300\n",
            "10/10 [==============================] - 0s 4ms/step - loss: 2.2793 - mae: 2.2793 - mse: 9.5276 - val_loss: 2.0077 - val_mae: 2.0077 - val_mse: 7.5200\n",
            "Epoch 149/300\n",
            "10/10 [==============================] - 0s 3ms/step - loss: 2.2353 - mae: 2.2353 - mse: 9.3664 - val_loss: 1.9528 - val_mae: 1.9528 - val_mse: 7.3748\n",
            "Epoch 150/300\n",
            "10/10 [==============================] - 0s 4ms/step - loss: 2.1974 - mae: 2.1974 - mse: 9.2552 - val_loss: 1.9020 - val_mae: 1.9020 - val_mse: 7.2476\n",
            "Epoch 151/300\n",
            "10/10 [==============================] - 0s 3ms/step - loss: 2.1654 - mae: 2.1654 - mse: 9.1485 - val_loss: 1.8575 - val_mae: 1.8575 - val_mse: 7.1425\n",
            "Epoch 152/300\n",
            "10/10 [==============================] - 0s 4ms/step - loss: 2.1359 - mae: 2.1359 - mse: 9.0681 - val_loss: 1.8150 - val_mae: 1.8150 - val_mse: 7.0518\n",
            "Epoch 153/300\n",
            "10/10 [==============================] - 0s 5ms/step - loss: 2.1077 - mae: 2.1077 - mse: 8.9923 - val_loss: 1.7783 - val_mae: 1.7783 - val_mse: 6.9716\n",
            "Epoch 154/300\n",
            "10/10 [==============================] - 0s 5ms/step - loss: 2.0820 - mae: 2.0820 - mse: 8.9260 - val_loss: 1.7503 - val_mae: 1.7503 - val_mse: 6.9059\n",
            "Epoch 155/300\n",
            "10/10 [==============================] - 0s 4ms/step - loss: 2.0602 - mae: 2.0602 - mse: 8.8684 - val_loss: 1.7223 - val_mae: 1.7223 - val_mse: 6.8457\n",
            "Epoch 156/300\n",
            "10/10 [==============================] - 0s 5ms/step - loss: 2.0380 - mae: 2.0380 - mse: 8.8193 - val_loss: 1.6993 - val_mae: 1.6993 - val_mse: 6.7947\n",
            "Epoch 157/300\n",
            "10/10 [==============================] - 0s 4ms/step - loss: 2.0167 - mae: 2.0167 - mse: 8.7843 - val_loss: 1.6805 - val_mae: 1.6805 - val_mse: 6.7559\n",
            "Epoch 158/300\n",
            "10/10 [==============================] - 0s 4ms/step - loss: 1.9994 - mae: 1.9994 - mse: 8.7600 - val_loss: 1.6624 - val_mae: 1.6624 - val_mse: 6.7226\n",
            "Epoch 159/300\n",
            "10/10 [==============================] - 0s 4ms/step - loss: 1.9828 - mae: 1.9828 - mse: 8.7258 - val_loss: 1.6511 - val_mae: 1.6511 - val_mse: 6.7010\n",
            "Epoch 160/300\n",
            "10/10 [==============================] - 0s 4ms/step - loss: 1.9722 - mae: 1.9722 - mse: 8.7152 - val_loss: 1.6403 - val_mae: 1.6403 - val_mse: 6.6837\n",
            "Epoch 161/300\n",
            "10/10 [==============================] - 0s 3ms/step - loss: 1.9613 - mae: 1.9613 - mse: 8.7037 - val_loss: 1.6298 - val_mae: 1.6298 - val_mse: 6.6711\n",
            "Epoch 162/300\n",
            "10/10 [==============================] - 0s 3ms/step - loss: 1.9518 - mae: 1.9518 - mse: 8.6994 - val_loss: 1.6219 - val_mae: 1.6219 - val_mse: 6.6625\n",
            "Epoch 163/300\n",
            "10/10 [==============================] - 0s 4ms/step - loss: 1.9430 - mae: 1.9430 - mse: 8.6924 - val_loss: 1.6162 - val_mae: 1.6162 - val_mse: 6.6581\n",
            "Epoch 164/300\n",
            "10/10 [==============================] - 0s 4ms/step - loss: 1.9366 - mae: 1.9366 - mse: 8.6895 - val_loss: 1.6114 - val_mae: 1.6114 - val_mse: 6.6561\n",
            "Epoch 165/300\n",
            "10/10 [==============================] - 0s 4ms/step - loss: 1.9320 - mae: 1.9320 - mse: 8.6932 - val_loss: 1.6077 - val_mae: 1.6077 - val_mse: 6.6562\n",
            "Epoch 166/300\n",
            "10/10 [==============================] - 0s 3ms/step - loss: 1.9265 - mae: 1.9265 - mse: 8.6901 - val_loss: 1.6072 - val_mae: 1.6072 - val_mse: 6.6576\n",
            "Epoch 167/300\n",
            "10/10 [==============================] - 0s 4ms/step - loss: 1.9238 - mae: 1.9238 - mse: 8.6972 - val_loss: 1.6065 - val_mae: 1.6065 - val_mse: 6.6610\n",
            "Epoch 168/300\n",
            "10/10 [==============================] - 0s 4ms/step - loss: 1.9198 - mae: 1.9198 - mse: 8.7001 - val_loss: 1.6059 - val_mae: 1.6059 - val_mse: 6.6650\n",
            "Epoch 169/300\n",
            "10/10 [==============================] - 0s 4ms/step - loss: 1.9164 - mae: 1.9164 - mse: 8.7037 - val_loss: 1.6058 - val_mae: 1.6058 - val_mse: 6.6699\n",
            "Epoch 170/300\n",
            "10/10 [==============================] - 0s 5ms/step - loss: 1.9145 - mae: 1.9145 - mse: 8.7114 - val_loss: 1.6075 - val_mae: 1.6075 - val_mse: 6.6755\n",
            "Epoch 171/300\n",
            "10/10 [==============================] - 0s 4ms/step - loss: 1.9128 - mae: 1.9128 - mse: 8.7134 - val_loss: 1.6084 - val_mae: 1.6084 - val_mse: 6.6790\n",
            "Epoch 172/300\n",
            "10/10 [==============================] - 0s 4ms/step - loss: 1.9123 - mae: 1.9123 - mse: 8.7197 - val_loss: 1.6099 - val_mae: 1.6099 - val_mse: 6.6854\n",
            "Epoch 173/300\n",
            "10/10 [==============================] - 0s 4ms/step - loss: 1.9105 - mae: 1.9105 - mse: 8.7227 - val_loss: 1.6110 - val_mae: 1.6110 - val_mse: 6.6905\n",
            "Epoch 174/300\n",
            "10/10 [==============================] - 0s 6ms/step - loss: 1.9097 - mae: 1.9097 - mse: 8.7326 - val_loss: 1.6123 - val_mae: 1.6123 - val_mse: 6.6969\n",
            "Epoch 175/300\n",
            "10/10 [==============================] - 0s 4ms/step - loss: 1.9080 - mae: 1.9080 - mse: 8.7353 - val_loss: 1.6131 - val_mae: 1.6131 - val_mse: 6.7009\n",
            "Epoch 176/300\n",
            "10/10 [==============================] - 0s 4ms/step - loss: 1.9072 - mae: 1.9072 - mse: 8.7407 - val_loss: 1.6143 - val_mae: 1.6143 - val_mse: 6.7081\n",
            "Epoch 177/300\n",
            "10/10 [==============================] - 0s 4ms/step - loss: 1.9060 - mae: 1.9060 - mse: 8.7478 - val_loss: 1.6155 - val_mae: 1.6155 - val_mse: 6.7155\n",
            "Epoch 178/300\n",
            "10/10 [==============================] - 0s 4ms/step - loss: 1.9046 - mae: 1.9046 - mse: 8.7536 - val_loss: 1.6166 - val_mae: 1.6166 - val_mse: 6.7225\n",
            "Epoch 179/300\n",
            "10/10 [==============================] - 0s 4ms/step - loss: 1.9037 - mae: 1.9037 - mse: 8.7630 - val_loss: 1.6181 - val_mae: 1.6181 - val_mse: 6.7303\n",
            "Epoch 180/300\n",
            "10/10 [==============================] - 0s 5ms/step - loss: 1.9033 - mae: 1.9033 - mse: 8.7659 - val_loss: 1.6187 - val_mae: 1.6187 - val_mse: 6.7322\n",
            "Epoch 181/300\n",
            "10/10 [==============================] - 0s 4ms/step - loss: 1.9029 - mae: 1.9029 - mse: 8.7688 - val_loss: 1.6196 - val_mae: 1.6196 - val_mse: 6.7355\n",
            "Epoch 182/300\n",
            "10/10 [==============================] - 0s 4ms/step - loss: 1.9028 - mae: 1.9028 - mse: 8.7735 - val_loss: 1.6209 - val_mae: 1.6209 - val_mse: 6.7401\n",
            "Epoch 183/300\n",
            "10/10 [==============================] - 0s 3ms/step - loss: 1.9027 - mae: 1.9027 - mse: 8.7768 - val_loss: 1.6222 - val_mae: 1.6222 - val_mse: 6.7443\n",
            "Epoch 184/300\n",
            "10/10 [==============================] - 0s 4ms/step - loss: 1.9023 - mae: 1.9023 - mse: 8.7795 - val_loss: 1.6228 - val_mae: 1.6228 - val_mse: 6.7456\n",
            "Epoch 185/300\n",
            "10/10 [==============================] - 0s 4ms/step - loss: 1.9022 - mae: 1.9022 - mse: 8.7808 - val_loss: 1.6234 - val_mae: 1.6234 - val_mse: 6.7475\n",
            "Epoch 186/300\n",
            "10/10 [==============================] - 0s 5ms/step - loss: 1.9021 - mae: 1.9021 - mse: 8.7839 - val_loss: 1.6246 - val_mae: 1.6246 - val_mse: 6.7513\n",
            "Epoch 187/300\n",
            "10/10 [==============================] - 0s 3ms/step - loss: 1.9019 - mae: 1.9019 - mse: 8.7862 - val_loss: 1.6253 - val_mae: 1.6253 - val_mse: 6.7534\n",
            "Epoch 188/300\n",
            "10/10 [==============================] - 0s 4ms/step - loss: 1.9018 - mae: 1.9018 - mse: 8.7882 - val_loss: 1.6259 - val_mae: 1.6259 - val_mse: 6.7550\n",
            "Epoch 189/300\n",
            "10/10 [==============================] - 0s 3ms/step - loss: 1.9017 - mae: 1.9017 - mse: 8.7894 - val_loss: 1.6265 - val_mae: 1.6265 - val_mse: 6.7569\n",
            "Epoch 190/300\n",
            "10/10 [==============================] - 0s 4ms/step - loss: 1.9016 - mae: 1.9016 - mse: 8.7937 - val_loss: 1.6282 - val_mae: 1.6282 - val_mse: 6.7626\n",
            "Epoch 191/300\n",
            "10/10 [==============================] - 0s 6ms/step - loss: 1.9013 - mae: 1.9013 - mse: 8.7979 - val_loss: 1.6290 - val_mae: 1.6290 - val_mse: 6.7655\n",
            "Epoch 192/300\n",
            "10/10 [==============================] - 0s 3ms/step - loss: 1.9014 - mae: 1.9014 - mse: 8.8024 - val_loss: 1.6306 - val_mae: 1.6306 - val_mse: 6.7709\n",
            "Epoch 193/300\n",
            "10/10 [==============================] - 0s 4ms/step - loss: 1.9010 - mae: 1.9010 - mse: 8.8039 - val_loss: 1.6306 - val_mae: 1.6306 - val_mse: 6.7706\n",
            "Epoch 194/300\n",
            "10/10 [==============================] - 0s 5ms/step - loss: 1.9010 - mae: 1.9010 - mse: 8.8073 - val_loss: 1.6321 - val_mae: 1.6321 - val_mse: 6.7760\n",
            "Epoch 195/300\n",
            "10/10 [==============================] - 0s 4ms/step - loss: 1.9009 - mae: 1.9009 - mse: 8.8121 - val_loss: 1.6335 - val_mae: 1.6335 - val_mse: 6.7812\n",
            "Epoch 196/300\n",
            "10/10 [==============================] - 0s 3ms/step - loss: 1.9005 - mae: 1.9005 - mse: 8.8145 - val_loss: 1.6341 - val_mae: 1.6341 - val_mse: 6.7834\n",
            "Epoch 197/300\n",
            "10/10 [==============================] - 0s 5ms/step - loss: 1.9005 - mae: 1.9005 - mse: 8.8186 - val_loss: 1.6352 - val_mae: 1.6352 - val_mse: 6.7877\n",
            "Epoch 198/300\n",
            "10/10 [==============================] - 0s 5ms/step - loss: 1.9001 - mae: 1.9001 - mse: 8.8200 - val_loss: 1.6354 - val_mae: 1.6354 - val_mse: 6.7881\n",
            "Epoch 199/300\n",
            "10/10 [==============================] - 0s 3ms/step - loss: 1.9000 - mae: 1.9000 - mse: 8.8224 - val_loss: 1.6366 - val_mae: 1.6366 - val_mse: 6.7926\n",
            "Epoch 200/300\n",
            "10/10 [==============================] - 0s 4ms/step - loss: 1.8998 - mae: 1.8998 - mse: 8.8258 - val_loss: 1.6373 - val_mae: 1.6373 - val_mse: 6.7951\n",
            "Epoch 201/300\n",
            "10/10 [==============================] - 0s 4ms/step - loss: 1.8997 - mae: 1.8997 - mse: 8.8270 - val_loss: 1.6378 - val_mae: 1.6378 - val_mse: 6.7971\n",
            "Epoch 202/300\n",
            "10/10 [==============================] - 0s 4ms/step - loss: 1.8996 - mae: 1.8996 - mse: 8.8314 - val_loss: 1.6393 - val_mae: 1.6393 - val_mse: 6.8032\n",
            "Epoch 203/300\n",
            "10/10 [==============================] - 0s 4ms/step - loss: 1.8993 - mae: 1.8993 - mse: 8.8360 - val_loss: 1.6402 - val_mae: 1.6402 - val_mse: 6.8065\n",
            "Epoch 204/300\n",
            "10/10 [==============================] - 0s 4ms/step - loss: 1.8994 - mae: 1.8994 - mse: 8.8373 - val_loss: 1.6401 - val_mae: 1.6401 - val_mse: 6.8057\n",
            "Epoch 205/300\n",
            "10/10 [==============================] - 0s 4ms/step - loss: 1.8993 - mae: 1.8993 - mse: 8.8359 - val_loss: 1.6399 - val_mae: 1.6399 - val_mse: 6.8048\n",
            "Epoch 206/300\n",
            "10/10 [==============================] - 0s 4ms/step - loss: 1.8996 - mae: 1.8996 - mse: 8.8342 - val_loss: 1.6396 - val_mae: 1.6396 - val_mse: 6.8032\n",
            "Epoch 207/300\n",
            "10/10 [==============================] - 0s 4ms/step - loss: 1.8993 - mae: 1.8993 - mse: 8.8378 - val_loss: 1.6409 - val_mae: 1.6409 - val_mse: 6.8077\n",
            "Epoch 208/300\n",
            "10/10 [==============================] - 0s 5ms/step - loss: 1.8993 - mae: 1.8993 - mse: 8.8383 - val_loss: 1.6404 - val_mae: 1.6404 - val_mse: 6.8057\n",
            "Epoch 209/300\n",
            "10/10 [==============================] - 0s 4ms/step - loss: 1.8992 - mae: 1.8992 - mse: 8.8351 - val_loss: 1.6393 - val_mae: 1.6393 - val_mse: 6.8009\n",
            "Epoch 210/300\n",
            "10/10 [==============================] - 0s 4ms/step - loss: 1.8993 - mae: 1.8993 - mse: 8.8311 - val_loss: 1.6389 - val_mae: 1.6389 - val_mse: 6.7988\n",
            "Epoch 211/300\n",
            "10/10 [==============================] - 0s 3ms/step - loss: 1.8991 - mae: 1.8991 - mse: 8.8317 - val_loss: 1.6397 - val_mae: 1.6397 - val_mse: 6.8021\n",
            "Epoch 212/300\n",
            "10/10 [==============================] - 0s 4ms/step - loss: 1.8991 - mae: 1.8991 - mse: 8.8340 - val_loss: 1.6399 - val_mae: 1.6399 - val_mse: 6.8022\n",
            "Epoch 213/300\n",
            "10/10 [==============================] - 0s 4ms/step - loss: 1.8990 - mae: 1.8990 - mse: 8.8330 - val_loss: 1.6397 - val_mae: 1.6397 - val_mse: 6.8011\n",
            "Epoch 214/300\n",
            "10/10 [==============================] - 0s 4ms/step - loss: 1.8990 - mae: 1.8990 - mse: 8.8328 - val_loss: 1.6396 - val_mae: 1.6396 - val_mse: 6.8004\n",
            "Epoch 215/300\n",
            "10/10 [==============================] - 0s 4ms/step - loss: 1.8990 - mae: 1.8990 - mse: 8.8321 - val_loss: 1.6393 - val_mae: 1.6393 - val_mse: 6.7987\n",
            "Epoch 216/300\n",
            "10/10 [==============================] - 0s 4ms/step - loss: 1.8989 - mae: 1.8989 - mse: 8.8305 - val_loss: 1.6397 - val_mae: 1.6397 - val_mse: 6.8000\n",
            "Epoch 217/300\n",
            "10/10 [==============================] - 0s 4ms/step - loss: 1.8990 - mae: 1.8990 - mse: 8.8305 - val_loss: 1.6394 - val_mae: 1.6394 - val_mse: 6.7986\n",
            "Epoch 218/300\n",
            "10/10 [==============================] - 0s 4ms/step - loss: 1.8996 - mae: 1.8996 - mse: 8.8370 - val_loss: 1.6407 - val_mae: 1.6407 - val_mse: 6.8035\n",
            "Epoch 219/300\n",
            "10/10 [==============================] - 0s 4ms/step - loss: 1.8988 - mae: 1.8988 - mse: 8.8331 - val_loss: 1.6396 - val_mae: 1.6396 - val_mse: 6.7988\n",
            "Epoch 220/300\n",
            "10/10 [==============================] - 0s 5ms/step - loss: 1.8989 - mae: 1.8989 - mse: 8.8277 - val_loss: 1.6383 - val_mae: 1.6383 - val_mse: 6.7928\n",
            "Epoch 221/300\n",
            "10/10 [==============================] - 0s 4ms/step - loss: 1.8989 - mae: 1.8989 - mse: 8.8262 - val_loss: 1.6387 - val_mae: 1.6387 - val_mse: 6.7943\n",
            "Epoch 222/300\n",
            "10/10 [==============================] - 0s 6ms/step - loss: 1.8989 - mae: 1.8989 - mse: 8.8288 - val_loss: 1.6399 - val_mae: 1.6399 - val_mse: 6.7989\n",
            "Epoch 223/300\n",
            "10/10 [==============================] - 0s 4ms/step - loss: 1.8988 - mae: 1.8988 - mse: 8.8287 - val_loss: 1.6393 - val_mae: 1.6393 - val_mse: 6.7963\n",
            "Epoch 224/300\n",
            "10/10 [==============================] - 0s 4ms/step - loss: 1.8986 - mae: 1.8986 - mse: 8.8291 - val_loss: 1.6394 - val_mae: 1.6394 - val_mse: 6.7962\n",
            "Epoch 225/300\n",
            "10/10 [==============================] - 0s 4ms/step - loss: 1.8989 - mae: 1.8989 - mse: 8.8269 - val_loss: 1.6381 - val_mae: 1.6381 - val_mse: 6.7904\n",
            "Epoch 226/300\n",
            "10/10 [==============================] - 0s 5ms/step - loss: 1.8988 - mae: 1.8988 - mse: 8.8274 - val_loss: 1.6398 - val_mae: 1.6398 - val_mse: 6.7970\n",
            "Epoch 227/300\n",
            "10/10 [==============================] - 0s 4ms/step - loss: 1.8985 - mae: 1.8985 - mse: 8.8282 - val_loss: 1.6390 - val_mae: 1.6390 - val_mse: 6.7934\n",
            "Epoch 228/300\n",
            "10/10 [==============================] - 0s 4ms/step - loss: 1.8985 - mae: 1.8985 - mse: 8.8256 - val_loss: 1.6392 - val_mae: 1.6392 - val_mse: 6.7941\n",
            "Epoch 229/300\n",
            "10/10 [==============================] - 0s 4ms/step - loss: 1.8984 - mae: 1.8984 - mse: 8.8264 - val_loss: 1.6392 - val_mae: 1.6392 - val_mse: 6.7935\n",
            "Epoch 230/300\n",
            "10/10 [==============================] - 0s 4ms/step - loss: 1.8984 - mae: 1.8984 - mse: 8.8249 - val_loss: 1.6388 - val_mae: 1.6388 - val_mse: 6.7914\n",
            "Epoch 231/300\n",
            "10/10 [==============================] - 0s 4ms/step - loss: 1.8986 - mae: 1.8986 - mse: 8.8274 - val_loss: 1.6399 - val_mae: 1.6399 - val_mse: 6.7956\n",
            "Epoch 232/300\n",
            "10/10 [==============================] - 0s 4ms/step - loss: 1.8984 - mae: 1.8984 - mse: 8.8273 - val_loss: 1.6389 - val_mae: 1.6389 - val_mse: 6.7914\n",
            "Epoch 233/300\n",
            "10/10 [==============================] - 0s 4ms/step - loss: 1.8983 - mae: 1.8983 - mse: 8.8235 - val_loss: 1.6390 - val_mae: 1.6390 - val_mse: 6.7911\n",
            "Epoch 234/300\n",
            "10/10 [==============================] - 0s 5ms/step - loss: 1.8983 - mae: 1.8983 - mse: 8.8254 - val_loss: 1.6397 - val_mae: 1.6397 - val_mse: 6.7937\n",
            "Epoch 235/300\n",
            "10/10 [==============================] - 0s 5ms/step - loss: 1.8982 - mae: 1.8982 - mse: 8.8248 - val_loss: 1.6390 - val_mae: 1.6390 - val_mse: 6.7903\n",
            "Epoch 236/300\n",
            "10/10 [==============================] - 0s 4ms/step - loss: 1.8982 - mae: 1.8982 - mse: 8.8235 - val_loss: 1.6391 - val_mae: 1.6391 - val_mse: 6.7906\n",
            "Epoch 237/300\n",
            "10/10 [==============================] - 0s 4ms/step - loss: 1.8981 - mae: 1.8981 - mse: 8.8223 - val_loss: 1.6388 - val_mae: 1.6388 - val_mse: 6.7888\n",
            "Epoch 238/300\n",
            "10/10 [==============================] - 0s 3ms/step - loss: 1.8982 - mae: 1.8982 - mse: 8.8211 - val_loss: 1.6388 - val_mae: 1.6388 - val_mse: 6.7885\n",
            "Epoch 239/300\n",
            "10/10 [==============================] - 0s 3ms/step - loss: 1.8981 - mae: 1.8981 - mse: 8.8232 - val_loss: 1.6400 - val_mae: 1.6400 - val_mse: 6.7927\n",
            "Epoch 240/300\n",
            "10/10 [==============================] - 0s 4ms/step - loss: 1.8981 - mae: 1.8981 - mse: 8.8235 - val_loss: 1.6387 - val_mae: 1.6387 - val_mse: 6.7875\n",
            "Epoch 241/300\n",
            "10/10 [==============================] - 0s 4ms/step - loss: 1.8980 - mae: 1.8980 - mse: 8.8199 - val_loss: 1.6386 - val_mae: 1.6386 - val_mse: 6.7867\n",
            "Epoch 242/300\n",
            "10/10 [==============================] - 0s 4ms/step - loss: 1.8981 - mae: 1.8981 - mse: 8.8227 - val_loss: 1.6393 - val_mae: 1.6393 - val_mse: 6.7891\n",
            "Epoch 243/300\n",
            "10/10 [==============================] - 0s 4ms/step - loss: 1.8979 - mae: 1.8979 - mse: 8.8194 - val_loss: 1.6384 - val_mae: 1.6384 - val_mse: 6.7849\n",
            "Epoch 244/300\n",
            "10/10 [==============================] - 0s 5ms/step - loss: 1.8979 - mae: 1.8979 - mse: 8.8177 - val_loss: 1.6383 - val_mae: 1.6383 - val_mse: 6.7841\n",
            "Epoch 245/300\n",
            "10/10 [==============================] - 0s 4ms/step - loss: 1.8979 - mae: 1.8979 - mse: 8.8197 - val_loss: 1.6390 - val_mae: 1.6390 - val_mse: 6.7865\n",
            "Epoch 246/300\n",
            "10/10 [==============================] - 0s 4ms/step - loss: 1.8978 - mae: 1.8978 - mse: 8.8194 - val_loss: 1.6389 - val_mae: 1.6389 - val_mse: 6.7859\n",
            "Epoch 247/300\n",
            "10/10 [==============================] - 0s 4ms/step - loss: 1.8977 - mae: 1.8977 - mse: 8.8187 - val_loss: 1.6383 - val_mae: 1.6383 - val_mse: 6.7830\n",
            "Epoch 248/300\n",
            "10/10 [==============================] - 0s 5ms/step - loss: 1.8977 - mae: 1.8977 - mse: 8.8164 - val_loss: 1.6381 - val_mae: 1.6381 - val_mse: 6.7819\n",
            "Epoch 249/300\n",
            "10/10 [==============================] - 0s 5ms/step - loss: 1.8977 - mae: 1.8977 - mse: 8.8159 - val_loss: 1.6389 - val_mae: 1.6389 - val_mse: 6.7845\n",
            "Epoch 250/300\n",
            "10/10 [==============================] - 0s 4ms/step - loss: 1.8976 - mae: 1.8976 - mse: 8.8181 - val_loss: 1.6390 - val_mae: 1.6390 - val_mse: 6.7848\n",
            "Epoch 251/300\n",
            "10/10 [==============================] - 0s 5ms/step - loss: 1.8976 - mae: 1.8976 - mse: 8.8159 - val_loss: 1.6381 - val_mae: 1.6381 - val_mse: 6.7803\n",
            "Epoch 252/300\n",
            "10/10 [==============================] - 0s 6ms/step - loss: 1.8979 - mae: 1.8979 - mse: 8.8187 - val_loss: 1.6395 - val_mae: 1.6395 - val_mse: 6.7856\n",
            "Epoch 253/300\n",
            "10/10 [==============================] - 0s 4ms/step - loss: 1.8977 - mae: 1.8977 - mse: 8.8160 - val_loss: 1.6384 - val_mae: 1.6384 - val_mse: 6.7808\n",
            "Epoch 254/300\n",
            "10/10 [==============================] - 0s 4ms/step - loss: 1.8974 - mae: 1.8974 - mse: 8.8155 - val_loss: 1.6384 - val_mae: 1.6384 - val_mse: 6.7808\n",
            "Epoch 255/300\n",
            "10/10 [==============================] - 0s 4ms/step - loss: 1.8975 - mae: 1.8975 - mse: 8.8137 - val_loss: 1.6385 - val_mae: 1.6385 - val_mse: 6.7805\n",
            "Epoch 256/300\n",
            "10/10 [==============================] - 0s 5ms/step - loss: 1.8973 - mae: 1.8973 - mse: 8.8153 - val_loss: 1.6388 - val_mae: 1.6388 - val_mse: 6.7815\n",
            "Epoch 257/300\n",
            "10/10 [==============================] - 0s 4ms/step - loss: 1.8973 - mae: 1.8973 - mse: 8.8146 - val_loss: 1.6383 - val_mae: 1.6383 - val_mse: 6.7791\n",
            "Epoch 258/300\n",
            "10/10 [==============================] - 0s 4ms/step - loss: 1.8973 - mae: 1.8973 - mse: 8.8109 - val_loss: 1.6375 - val_mae: 1.6375 - val_mse: 6.7751\n",
            "Epoch 259/300\n",
            "10/10 [==============================] - 0s 4ms/step - loss: 1.8973 - mae: 1.8973 - mse: 8.8099 - val_loss: 1.6381 - val_mae: 1.6381 - val_mse: 6.7774\n",
            "Epoch 260/300\n",
            "10/10 [==============================] - 0s 4ms/step - loss: 1.8973 - mae: 1.8973 - mse: 8.8134 - val_loss: 1.6382 - val_mae: 1.6382 - val_mse: 6.7770\n",
            "Epoch 261/300\n",
            "10/10 [==============================] - 0s 5ms/step - loss: 1.8972 - mae: 1.8972 - mse: 8.8106 - val_loss: 1.6382 - val_mae: 1.6382 - val_mse: 6.7770\n",
            "Epoch 262/300\n",
            "10/10 [==============================] - 0s 5ms/step - loss: 1.8972 - mae: 1.8972 - mse: 8.8124 - val_loss: 1.6383 - val_mae: 1.6383 - val_mse: 6.7768\n",
            "Epoch 263/300\n",
            "10/10 [==============================] - 0s 4ms/step - loss: 1.8970 - mae: 1.8970 - mse: 8.8116 - val_loss: 1.6388 - val_mae: 1.6388 - val_mse: 6.7785\n",
            "Epoch 264/300\n",
            "10/10 [==============================] - 0s 4ms/step - loss: 1.8970 - mae: 1.8970 - mse: 8.8115 - val_loss: 1.6379 - val_mae: 1.6379 - val_mse: 6.7744\n",
            "Epoch 265/300\n",
            "10/10 [==============================] - 0s 5ms/step - loss: 1.8969 - mae: 1.8969 - mse: 8.8098 - val_loss: 1.6382 - val_mae: 1.6382 - val_mse: 6.7753\n",
            "Epoch 266/300\n",
            "10/10 [==============================] - 0s 4ms/step - loss: 1.8969 - mae: 1.8969 - mse: 8.8093 - val_loss: 1.6379 - val_mae: 1.6379 - val_mse: 6.7736\n",
            "Epoch 267/300\n",
            "10/10 [==============================] - 0s 6ms/step - loss: 1.8971 - mae: 1.8971 - mse: 8.8114 - val_loss: 1.6388 - val_mae: 1.6388 - val_mse: 6.7766\n",
            "Epoch 268/300\n",
            "10/10 [==============================] - 0s 4ms/step - loss: 1.8968 - mae: 1.8968 - mse: 8.8089 - val_loss: 1.6378 - val_mae: 1.6378 - val_mse: 6.7721\n",
            "Epoch 269/300\n",
            "10/10 [==============================] - 0s 4ms/step - loss: 1.8968 - mae: 1.8968 - mse: 8.8062 - val_loss: 1.6379 - val_mae: 1.6379 - val_mse: 6.7721\n",
            "Epoch 270/300\n",
            "10/10 [==============================] - 0s 4ms/step - loss: 1.8969 - mae: 1.8969 - mse: 8.8089 - val_loss: 1.6385 - val_mae: 1.6385 - val_mse: 6.7741\n",
            "Epoch 271/300\n",
            "10/10 [==============================] - 0s 4ms/step - loss: 1.8967 - mae: 1.8967 - mse: 8.8071 - val_loss: 1.6377 - val_mae: 1.6377 - val_mse: 6.7704\n",
            "Epoch 272/300\n",
            "10/10 [==============================] - 0s 4ms/step - loss: 1.8967 - mae: 1.8967 - mse: 8.8048 - val_loss: 1.6380 - val_mae: 1.6380 - val_mse: 6.7712\n",
            "Epoch 273/300\n",
            "10/10 [==============================] - 0s 4ms/step - loss: 1.8966 - mae: 1.8966 - mse: 8.8082 - val_loss: 1.6387 - val_mae: 1.6387 - val_mse: 6.7738\n",
            "Epoch 274/300\n",
            "10/10 [==============================] - 0s 4ms/step - loss: 1.8967 - mae: 1.8967 - mse: 8.8079 - val_loss: 1.6377 - val_mae: 1.6377 - val_mse: 6.7693\n",
            "Epoch 275/300\n",
            "10/10 [==============================] - 0s 4ms/step - loss: 1.8965 - mae: 1.8965 - mse: 8.8048 - val_loss: 1.6381 - val_mae: 1.6381 - val_mse: 6.7706\n",
            "Epoch 276/300\n",
            "10/10 [==============================] - 0s 4ms/step - loss: 1.8965 - mae: 1.8965 - mse: 8.8067 - val_loss: 1.6381 - val_mae: 1.6381 - val_mse: 6.7698\n",
            "Epoch 277/300\n",
            "10/10 [==============================] - 0s 4ms/step - loss: 1.8965 - mae: 1.8965 - mse: 8.8024 - val_loss: 1.6368 - val_mae: 1.6368 - val_mse: 6.7641\n",
            "Epoch 278/300\n",
            "10/10 [==============================] - 0s 5ms/step - loss: 1.8966 - mae: 1.8966 - mse: 8.8033 - val_loss: 1.6381 - val_mae: 1.6381 - val_mse: 6.7690\n",
            "Epoch 279/300\n",
            "10/10 [==============================] - 0s 5ms/step - loss: 1.8963 - mae: 1.8963 - mse: 8.8029 - val_loss: 1.6376 - val_mae: 1.6376 - val_mse: 6.7667\n",
            "Epoch 280/300\n",
            "10/10 [==============================] - 0s 4ms/step - loss: 1.8963 - mae: 1.8963 - mse: 8.8018 - val_loss: 1.6376 - val_mae: 1.6376 - val_mse: 6.7662\n",
            "Epoch 281/300\n",
            "10/10 [==============================] - 0s 5ms/step - loss: 1.8963 - mae: 1.8963 - mse: 8.8013 - val_loss: 1.6379 - val_mae: 1.6379 - val_mse: 6.7666\n",
            "Epoch 282/300\n",
            "10/10 [==============================] - 0s 5ms/step - loss: 1.8961 - mae: 1.8961 - mse: 8.8017 - val_loss: 1.6377 - val_mae: 1.6377 - val_mse: 6.7657\n",
            "Epoch 283/300\n",
            "10/10 [==============================] - 0s 5ms/step - loss: 1.8961 - mae: 1.8961 - mse: 8.8012 - val_loss: 1.6383 - val_mae: 1.6383 - val_mse: 6.7675\n",
            "Epoch 284/300\n",
            "10/10 [==============================] - 0s 4ms/step - loss: 1.8961 - mae: 1.8961 - mse: 8.8030 - val_loss: 1.6381 - val_mae: 1.6381 - val_mse: 6.7663\n",
            "Epoch 285/300\n",
            "10/10 [==============================] - 0s 4ms/step - loss: 1.8960 - mae: 1.8960 - mse: 8.8019 - val_loss: 1.6372 - val_mae: 1.6372 - val_mse: 6.7621\n",
            "Epoch 286/300\n",
            "10/10 [==============================] - 0s 5ms/step - loss: 1.8960 - mae: 1.8960 - mse: 8.7963 - val_loss: 1.6366 - val_mae: 1.6366 - val_mse: 6.7593\n",
            "Epoch 287/300\n",
            "10/10 [==============================] - 0s 4ms/step - loss: 1.8959 - mae: 1.8959 - mse: 8.7979 - val_loss: 1.6375 - val_mae: 1.6375 - val_mse: 6.7624\n",
            "Epoch 288/300\n",
            "10/10 [==============================] - 0s 6ms/step - loss: 1.8958 - mae: 1.8958 - mse: 8.7979 - val_loss: 1.6374 - val_mae: 1.6374 - val_mse: 6.7614\n",
            "Epoch 289/300\n",
            "10/10 [==============================] - 0s 4ms/step - loss: 1.8958 - mae: 1.8958 - mse: 8.7975 - val_loss: 1.6378 - val_mae: 1.6378 - val_mse: 6.7628\n",
            "Epoch 290/300\n",
            "10/10 [==============================] - 0s 5ms/step - loss: 1.8958 - mae: 1.8958 - mse: 8.7982 - val_loss: 1.6377 - val_mae: 1.6377 - val_mse: 6.7619\n",
            "Epoch 291/300\n",
            "10/10 [==============================] - 0s 4ms/step - loss: 1.8957 - mae: 1.8957 - mse: 8.7971 - val_loss: 1.6372 - val_mae: 1.6372 - val_mse: 6.7594\n",
            "Epoch 292/300\n",
            "10/10 [==============================] - 0s 4ms/step - loss: 1.8957 - mae: 1.8957 - mse: 8.7949 - val_loss: 1.6371 - val_mae: 1.6371 - val_mse: 6.7583\n",
            "Epoch 293/300\n",
            "10/10 [==============================] - 0s 4ms/step - loss: 1.8956 - mae: 1.8956 - mse: 8.7945 - val_loss: 1.6373 - val_mae: 1.6373 - val_mse: 6.7590\n",
            "Epoch 294/300\n",
            "10/10 [==============================] - 0s 4ms/step - loss: 1.8959 - mae: 1.8959 - mse: 8.7996 - val_loss: 1.6383 - val_mae: 1.6383 - val_mse: 6.7621\n",
            "Epoch 295/300\n",
            "10/10 [==============================] - 0s 4ms/step - loss: 1.8955 - mae: 1.8955 - mse: 8.7961 - val_loss: 1.6368 - val_mae: 1.6368 - val_mse: 6.7559\n",
            "Epoch 296/300\n",
            "10/10 [==============================] - 0s 4ms/step - loss: 1.8955 - mae: 1.8955 - mse: 8.7910 - val_loss: 1.6366 - val_mae: 1.6366 - val_mse: 6.7545\n",
            "Epoch 297/300\n",
            "10/10 [==============================] - 0s 4ms/step - loss: 1.8954 - mae: 1.8954 - mse: 8.7913 - val_loss: 1.6368 - val_mae: 1.6368 - val_mse: 6.7548\n",
            "Epoch 298/300\n",
            "10/10 [==============================] - 0s 4ms/step - loss: 1.8954 - mae: 1.8954 - mse: 8.7945 - val_loss: 1.6377 - val_mae: 1.6377 - val_mse: 6.7579\n",
            "Epoch 299/300\n",
            "10/10 [==============================] - 0s 6ms/step - loss: 1.8955 - mae: 1.8955 - mse: 8.7907 - val_loss: 1.6361 - val_mae: 1.6361 - val_mse: 6.7508\n",
            "Epoch 300/300\n",
            "10/10 [==============================] - 0s 4ms/step - loss: 1.8954 - mae: 1.8954 - mse: 8.7918 - val_loss: 1.6369 - val_mae: 1.6369 - val_mse: 6.7537\n"
          ],
          "name": "stdout"
        }
      ]
    },
    {
      "cell_type": "code",
      "metadata": {
        "colab": {
          "base_uri": "https://localhost:8080/"
        },
        "id": "xqE741_rrsRp",
        "outputId": "3d9b43e1-a450-4193-8dc7-a9ea3168df43"
      },
      "source": [
        "print(history)"
      ],
      "execution_count": 114,
      "outputs": [
        {
          "output_type": "stream",
          "text": [
            "<tensorflow.python.keras.callbacks.History object at 0x7f146379e7d0>\n"
          ],
          "name": "stdout"
        }
      ]
    },
    {
      "cell_type": "code",
      "metadata": {
        "colab": {
          "base_uri": "https://localhost:8080/"
        },
        "id": "U07GtxBgr8_I",
        "outputId": "c8b599fd-428b-437d-fa82-6822d29190d1"
      },
      "source": [
        "model.summary()"
      ],
      "execution_count": 115,
      "outputs": [
        {
          "output_type": "stream",
          "text": [
            "Model: \"sequential_8\"\n",
            "_________________________________________________________________\n",
            "Layer (type)                 Output Shape              Param #   \n",
            "=================================================================\n",
            "dense_8 (Dense)              (None, 1)                 2         \n",
            "=================================================================\n",
            "Total params: 2\n",
            "Trainable params: 2\n",
            "Non-trainable params: 0\n",
            "_________________________________________________________________\n"
          ],
          "name": "stdout"
        }
      ]
    },
    {
      "cell_type": "code",
      "metadata": {
        "colab": {
          "base_uri": "https://localhost:8080/",
          "height": 1000
        },
        "id": "wKlMJzQfsYtd",
        "outputId": "1a534dfb-82d5-4ff6-a1be-e43e520bdc60"
      },
      "source": [
        "def CurvePlots(tempString):\n",
        "  plt.plot(history.history[tempString])\n",
        "  plt.plot(history.history[f'val_{tempString}'])\n",
        "  plt.xlabel('NumEpochs')\n",
        "  plt.ylabel(tempString)\n",
        "  plt.legend([tempString, f'val_{tempString}'])\n",
        "  plt.show()\n",
        "\n",
        "\n",
        "CurvePlots('mse')\n",
        "CurvePlots('mae')\n",
        "CurvePlots('loss')"
      ],
      "execution_count": 116,
      "outputs": [
        {
          "output_type": "display_data",
          "data": {
            "image/png": "[encoded data removed]",
            "text/plain": [
              "<Figure size 576x396 with 1 Axes>"
            ]
          },
          "metadata": {
            "tags": []
          }
        },
        {
          "output_type": "display_data",
          "data": {
            "image/png": "[encoded data removed]",
            "text/plain": [
              "<Figure size 576x396 with 1 Axes>"
            ]
          },
          "metadata": {
            "tags": []
          }
        },
        {
          "output_type": "display_data",
          "data": {
            "image/png": "[encoded data removed]",
            "text/plain": [
              "<Figure size 576x396 with 1 Axes>"
            ]
          },
          "metadata": {
            "tags": []
          }
        }
      ]
    },
    {
      "cell_type": "code",
      "metadata": {
        "colab": {
          "base_uri": "https://localhost:8080/"
        },
        "id": "HF2dcIRxtUtS",
        "outputId": "584df4a3-8619-41f1-bcf5-bbf8bdab74b1"
      },
      "source": [
        "model.predict([1])"
      ],
      "execution_count": 117,
      "outputs": [
        {
          "output_type": "execute_result",
          "data": {
            "text/plain": [
              "array([[2.220025]], dtype=float32)"
            ]
          },
          "metadata": {
            "tags": []
          },
          "execution_count": 117
        }
      ]
    },
    {
      "cell_type": "code",
      "metadata": {
        "colab": {
          "base_uri": "https://localhost:8080/"
        },
        "id": "kq_MPxNjtj_W",
        "outputId": "0aae00b9-0b04-44d3-c0e2-730e41d5a6ca"
      },
      "source": [
        "print(f'Prediction for input value 1: {model.predict([1])}')\n",
        "\n",
        "TempListforPreds = [1,2,3,4,5]\n",
        "print(f'''input List = {TempListforPreds}\n",
        "\n",
        "\n",
        "List of Predictions:\n",
        "{model.predict(TempListforPreds)}\n",
        "\n",
        "List of Predictions (flattened out):\n",
        "{model.predict(TempListforPreds).flatten()}\n",
        "''')"
      ],
      "execution_count": 118,
      "outputs": [
        {
          "output_type": "stream",
          "text": [
            "Prediction for input value 1: [[2.220025]]\n",
            "input List = [1, 2, 3, 4, 5]\n",
            "\n",
            "\n",
            "List of Predictions:\n",
            "[[2.220025 ]\n",
            " [3.1090279]\n",
            " [3.9980302]\n",
            " [4.887033 ]\n",
            " [5.776036 ]]\n",
            "\n",
            "List of Predictions (flattened out):\n",
            "[2.220025  3.1090279 3.9980302 4.887033  5.776036 ]\n",
            "\n"
          ],
          "name": "stdout"
        }
      ]
    },
    {
      "cell_type": "code",
      "metadata": {
        "colab": {
          "base_uri": "https://localhost:8080/"
        },
        "id": "S_6Dp6-SuIHF",
        "outputId": "f4171228-0160-4e81-ae90-1312057d429f"
      },
      "source": [
        "print(TestFeatures)"
      ],
      "execution_count": 119,
      "outputs": [
        {
          "output_type": "stream",
          "text": [
            "     G1\n",
            "9    14\n",
            "25    6\n",
            "28   11\n",
            "31   17\n",
            "32   17\n",
            "..   ..\n",
            "365  10\n",
            "367   7\n",
            "379  10\n",
            "381   7\n",
            "393  11\n",
            "\n",
            "[79 rows x 1 columns]\n"
          ],
          "name": "stdout"
        }
      ]
    },
    {
      "cell_type": "code",
      "metadata": {
        "id": "9kP6pjYVuORD"
      },
      "source": [
        "TestPreds = model.predict(TestFeatures).flatten()"
      ],
      "execution_count": 120,
      "outputs": []
    },
    {
      "cell_type": "code",
      "metadata": {
        "colab": {
          "base_uri": "https://localhost:8080/"
        },
        "id": "YDeeOOZJuY2P",
        "outputId": "6a3b93b1-3727-49d1-c1f7-f3758a9da4e0"
      },
      "source": [
        "print(len(TestPreds))\n",
        "print(TestPreds)"
      ],
      "execution_count": 121,
      "outputs": [
        {
          "output_type": "stream",
          "text": [
            "79\n",
            "[13.777058   6.665038  11.11005   16.444067  16.444067  11.999053\n",
            " 13.777058  18.22207   18.22207    8.443043  13.777058  12.888056\n",
            "  8.443043   7.5540404  9.332046  12.888056  11.11005   15.555063\n",
            "  7.5540404 10.221048  14.66606   12.888056  13.777058  15.555063\n",
            "  7.5540404  7.5540404  8.443043  10.221048  11.999053  10.221048\n",
            " 11.999053  12.888056  10.221048   6.665038   9.332046  11.999053\n",
            "  7.5540404  8.443043  13.777058   9.332046   9.332046   7.5540404\n",
            " 11.999053   6.665038  12.888056   7.5540404  7.5540404 11.11005\n",
            " 12.888056  16.444067  11.999053  14.66606    9.332046  11.999053\n",
            " 14.66606   11.999053  14.66606   11.999053  14.66606   11.11005\n",
            " 11.999053   8.443043  15.555063   7.5540404 15.555063  11.11005\n",
            " 15.555063  12.888056   8.443043   8.443043  11.999053  17.333069\n",
            " 12.888056  15.555063  10.221048   7.5540404 10.221048   7.5540404\n",
            " 11.11005  ]\n"
          ],
          "name": "stdout"
        }
      ]
    },
    {
      "cell_type": "code",
      "metadata": {
        "colab": {
          "base_uri": "https://localhost:8080/",
          "height": 361
        },
        "id": "3rDAzUQxumPW",
        "outputId": "1bac00a3-effc-4ca0-b2f7-1f1aa91eb216"
      },
      "source": [
        "def predPlot(labels, predictions):\n",
        "  plt.scatter(labels, predictions)\n",
        "  plt.ylabel('Predictions')\n",
        "  plt.xlabel('True Value or Labels')\n",
        "  plt.axis('equal')\n",
        "  plt.axis('square')\n",
        "  plt.xlim([0, plt.xlim()[1]])\n",
        "  plt.ylim([0, plt.ylim()[1]])\n",
        "  plt.show()\n",
        "\n",
        "predPlot(TestLabels, TestPreds)"
      ],
      "execution_count": 122,
      "outputs": [
        {
          "output_type": "display_data",
          "data": {
            "image/png": "[encoded data removed]",
            "text/plain": [
              "<Figure size 576x396 with 1 Axes>"
            ]
          },
          "metadata": {
            "tags": []
          }
        }
      ]
    },
    {
      "cell_type": "code",
      "metadata": {
        "colab": {
          "base_uri": "https://localhost:8080/",
          "height": 361
        },
        "id": "vK0euYVIu2ML",
        "outputId": "6a11c770-2b2c-4180-a195-243c3c3a2b09"
      },
      "source": [
        "def errorPlot(preds, labels, counts):\n",
        "  errors = preds - labels\n",
        "  plt.hist(errors, counts)\n",
        "  plt.xlabel('Error')\n",
        "  plt.ylabel('Counts')\n",
        "  plt.show()\n",
        "\n",
        "errorPlot(TestPreds, TestLabels, numEpochs)\n"
      ],
      "execution_count": 123,
      "outputs": [
        {
          "output_type": "display_data",
          "data": {
            "image/png": "[encoded data removed]",
            "text/plain": [
              "<Figure size 576x396 with 1 Axes>"
            ]
          },
          "metadata": {
            "tags": []
          }
        }
      ]
    }
  ]
}